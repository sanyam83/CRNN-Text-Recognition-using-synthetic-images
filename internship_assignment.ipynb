{
  "nbformat": 4,
  "nbformat_minor": 0,
  "metadata": {
    "colab": {
      "name": "internship_assignment",
      "provenance": []
    },
    "kernelspec": {
      "name": "python3",
      "display_name": "Python 3"
    }
  },
  "cells": [
    {
      "cell_type": "code",
      "metadata": {
        "id": "Etk0INVcDiVX",
        "colab_type": "code",
        "colab": {
          "base_uri": "https://localhost:8080/",
          "height": 122
        },
        "outputId": "498f3dab-46ed-4345-abe1-f79157ff53fc"
      },
      "source": [
        "from google.colab import drive\n",
        "drive.mount('/content/gdrive')"
      ],
      "execution_count": null,
      "outputs": [
        {
          "output_type": "stream",
          "text": [
            "Go to this URL in a browser: https://accounts.google.com/o/oauth2/auth?client_id=947318989803-6bn6qk8qdgf4n4g3pfee6491hc0brc4i.apps.googleusercontent.com&redirect_uri=urn%3aietf%3awg%3aoauth%3a2.0%3aoob&scope=email%20https%3a%2f%2fwww.googleapis.com%2fauth%2fdocs.test%20https%3a%2f%2fwww.googleapis.com%2fauth%2fdrive%20https%3a%2f%2fwww.googleapis.com%2fauth%2fdrive.photos.readonly%20https%3a%2f%2fwww.googleapis.com%2fauth%2fpeopleapi.readonly&response_type=code\n",
            "\n",
            "Enter your authorization code:\n",
            "··········\n",
            "Mounted at /content/gdrive\n"
          ],
          "name": "stdout"
        }
      ]
    },
    {
      "cell_type": "code",
      "metadata": {
        "id": "KfYUb5bx3nmd",
        "colab_type": "code",
        "colab": {
          "base_uri": "https://localhost:8080/",
          "height": 136
        },
        "outputId": "440061f8-5e3c-4040-a61a-449d5b1b3eaf"
      },
      "source": [
        "!git clone https://github.com/sanyam83/text_renderer.git"
      ],
      "execution_count": 1,
      "outputs": [
        {
          "output_type": "stream",
          "text": [
            "Cloning into 'text_renderer'...\n",
            "remote: Enumerating objects: 215, done.\u001b[K\n",
            "remote: Counting objects: 100% (215/215), done.\u001b[K\n",
            "remote: Compressing objects: 100% (150/150), done.\u001b[K\n",
            "remote: Total 491 (delta 127), reused 103 (delta 59), pack-reused 276\u001b[K\n",
            "Receiving objects: 100% (491/491), 11.59 MiB | 6.38 MiB/s, done.\n",
            "Resolving deltas: 100% (202/202), done.\n"
          ],
          "name": "stdout"
        }
      ]
    },
    {
      "cell_type": "code",
      "metadata": {
        "id": "l8MAtpOL4Z3x",
        "colab_type": "code",
        "colab": {
          "base_uri": "https://localhost:8080/",
          "height": 289
        },
        "outputId": "7c89d365-6123-4376-a005-87c42294c754"
      },
      "source": [
        "%cd /content/text_renderer\n",
        "!python setup.py develop"
      ],
      "execution_count": 2,
      "outputs": [
        {
          "output_type": "stream",
          "text": [
            "/content/text_renderer\n",
            "running develop\n",
            "running egg_info\n",
            "creating text_renderer.egg-info\n",
            "writing text_renderer.egg-info/PKG-INFO\n",
            "writing dependency_links to text_renderer.egg-info/dependency_links.txt\n",
            "writing top-level names to text_renderer.egg-info/top_level.txt\n",
            "writing manifest file 'text_renderer.egg-info/SOURCES.txt'\n",
            "writing manifest file 'text_renderer.egg-info/SOURCES.txt'\n",
            "running build_ext\n",
            "Creating /usr/local/lib/python3.6/dist-packages/text-renderer.egg-link (link to .)\n",
            "Adding text-renderer 0.0.1 to easy-install.pth file\n",
            "\n",
            "Installed /content/text_renderer\n",
            "Processing dependencies for text-renderer==0.0.1\n",
            "Finished processing dependencies for text-renderer==0.0.1\n"
          ],
          "name": "stdout"
        }
      ]
    },
    {
      "cell_type": "code",
      "metadata": {
        "id": "vr-Nm2Ah4j4f",
        "colab_type": "code",
        "colab": {
          "base_uri": "https://localhost:8080/",
          "height": 1000
        },
        "outputId": "f2e57dec-bda1-4455-9b8d-7ee783d26fa2"
      },
      "source": [
        "!pip install -r docker/requirements.txt"
      ],
      "execution_count": 3,
      "outputs": [
        {
          "output_type": "stream",
          "text": [
            "Collecting opencv-python==3.4.5.20\n",
            "\u001b[?25l  Downloading https://files.pythonhosted.org/packages/85/e1/d3eed618272f4b746339af1a84b2511e79c1708d88a9195cf25d743fa614/opencv_python-3.4.5.20-cp36-cp36m-manylinux1_x86_64.whl (25.4MB)\n",
            "\u001b[K     |████████████████████████████████| 25.4MB 168kB/s \n",
            "\u001b[?25hCollecting fontTools==4.12.1\n",
            "\u001b[?25l  Downloading https://files.pythonhosted.org/packages/70/80/6703106d6e3a56d0b124a2a1b3159d70ef383282b428a385bbee39762030/fonttools-4.12.1-py3-none-any.whl (803kB)\n",
            "\u001b[K     |████████████████████████████████| 808kB 44.1MB/s \n",
            "\u001b[?25hRequirement already satisfied: lmdb==0.98 in /usr/local/lib/python3.6/dist-packages (from -r docker/requirements.txt (line 3)) (0.98)\n",
            "Collecting pillow==6.2.2\n",
            "\u001b[?25l  Downloading https://files.pythonhosted.org/packages/8a/fd/bbbc569f98f47813c50a116b539d97b3b17a86ac7a309f83b2022d26caf2/Pillow-6.2.2-cp36-cp36m-manylinux1_x86_64.whl (2.1MB)\n",
            "\u001b[K     |████████████████████████████████| 2.1MB 43.8MB/s \n",
            "\u001b[?25hRequirement already satisfied: numpy in /usr/local/lib/python3.6/dist-packages (from -r docker/requirements.txt (line 5)) (1.18.5)\n",
            "Collecting tenacity\n",
            "  Downloading https://files.pythonhosted.org/packages/b5/05/ff089032442058bd3386f9cd991cd88ccac81dca1494d78751621ee35e62/tenacity-6.2.0-py2.py3-none-any.whl\n",
            "Collecting fire\n",
            "\u001b[?25l  Downloading https://files.pythonhosted.org/packages/34/a7/0e22e70778aca01a52b9c899d9c145c6396d7b613719cd63db97ffa13f2f/fire-0.3.1.tar.gz (81kB)\n",
            "\u001b[K     |████████████████████████████████| 81kB 7.7MB/s \n",
            "\u001b[?25hRequirement already satisfied: tqdm in /usr/local/lib/python3.6/dist-packages (from -r docker/requirements.txt (line 8)) (4.41.1)\n",
            "Collecting loguru\n",
            "\u001b[?25l  Downloading https://files.pythonhosted.org/packages/59/4f/baee593c195cd4b56cf008c9473347f3b0795b47d3b946e03706a8b43fca/loguru-0.5.1-py3-none-any.whl (56kB)\n",
            "\u001b[K     |████████████████████████████████| 61kB 7.2MB/s \n",
            "\u001b[?25hRequirement already satisfied: cffi in /usr/local/lib/python3.6/dist-packages (from -r docker/requirements.txt (line 10)) (1.14.1)\n",
            "Collecting sphinx==3.1.2\n",
            "\u001b[?25l  Downloading https://files.pythonhosted.org/packages/e0/bb/bbe3f555751da411ed892526d0d78ed1b9ff2a25ed2b0dab9f2670c8da07/Sphinx-3.1.2-py3-none-any.whl (2.9MB)\n",
            "\u001b[K     |████████████████████████████████| 2.9MB 42.5MB/s \n",
            "\u001b[?25hCollecting sphinx-rtd-theme\n",
            "\u001b[?25l  Downloading https://files.pythonhosted.org/packages/c3/86/1addf25a238bbd8466bb099f23d9a9f13494b22b37b44f6c41a778b8730f/sphinx_rtd_theme-0.5.0-py2.py3-none-any.whl (10.8MB)\n",
            "\u001b[K     |████████████████████████████████| 10.8MB 42.8MB/s \n",
            "\u001b[?25hRequirement already satisfied: dataclasses in /usr/local/lib/python3.6/dist-packages (from -r docker/requirements.txt (line 13)) (0.7)\n",
            "Requirement already satisfied: pytest in /usr/local/lib/python3.6/dist-packages (from -r docker/requirements.txt (line 14)) (3.6.4)\n",
            "Requirement already satisfied: six>=1.9.0 in /usr/local/lib/python3.6/dist-packages (from tenacity->-r docker/requirements.txt (line 6)) (1.15.0)\n",
            "Requirement already satisfied: termcolor in /usr/local/lib/python3.6/dist-packages (from fire->-r docker/requirements.txt (line 7)) (1.1.0)\n",
            "Collecting aiocontextvars>=0.2.0; python_version < \"3.7\"\n",
            "  Downloading https://files.pythonhosted.org/packages/db/c1/7a723e8d988de0a2e623927396e54b6831b68cb80dce468c945b849a9385/aiocontextvars-0.2.2-py2.py3-none-any.whl\n",
            "Requirement already satisfied: pycparser in /usr/local/lib/python3.6/dist-packages (from cffi->-r docker/requirements.txt (line 10)) (2.20)\n",
            "Requirement already satisfied: Pygments>=2.0 in /usr/local/lib/python3.6/dist-packages (from sphinx==3.1.2->-r docker/requirements.txt (line 11)) (2.1.3)\n",
            "Requirement already satisfied: snowballstemmer>=1.1 in /usr/local/lib/python3.6/dist-packages (from sphinx==3.1.2->-r docker/requirements.txt (line 11)) (2.0.0)\n",
            "Requirement already satisfied: alabaster<0.8,>=0.7 in /usr/local/lib/python3.6/dist-packages (from sphinx==3.1.2->-r docker/requirements.txt (line 11)) (0.7.12)\n",
            "Requirement already satisfied: packaging in /usr/local/lib/python3.6/dist-packages (from sphinx==3.1.2->-r docker/requirements.txt (line 11)) (20.4)\n",
            "Requirement already satisfied: sphinxcontrib-serializinghtml in /usr/local/lib/python3.6/dist-packages (from sphinx==3.1.2->-r docker/requirements.txt (line 11)) (1.1.4)\n",
            "Collecting sphinxcontrib-devhelp\n",
            "\u001b[?25l  Downloading https://files.pythonhosted.org/packages/c5/09/5de5ed43a521387f18bdf5f5af31d099605c992fd25372b2b9b825ce48ee/sphinxcontrib_devhelp-1.0.2-py2.py3-none-any.whl (84kB)\n",
            "\u001b[K     |████████████████████████████████| 92kB 9.2MB/s \n",
            "\u001b[?25hRequirement already satisfied: imagesize in /usr/local/lib/python3.6/dist-packages (from sphinx==3.1.2->-r docker/requirements.txt (line 11)) (1.2.0)\n",
            "Requirement already satisfied: Jinja2>=2.3 in /usr/local/lib/python3.6/dist-packages (from sphinx==3.1.2->-r docker/requirements.txt (line 11)) (2.11.2)\n",
            "Collecting sphinxcontrib-jsmath\n",
            "  Downloading https://files.pythonhosted.org/packages/c2/42/4c8646762ee83602e3fb3fbe774c2fac12f317deb0b5dbeeedd2d3ba4b77/sphinxcontrib_jsmath-1.0.1-py2.py3-none-any.whl\n",
            "Collecting sphinxcontrib-qthelp\n",
            "\u001b[?25l  Downloading https://files.pythonhosted.org/packages/2b/14/05f9206cf4e9cfca1afb5fd224c7cd434dcc3a433d6d9e4e0264d29c6cdb/sphinxcontrib_qthelp-1.0.3-py2.py3-none-any.whl (90kB)\n",
            "\u001b[K     |████████████████████████████████| 92kB 9.8MB/s \n",
            "\u001b[?25hCollecting sphinxcontrib-htmlhelp\n",
            "\u001b[?25l  Downloading https://files.pythonhosted.org/packages/36/62/8222554b29b3acde8420128d6d3999c5904d40922ef4b6ccb370e2be7421/sphinxcontrib_htmlhelp-1.0.3-py2.py3-none-any.whl (96kB)\n",
            "\u001b[K     |████████████████████████████████| 102kB 10.1MB/s \n",
            "\u001b[?25hRequirement already satisfied: requests>=2.5.0 in /usr/local/lib/python3.6/dist-packages (from sphinx==3.1.2->-r docker/requirements.txt (line 11)) (2.23.0)\n",
            "Requirement already satisfied: setuptools in /usr/local/lib/python3.6/dist-packages (from sphinx==3.1.2->-r docker/requirements.txt (line 11)) (49.2.0)\n",
            "Collecting sphinxcontrib-applehelp\n",
            "\u001b[?25l  Downloading https://files.pythonhosted.org/packages/dc/47/86022665a9433d89a66f5911b558ddff69861766807ba685de2e324bd6ed/sphinxcontrib_applehelp-1.0.2-py2.py3-none-any.whl (121kB)\n",
            "\u001b[K     |████████████████████████████████| 122kB 50.6MB/s \n",
            "\u001b[?25hRequirement already satisfied: docutils>=0.12 in /usr/local/lib/python3.6/dist-packages (from sphinx==3.1.2->-r docker/requirements.txt (line 11)) (0.15.2)\n",
            "Requirement already satisfied: babel>=1.3 in /usr/local/lib/python3.6/dist-packages (from sphinx==3.1.2->-r docker/requirements.txt (line 11)) (2.8.0)\n",
            "Requirement already satisfied: pluggy<0.8,>=0.5 in /usr/local/lib/python3.6/dist-packages (from pytest->-r docker/requirements.txt (line 14)) (0.7.1)\n",
            "Requirement already satisfied: attrs>=17.4.0 in /usr/local/lib/python3.6/dist-packages (from pytest->-r docker/requirements.txt (line 14)) (19.3.0)\n",
            "Requirement already satisfied: py>=1.5.0 in /usr/local/lib/python3.6/dist-packages (from pytest->-r docker/requirements.txt (line 14)) (1.9.0)\n",
            "Requirement already satisfied: more-itertools>=4.0.0 in /usr/local/lib/python3.6/dist-packages (from pytest->-r docker/requirements.txt (line 14)) (8.4.0)\n",
            "Requirement already satisfied: atomicwrites>=1.0 in /usr/local/lib/python3.6/dist-packages (from pytest->-r docker/requirements.txt (line 14)) (1.4.0)\n",
            "Collecting contextvars==2.4; python_version < \"3.7\"\n",
            "  Downloading https://files.pythonhosted.org/packages/83/96/55b82d9f13763be9d672622e1b8106c85acb83edd7cc2fa5bc67cd9877e9/contextvars-2.4.tar.gz\n",
            "Requirement already satisfied: pyparsing>=2.0.2 in /usr/local/lib/python3.6/dist-packages (from packaging->sphinx==3.1.2->-r docker/requirements.txt (line 11)) (2.4.7)\n",
            "Requirement already satisfied: MarkupSafe>=0.23 in /usr/local/lib/python3.6/dist-packages (from Jinja2>=2.3->sphinx==3.1.2->-r docker/requirements.txt (line 11)) (1.1.1)\n",
            "Requirement already satisfied: chardet<4,>=3.0.2 in /usr/local/lib/python3.6/dist-packages (from requests>=2.5.0->sphinx==3.1.2->-r docker/requirements.txt (line 11)) (3.0.4)\n",
            "Requirement already satisfied: certifi>=2017.4.17 in /usr/local/lib/python3.6/dist-packages (from requests>=2.5.0->sphinx==3.1.2->-r docker/requirements.txt (line 11)) (2020.6.20)\n",
            "Requirement already satisfied: idna<3,>=2.5 in /usr/local/lib/python3.6/dist-packages (from requests>=2.5.0->sphinx==3.1.2->-r docker/requirements.txt (line 11)) (2.10)\n",
            "Requirement already satisfied: urllib3!=1.25.0,!=1.25.1,<1.26,>=1.21.1 in /usr/local/lib/python3.6/dist-packages (from requests>=2.5.0->sphinx==3.1.2->-r docker/requirements.txt (line 11)) (1.24.3)\n",
            "Requirement already satisfied: pytz>=2015.7 in /usr/local/lib/python3.6/dist-packages (from babel>=1.3->sphinx==3.1.2->-r docker/requirements.txt (line 11)) (2018.9)\n",
            "Collecting immutables>=0.9\n",
            "\u001b[?25l  Downloading https://files.pythonhosted.org/packages/99/e0/ea6fd4697120327d26773b5a84853f897a68e33d3f9376b00a8ff96e4f63/immutables-0.14-cp36-cp36m-manylinux1_x86_64.whl (98kB)\n",
            "\u001b[K     |████████████████████████████████| 102kB 10.5MB/s \n",
            "\u001b[?25hBuilding wheels for collected packages: fire, contextvars\n",
            "  Building wheel for fire (setup.py) ... \u001b[?25l\u001b[?25hdone\n",
            "  Created wheel for fire: filename=fire-0.3.1-py2.py3-none-any.whl size=111005 sha256=c04ab2a8261222c457286513c70ac92af9ad9ed036921c1552122807a5504717\n",
            "  Stored in directory: /root/.cache/pip/wheels/c1/61/df/768b03527bf006b546dce284eb4249b185669e65afc5fbb2ac\n",
            "  Building wheel for contextvars (setup.py) ... \u001b[?25l\u001b[?25hdone\n",
            "  Created wheel for contextvars: filename=contextvars-2.4-cp36-none-any.whl size=7666 sha256=21855390a7954fa8ca24f1a2e486685883daf6818b1ea058b7b891413b6c150e\n",
            "  Stored in directory: /root/.cache/pip/wheels/a5/7d/68/1ebae2668bda2228686e3c1cf16f2c2384cea6e9334ad5f6de\n",
            "Successfully built fire contextvars\n",
            "\u001b[31mERROR: datascience 0.10.6 has requirement folium==0.2.1, but you'll have folium 0.8.3 which is incompatible.\u001b[0m\n",
            "\u001b[31mERROR: albumentations 0.1.12 has requirement imgaug<0.2.7,>=0.2.5, but you'll have imgaug 0.2.9 which is incompatible.\u001b[0m\n",
            "Installing collected packages: opencv-python, fontTools, pillow, tenacity, fire, immutables, contextvars, aiocontextvars, loguru, sphinxcontrib-devhelp, sphinxcontrib-jsmath, sphinxcontrib-qthelp, sphinxcontrib-htmlhelp, sphinxcontrib-applehelp, sphinx, sphinx-rtd-theme\n",
            "  Found existing installation: opencv-python 4.1.2.30\n",
            "    Uninstalling opencv-python-4.1.2.30:\n",
            "      Successfully uninstalled opencv-python-4.1.2.30\n",
            "  Found existing installation: Pillow 7.0.0\n",
            "    Uninstalling Pillow-7.0.0:\n",
            "      Successfully uninstalled Pillow-7.0.0\n",
            "  Found existing installation: Sphinx 1.8.5\n",
            "    Uninstalling Sphinx-1.8.5:\n",
            "      Successfully uninstalled Sphinx-1.8.5\n",
            "Successfully installed aiocontextvars-0.2.2 contextvars-2.4 fire-0.3.1 fontTools-4.12.1 immutables-0.14 loguru-0.5.1 opencv-python-3.4.5.20 pillow-6.2.2 sphinx-3.1.2 sphinx-rtd-theme-0.5.0 sphinxcontrib-applehelp-1.0.2 sphinxcontrib-devhelp-1.0.2 sphinxcontrib-htmlhelp-1.0.3 sphinxcontrib-jsmath-1.0.1 sphinxcontrib-qthelp-1.0.3 tenacity-6.2.0\n"
          ],
          "name": "stdout"
        },
        {
          "output_type": "display_data",
          "data": {
            "application/vnd.colab-display-data+json": {
              "pip_warning": {
                "packages": [
                  "PIL",
                  "sphinxcontrib"
                ]
              }
            }
          },
          "metadata": {
            "tags": []
          }
        }
      ]
    },
    {
      "cell_type": "code",
      "metadata": {
        "id": "1tqWGJwo6God",
        "colab_type": "code",
        "colab": {
          "base_uri": "https://localhost:8080/",
          "height": 170
        },
        "outputId": "95b6d0fa-4979-4ea4-ec62-0c53523ef4b9"
      },
      "source": [
        "!python main.py --help"
      ],
      "execution_count": 4,
      "outputs": [
        {
          "output_type": "stream",
          "text": [
            "usage: main.py [-h] --config CONFIG [--dataset {lmdb,img}]\n",
            "               [--num_processes NUM_PROCESSES] [--log_period LOG_PERIOD]\n",
            "\n",
            "optional arguments:\n",
            "  -h, --help            show this help message and exit\n",
            "  --config CONFIG       python file path\n",
            "  --dataset {lmdb,img}\n",
            "  --num_processes NUM_PROCESSES\n",
            "  --log_period LOG_PERIOD\n"
          ],
          "name": "stdout"
        }
      ]
    },
    {
      "cell_type": "code",
      "metadata": {
        "id": "x49C3qavAaHj",
        "colab_type": "code",
        "colab": {
          "base_uri": "https://localhost:8080/",
          "height": 1000
        },
        "outputId": "fd0f957f-a655-4276-cec8-a5dc126813e2"
      },
      "source": [
        "!python main.py \\\n",
        "    --config example_data/example.py \\\n",
        "    --dataset img \\\n",
        "    --num_processes 2 \\\n",
        "    --log_period 10"
      ],
      "execution_count": 5,
      "outputs": [
        {
          "output_type": "stream",
          "text": [
            "\u001b[32m2020-08-24 18:01:15.944\u001b[0m | \u001b[1mINFO    \u001b[0m | \u001b[36mtext_renderer.corpus.char_corpus\u001b[0m:\u001b[36m__init__\u001b[0m:\u001b[36m58\u001b[0m - \u001b[1mload: /content/text_renderer/example_data/text/chn_text.txt\u001b[0m\n",
            "\u001b[32m2020-08-24 18:01:15.945\u001b[0m | \u001b[1mINFO    \u001b[0m | \u001b[36mtext_renderer.corpus.char_corpus\u001b[0m:\u001b[36m__init__\u001b[0m:\u001b[36m58\u001b[0m - \u001b[1mload: /content/text_renderer/example_data/text/eng_text.txt\u001b[0m\n",
            "\u001b[32m2020-08-24 18:01:15.945\u001b[0m | \u001b[1mINFO    \u001b[0m | \u001b[36mtext_renderer.utils.utils\u001b[0m:\u001b[36mload_chars_file\u001b[0m:\u001b[36m172\u001b[0m - \u001b[1mload 92 chars from: /content/text_renderer/example_data/char/chn.txt\u001b[0m\n",
            "\u001b[32m2020-08-24 18:01:15.945\u001b[0m | \u001b[1mINFO    \u001b[0m | \u001b[36mtext_renderer.corpus.corpus\u001b[0m:\u001b[36mfilter_by_chars\u001b[0m:\u001b[36m122\u001b[0m - \u001b[1mfiltering text by chars...\u001b[0m\n",
            "\u001b[32m2020-08-24 18:01:15.946\u001b[0m | \u001b[1mINFO    \u001b[0m | \u001b[36mtext_renderer.corpus.corpus\u001b[0m:\u001b[36mfilter_by_chars\u001b[0m:\u001b[36m151\u001b[0m - \u001b[1mFilter 17.41%(313) chars in input text。Unique chars(2): {'\\n', ' '}\u001b[0m\n",
            "\u001b[32m2020-08-24 18:01:16.211\u001b[0m | \u001b[1mINFO    \u001b[0m | \u001b[36mtext_renderer.utils.utils\u001b[0m:\u001b[36mload_chars_file\u001b[0m:\u001b[36m162\u001b[0m - \u001b[1mFind space in line 0 when load /content/text_renderer/example_data/char/eng.txt\u001b[0m\n",
            "\u001b[32m2020-08-24 18:01:16.211\u001b[0m | \u001b[1mINFO    \u001b[0m | \u001b[36mtext_renderer.utils.utils\u001b[0m:\u001b[36mload_chars_file\u001b[0m:\u001b[36m172\u001b[0m - \u001b[1mload 93 chars from: /content/text_renderer/example_data/char/eng.txt\u001b[0m\n",
            "\u001b[32m2020-08-24 18:01:16.211\u001b[0m | \u001b[1mINFO    \u001b[0m | \u001b[36mtext_renderer.corpus.corpus\u001b[0m:\u001b[36mfilter_by_chars\u001b[0m:\u001b[36m122\u001b[0m - \u001b[1mfiltering text by chars...\u001b[0m\n",
            "\u001b[32m2020-08-24 18:01:16.212\u001b[0m | \u001b[1mINFO    \u001b[0m | \u001b[36mtext_renderer.corpus.corpus\u001b[0m:\u001b[36mfilter_by_chars\u001b[0m:\u001b[36m151\u001b[0m - \u001b[1mFilter 0.22%(2) chars in input text。Unique chars(1): {'\\n'}\u001b[0m\n",
            "\u001b[32m2020-08-24 18:01:16.227\u001b[0m | \u001b[1mINFO    \u001b[0m | \u001b[36mtext_renderer.corpus.word_corpus\u001b[0m:\u001b[36m__init__\u001b[0m:\u001b[36m69\u001b[0m - \u001b[1mLoad 149 words\u001b[0m\n",
            "\u001b[32m2020-08-24 18:01:16.332\u001b[0m | \u001b[1mINFO    \u001b[0m | \u001b[36mtext_renderer.utils.utils\u001b[0m:\u001b[36mload_chars_file\u001b[0m:\u001b[36m172\u001b[0m - \u001b[1mload 92 chars from: /content/text_renderer/example_data/char/chn.txt\u001b[0m\n",
            "\u001b[32m2020-08-24 18:01:16.333\u001b[0m | \u001b[1mINFO    \u001b[0m | \u001b[36mtext_renderer.corpus.corpus\u001b[0m:\u001b[36mfilter_by_chars\u001b[0m:\u001b[36m122\u001b[0m - \u001b[1mfiltering text by chars...\u001b[0m\n",
            "\u001b[32m2020-08-24 18:01:16.333\u001b[0m | \u001b[1mINFO    \u001b[0m | \u001b[36mtext_renderer.corpus.corpus\u001b[0m:\u001b[36mfilter_by_chars\u001b[0m:\u001b[36m151\u001b[0m - \u001b[1mFilter 0.00%(0) chars in input text。Unique chars(0): set()\u001b[0m\n",
            "\u001b[32m2020-08-24 18:01:16.476\u001b[0m | \u001b[1mINFO    \u001b[0m | \u001b[36mtext_renderer.corpus.char_corpus\u001b[0m:\u001b[36m__init__\u001b[0m:\u001b[36m58\u001b[0m - \u001b[1mload: /content/text_renderer/example_data/text/chn_text.txt\u001b[0m\n",
            "\u001b[32m2020-08-24 18:01:16.476\u001b[0m | \u001b[1mINFO    \u001b[0m | \u001b[36mtext_renderer.corpus.char_corpus\u001b[0m:\u001b[36m__init__\u001b[0m:\u001b[36m58\u001b[0m - \u001b[1mload: /content/text_renderer/example_data/text/eng_text.txt\u001b[0m\n",
            "\u001b[32m2020-08-24 18:01:16.476\u001b[0m | \u001b[1mINFO    \u001b[0m | \u001b[36mtext_renderer.utils.utils\u001b[0m:\u001b[36mload_chars_file\u001b[0m:\u001b[36m172\u001b[0m - \u001b[1mload 92 chars from: /content/text_renderer/example_data/char/chn.txt\u001b[0m\n",
            "\u001b[32m2020-08-24 18:01:16.477\u001b[0m | \u001b[1mINFO    \u001b[0m | \u001b[36mtext_renderer.corpus.corpus\u001b[0m:\u001b[36mfilter_by_chars\u001b[0m:\u001b[36m122\u001b[0m - \u001b[1mfiltering text by chars...\u001b[0m\n",
            "\u001b[32m2020-08-24 18:01:16.477\u001b[0m | \u001b[1mINFO    \u001b[0m | \u001b[36mtext_renderer.corpus.corpus\u001b[0m:\u001b[36mfilter_by_chars\u001b[0m:\u001b[36m151\u001b[0m - \u001b[1mFilter 17.41%(313) chars in input text。Unique chars(2): {'\\n', ' '}\u001b[0m\n",
            "\u001b[32m2020-08-24 18:01:16.586\u001b[0m | \u001b[1mINFO    \u001b[0m | \u001b[36mtext_renderer.corpus.char_corpus\u001b[0m:\u001b[36m__init__\u001b[0m:\u001b[36m58\u001b[0m - \u001b[1mload: /content/text_renderer/example_data/text/chn_text.txt\u001b[0m\n",
            "\u001b[32m2020-08-24 18:01:16.587\u001b[0m | \u001b[1mINFO    \u001b[0m | \u001b[36mtext_renderer.corpus.char_corpus\u001b[0m:\u001b[36m__init__\u001b[0m:\u001b[36m58\u001b[0m - \u001b[1mload: /content/text_renderer/example_data/text/eng_text.txt\u001b[0m\n",
            "\u001b[32m2020-08-24 18:01:16.587\u001b[0m | \u001b[1mINFO    \u001b[0m | \u001b[36mtext_renderer.utils.utils\u001b[0m:\u001b[36mload_chars_file\u001b[0m:\u001b[36m172\u001b[0m - \u001b[1mload 92 chars from: /content/text_renderer/example_data/char/chn.txt\u001b[0m\n",
            "\u001b[32m2020-08-24 18:01:16.587\u001b[0m | \u001b[1mINFO    \u001b[0m | \u001b[36mtext_renderer.corpus.corpus\u001b[0m:\u001b[36mfilter_by_chars\u001b[0m:\u001b[36m122\u001b[0m - \u001b[1mfiltering text by chars...\u001b[0m\n",
            "\u001b[32m2020-08-24 18:01:16.587\u001b[0m | \u001b[1mINFO    \u001b[0m | \u001b[36mtext_renderer.corpus.corpus\u001b[0m:\u001b[36mfilter_by_chars\u001b[0m:\u001b[36m151\u001b[0m - \u001b[1mFilter 17.41%(313) chars in input text。Unique chars(2): {'\\n', ' '}\u001b[0m\n",
            "\u001b[32m2020-08-24 18:01:16.694\u001b[0m | \u001b[1mINFO    \u001b[0m | \u001b[36mtext_renderer.corpus.char_corpus\u001b[0m:\u001b[36m__init__\u001b[0m:\u001b[36m58\u001b[0m - \u001b[1mload: /content/text_renderer/example_data/text/chn_text.txt\u001b[0m\n",
            "\u001b[32m2020-08-24 18:01:16.694\u001b[0m | \u001b[1mINFO    \u001b[0m | \u001b[36mtext_renderer.corpus.char_corpus\u001b[0m:\u001b[36m__init__\u001b[0m:\u001b[36m58\u001b[0m - \u001b[1mload: /content/text_renderer/example_data/text/eng_text.txt\u001b[0m\n",
            "\u001b[32m2020-08-24 18:01:16.695\u001b[0m | \u001b[1mINFO    \u001b[0m | \u001b[36mtext_renderer.utils.utils\u001b[0m:\u001b[36mload_chars_file\u001b[0m:\u001b[36m172\u001b[0m - \u001b[1mload 92 chars from: /content/text_renderer/example_data/char/chn.txt\u001b[0m\n",
            "\u001b[32m2020-08-24 18:01:16.695\u001b[0m | \u001b[1mINFO    \u001b[0m | \u001b[36mtext_renderer.corpus.corpus\u001b[0m:\u001b[36mfilter_by_chars\u001b[0m:\u001b[36m122\u001b[0m - \u001b[1mfiltering text by chars...\u001b[0m\n",
            "\u001b[32m2020-08-24 18:01:16.695\u001b[0m | \u001b[1mINFO    \u001b[0m | \u001b[36mtext_renderer.corpus.corpus\u001b[0m:\u001b[36mfilter_by_chars\u001b[0m:\u001b[36m151\u001b[0m - \u001b[1mFilter 17.41%(313) chars in input text。Unique chars(2): {'\\n', ' '}\u001b[0m\n",
            "\u001b[32m2020-08-24 18:01:17.078\u001b[0m | \u001b[1mINFO    \u001b[0m | \u001b[36m__mp_main__\u001b[0m:\u001b[36mrun\u001b[0m:\u001b[36m44\u001b[0m - \u001b[1mExist image count in /content/text_renderer/example_data/output/char_corpus: 0\u001b[0m\n",
            "\u001b[32m2020-08-24 18:01:17.478\u001b[0m | \u001b[1mINFO    \u001b[0m | \u001b[36m__mp_main__\u001b[0m:\u001b[36mprocess_setup\u001b[0m:\u001b[36m82\u001b[0m - \u001b[1mFinish setup image generate process: 297\u001b[0m\n",
            "\u001b[32m2020-08-24 18:01:17.913\u001b[0m | \u001b[1mINFO    \u001b[0m | \u001b[36m__mp_main__\u001b[0m:\u001b[36mprocess_setup\u001b[0m:\u001b[36m82\u001b[0m - \u001b[1mFinish setup image generate process: 299\u001b[0m\n",
            "\u001b[32m2020-08-24 18:01:19.950\u001b[0m | \u001b[1mINFO    \u001b[0m | \u001b[36m__mp_main__\u001b[0m:\u001b[36mrun\u001b[0m:\u001b[36m57\u001b[0m - \u001b[1m10.00%(200/2000) 69.7 img/s\u001b[0m\n",
            "\u001b[32m2020-08-24 18:01:21.908\u001b[0m | \u001b[1mINFO    \u001b[0m | \u001b[36m__mp_main__\u001b[0m:\u001b[36mrun\u001b[0m:\u001b[36m57\u001b[0m - \u001b[1m20.00%(400/2000) 102.1 img/s\u001b[0m\n",
            "\u001b[32m2020-08-24 18:01:23.954\u001b[0m | \u001b[1mINFO    \u001b[0m | \u001b[36m__mp_main__\u001b[0m:\u001b[36mrun\u001b[0m:\u001b[36m57\u001b[0m - \u001b[1m30.00%(600/2000) 97.8 img/s\u001b[0m\n",
            "\u001b[32m2020-08-24 18:01:26.025\u001b[0m | \u001b[1mINFO    \u001b[0m | \u001b[36m__mp_main__\u001b[0m:\u001b[36mrun\u001b[0m:\u001b[36m57\u001b[0m - \u001b[1m40.00%(800/2000) 96.6 img/s\u001b[0m\n",
            "\u001b[32m2020-08-24 18:01:27.977\u001b[0m | \u001b[1mINFO    \u001b[0m | \u001b[36m__mp_main__\u001b[0m:\u001b[36mrun\u001b[0m:\u001b[36m57\u001b[0m - \u001b[1m50.00%(1000/2000) 102.5 img/s\u001b[0m\n",
            "\u001b[32m2020-08-24 18:01:29.992\u001b[0m | \u001b[1mINFO    \u001b[0m | \u001b[36m__mp_main__\u001b[0m:\u001b[36mrun\u001b[0m:\u001b[36m57\u001b[0m - \u001b[1m60.00%(1200/2000) 99.2 img/s\u001b[0m\n",
            "\u001b[32m2020-08-24 18:01:31.965\u001b[0m | \u001b[1mINFO    \u001b[0m | \u001b[36m__mp_main__\u001b[0m:\u001b[36mrun\u001b[0m:\u001b[36m57\u001b[0m - \u001b[1m70.00%(1400/2000) 101.4 img/s\u001b[0m\n",
            "\u001b[32m2020-08-24 18:01:33.935\u001b[0m | \u001b[1mINFO    \u001b[0m | \u001b[36m__mp_main__\u001b[0m:\u001b[36mrun\u001b[0m:\u001b[36m57\u001b[0m - \u001b[1m80.00%(1600/2000) 101.6 img/s\u001b[0m\n",
            "\u001b[32m2020-08-24 18:01:35.886\u001b[0m | \u001b[1mINFO    \u001b[0m | \u001b[36m__mp_main__\u001b[0m:\u001b[36mrun\u001b[0m:\u001b[36m57\u001b[0m - \u001b[1m90.00%(1800/2000) 102.5 img/s\u001b[0m\n",
            "\u001b[32m2020-08-24 18:01:37.923\u001b[0m | \u001b[1mINFO    \u001b[0m | \u001b[36m__mp_main__\u001b[0m:\u001b[36mrun\u001b[0m:\u001b[36m57\u001b[0m - \u001b[1m100.00%(2000/2000) 98.2 img/s\u001b[0m\n",
            "\u001b[32m2020-08-24 18:01:38.131\u001b[0m | \u001b[1mINFO    \u001b[0m | \u001b[36m__mp_main__\u001b[0m:\u001b[36mrun\u001b[0m:\u001b[36m49\u001b[0m - \u001b[1mDBWriterProcess receive stop token\u001b[0m\n",
            "\u001b[32m2020-08-24 18:01:38.131\u001b[0m | \u001b[1mINFO    \u001b[0m | \u001b[36m__mp_main__\u001b[0m:\u001b[36mrun\u001b[0m:\u001b[36m61\u001b[0m - \u001b[1m100.00%(2000/2000)\u001b[0m\n",
            "\u001b[32m2020-08-24 18:01:38.131\u001b[0m | \u001b[1mINFO    \u001b[0m | \u001b[36m__mp_main__\u001b[0m:\u001b[36mrun\u001b[0m:\u001b[36m62\u001b[0m - \u001b[1mFinish generate: 2000. Total: 2000\u001b[0m\n",
            "\u001b[32m2020-08-24 18:01:38.590\u001b[0m | \u001b[1mINFO    \u001b[0m | \u001b[36m__mp_main__\u001b[0m:\u001b[36mrun\u001b[0m:\u001b[36m44\u001b[0m - \u001b[1mExist image count in /content/text_renderer/example_data/output/rand_corpus: 0\u001b[0m\n",
            "\u001b[32m2020-08-24 18:01:38.983\u001b[0m | \u001b[1mINFO    \u001b[0m | \u001b[36m__mp_main__\u001b[0m:\u001b[36mprocess_setup\u001b[0m:\u001b[36m82\u001b[0m - \u001b[1mFinish setup image generate process: 6316\u001b[0m\n",
            "\u001b[32m2020-08-24 18:01:39.387\u001b[0m | \u001b[1mINFO    \u001b[0m | \u001b[36m__mp_main__\u001b[0m:\u001b[36mprocess_setup\u001b[0m:\u001b[36m82\u001b[0m - \u001b[1mFinish setup image generate process: 6318\u001b[0m\n",
            "\u001b[32m2020-08-24 18:01:40.572\u001b[0m | \u001b[1mINFO    \u001b[0m | \u001b[36m__mp_main__\u001b[0m:\u001b[36mrun\u001b[0m:\u001b[36m57\u001b[0m - \u001b[1m10.00%(200/2000) 100.9 img/s\u001b[0m\n",
            "\u001b[32m2020-08-24 18:01:41.672\u001b[0m | \u001b[1mINFO    \u001b[0m | \u001b[36m__mp_main__\u001b[0m:\u001b[36mrun\u001b[0m:\u001b[36m57\u001b[0m - \u001b[1m20.00%(400/2000) 181.9 img/s\u001b[0m\n",
            "\u001b[32m2020-08-24 18:01:42.786\u001b[0m | \u001b[1mINFO    \u001b[0m | \u001b[36m__mp_main__\u001b[0m:\u001b[36mrun\u001b[0m:\u001b[36m57\u001b[0m - \u001b[1m30.00%(600/2000) 179.5 img/s\u001b[0m\n",
            "\u001b[32m2020-08-24 18:01:43.942\u001b[0m | \u001b[1mINFO    \u001b[0m | \u001b[36m__mp_main__\u001b[0m:\u001b[36mrun\u001b[0m:\u001b[36m57\u001b[0m - \u001b[1m40.00%(800/2000) 173.1 img/s\u001b[0m\n",
            "\u001b[32m2020-08-24 18:01:45.093\u001b[0m | \u001b[1mINFO    \u001b[0m | \u001b[36m__mp_main__\u001b[0m:\u001b[36mrun\u001b[0m:\u001b[36m57\u001b[0m - \u001b[1m50.00%(1000/2000) 173.9 img/s\u001b[0m\n",
            "\u001b[32m2020-08-24 18:01:46.253\u001b[0m | \u001b[1mINFO    \u001b[0m | \u001b[36m__mp_main__\u001b[0m:\u001b[36mrun\u001b[0m:\u001b[36m57\u001b[0m - \u001b[1m60.00%(1200/2000) 172.5 img/s\u001b[0m\n",
            "\u001b[32m2020-08-24 18:01:47.455\u001b[0m | \u001b[1mINFO    \u001b[0m | \u001b[36m__mp_main__\u001b[0m:\u001b[36mrun\u001b[0m:\u001b[36m57\u001b[0m - \u001b[1m70.00%(1400/2000) 166.5 img/s\u001b[0m\n",
            "\u001b[32m2020-08-24 18:01:48.613\u001b[0m | \u001b[1mINFO    \u001b[0m | \u001b[36m__mp_main__\u001b[0m:\u001b[36mrun\u001b[0m:\u001b[36m57\u001b[0m - \u001b[1m80.00%(1600/2000) 172.8 img/s\u001b[0m\n",
            "\u001b[32m2020-08-24 18:01:49.783\u001b[0m | \u001b[1mINFO    \u001b[0m | \u001b[36m__mp_main__\u001b[0m:\u001b[36mrun\u001b[0m:\u001b[36m57\u001b[0m - \u001b[1m90.00%(1800/2000) 170.9 img/s\u001b[0m\n",
            "\u001b[32m2020-08-24 18:01:50.977\u001b[0m | \u001b[1mINFO    \u001b[0m | \u001b[36m__mp_main__\u001b[0m:\u001b[36mrun\u001b[0m:\u001b[36m57\u001b[0m - \u001b[1m100.00%(2000/2000) 167.7 img/s\u001b[0m\n",
            "\u001b[32m2020-08-24 18:01:51.098\u001b[0m | \u001b[1mINFO    \u001b[0m | \u001b[36m__mp_main__\u001b[0m:\u001b[36mrun\u001b[0m:\u001b[36m49\u001b[0m - \u001b[1mDBWriterProcess receive stop token\u001b[0m\n",
            "\u001b[32m2020-08-24 18:01:51.098\u001b[0m | \u001b[1mINFO    \u001b[0m | \u001b[36m__mp_main__\u001b[0m:\u001b[36mrun\u001b[0m:\u001b[36m61\u001b[0m - \u001b[1m100.00%(2000/2000)\u001b[0m\n",
            "\u001b[32m2020-08-24 18:01:51.098\u001b[0m | \u001b[1mINFO    \u001b[0m | \u001b[36m__mp_main__\u001b[0m:\u001b[36mrun\u001b[0m:\u001b[36m62\u001b[0m - \u001b[1mFinish generate: 2000. Total: 2000\u001b[0m\n",
            "\u001b[32m2020-08-24 18:01:51.570\u001b[0m | \u001b[1mINFO    \u001b[0m | \u001b[36m__mp_main__\u001b[0m:\u001b[36mrun\u001b[0m:\u001b[36m44\u001b[0m - \u001b[1mExist image count in /content/text_renderer/example_data/output/word_corpus: 0\u001b[0m\n",
            "\u001b[32m2020-08-24 18:01:51.975\u001b[0m | \u001b[1mINFO    \u001b[0m | \u001b[36m__mp_main__\u001b[0m:\u001b[36mprocess_setup\u001b[0m:\u001b[36m82\u001b[0m - \u001b[1mFinish setup image generate process: 12336\u001b[0m\n",
            "\u001b[32m2020-08-24 18:01:52.356\u001b[0m | \u001b[1mINFO    \u001b[0m | \u001b[36m__mp_main__\u001b[0m:\u001b[36mprocess_setup\u001b[0m:\u001b[36m82\u001b[0m - \u001b[1mFinish setup image generate process: 12338\u001b[0m\n",
            "\u001b[32m2020-08-24 18:01:54.148\u001b[0m | \u001b[1mINFO    \u001b[0m | \u001b[36m__mp_main__\u001b[0m:\u001b[36mrun\u001b[0m:\u001b[36m57\u001b[0m - \u001b[1m10.00%(200/2000) 77.6 img/s\u001b[0m\n",
            "\u001b[32m2020-08-24 18:01:55.909\u001b[0m | \u001b[1mINFO    \u001b[0m | \u001b[36m__mp_main__\u001b[0m:\u001b[36mrun\u001b[0m:\u001b[36m57\u001b[0m - \u001b[1m20.00%(400/2000) 113.6 img/s\u001b[0m\n",
            "\u001b[32m2020-08-24 18:01:57.768\u001b[0m | \u001b[1mINFO    \u001b[0m | \u001b[36m__mp_main__\u001b[0m:\u001b[36mrun\u001b[0m:\u001b[36m57\u001b[0m - \u001b[1m30.00%(600/2000) 107.6 img/s\u001b[0m\n",
            "\u001b[32m2020-08-24 18:01:59.568\u001b[0m | \u001b[1mINFO    \u001b[0m | \u001b[36m__mp_main__\u001b[0m:\u001b[36mrun\u001b[0m:\u001b[36m57\u001b[0m - \u001b[1m40.00%(800/2000) 111.2 img/s\u001b[0m\n",
            "\u001b[32m2020-08-24 18:02:01.339\u001b[0m | \u001b[1mINFO    \u001b[0m | \u001b[36m__mp_main__\u001b[0m:\u001b[36mrun\u001b[0m:\u001b[36m57\u001b[0m - \u001b[1m50.00%(1000/2000) 112.9 img/s\u001b[0m\n",
            "\u001b[32m2020-08-24 18:02:03.110\u001b[0m | \u001b[1mINFO    \u001b[0m | \u001b[36m__mp_main__\u001b[0m:\u001b[36mrun\u001b[0m:\u001b[36m57\u001b[0m - \u001b[1m60.00%(1200/2000) 113.0 img/s\u001b[0m\n",
            "\u001b[32m2020-08-24 18:02:04.878\u001b[0m | \u001b[1mINFO    \u001b[0m | \u001b[36m__mp_main__\u001b[0m:\u001b[36mrun\u001b[0m:\u001b[36m57\u001b[0m - \u001b[1m70.00%(1400/2000) 113.1 img/s\u001b[0m\n",
            "\u001b[32m2020-08-24 18:02:06.725\u001b[0m | \u001b[1mINFO    \u001b[0m | \u001b[36m__mp_main__\u001b[0m:\u001b[36mrun\u001b[0m:\u001b[36m57\u001b[0m - \u001b[1m80.00%(1600/2000) 108.3 img/s\u001b[0m\n",
            "\u001b[32m2020-08-24 18:02:08.624\u001b[0m | \u001b[1mINFO    \u001b[0m | \u001b[36m__mp_main__\u001b[0m:\u001b[36mrun\u001b[0m:\u001b[36m57\u001b[0m - \u001b[1m90.00%(1800/2000) 105.3 img/s\u001b[0m\n",
            "\u001b[32m2020-08-24 18:02:10.451\u001b[0m | \u001b[1mINFO    \u001b[0m | \u001b[36m__mp_main__\u001b[0m:\u001b[36mrun\u001b[0m:\u001b[36m57\u001b[0m - \u001b[1m100.00%(2000/2000) 109.5 img/s\u001b[0m\n",
            "\u001b[32m2020-08-24 18:02:10.610\u001b[0m | \u001b[1mINFO    \u001b[0m | \u001b[36m__mp_main__\u001b[0m:\u001b[36mrun\u001b[0m:\u001b[36m49\u001b[0m - \u001b[1mDBWriterProcess receive stop token\u001b[0m\n",
            "\u001b[32m2020-08-24 18:02:10.610\u001b[0m | \u001b[1mINFO    \u001b[0m | \u001b[36m__mp_main__\u001b[0m:\u001b[36mrun\u001b[0m:\u001b[36m61\u001b[0m - \u001b[1m100.00%(2000/2000)\u001b[0m\n",
            "\u001b[32m2020-08-24 18:02:10.611\u001b[0m | \u001b[1mINFO    \u001b[0m | \u001b[36m__mp_main__\u001b[0m:\u001b[36mrun\u001b[0m:\u001b[36m62\u001b[0m - \u001b[1mFinish generate: 2000. Total: 2000\u001b[0m\n",
            "\u001b[32m2020-08-24 18:02:11.108\u001b[0m | \u001b[1mINFO    \u001b[0m | \u001b[36m__mp_main__\u001b[0m:\u001b[36mrun\u001b[0m:\u001b[36m44\u001b[0m - \u001b[1mExist image count in /content/text_renderer/example_data/output/same_line_data: 0\u001b[0m\n",
            "\u001b[32m2020-08-24 18:02:11.551\u001b[0m | \u001b[1mINFO    \u001b[0m | \u001b[36m__mp_main__\u001b[0m:\u001b[36mprocess_setup\u001b[0m:\u001b[36m82\u001b[0m - \u001b[1mFinish setup image generate process: 18351\u001b[0m\n",
            "\u001b[32m2020-08-24 18:02:11.976\u001b[0m | \u001b[1mINFO    \u001b[0m | \u001b[36m__mp_main__\u001b[0m:\u001b[36mprocess_setup\u001b[0m:\u001b[36m82\u001b[0m - \u001b[1mFinish setup image generate process: 18353\u001b[0m\n",
            "\u001b[32m2020-08-24 18:02:14.058\u001b[0m | \u001b[1mINFO    \u001b[0m | \u001b[36m__mp_main__\u001b[0m:\u001b[36mrun\u001b[0m:\u001b[36m57\u001b[0m - \u001b[1m10.00%(200/2000) 67.8 img/s\u001b[0m\n",
            "\u001b[32m2020-08-24 18:02:16.132\u001b[0m | \u001b[1mINFO    \u001b[0m | \u001b[36m__mp_main__\u001b[0m:\u001b[36mrun\u001b[0m:\u001b[36m57\u001b[0m - \u001b[1m20.00%(400/2000) 96.4 img/s\u001b[0m\n",
            "\u001b[32m2020-08-24 18:02:18.168\u001b[0m | \u001b[1mINFO    \u001b[0m | \u001b[36m__mp_main__\u001b[0m:\u001b[36mrun\u001b[0m:\u001b[36m57\u001b[0m - \u001b[1m30.00%(600/2000) 98.3 img/s\u001b[0m\n",
            "\u001b[32m2020-08-24 18:02:20.248\u001b[0m | \u001b[1mINFO    \u001b[0m | \u001b[36m__mp_main__\u001b[0m:\u001b[36mrun\u001b[0m:\u001b[36m57\u001b[0m - \u001b[1m40.00%(800/2000) 96.2 img/s\u001b[0m\n",
            "\u001b[32m2020-08-24 18:02:22.299\u001b[0m | \u001b[1mINFO    \u001b[0m | \u001b[36m__mp_main__\u001b[0m:\u001b[36mrun\u001b[0m:\u001b[36m57\u001b[0m - \u001b[1m50.00%(1000/2000) 97.5 img/s\u001b[0m\n",
            "\u001b[32m2020-08-24 18:02:24.438\u001b[0m | \u001b[1mINFO    \u001b[0m | \u001b[36m__mp_main__\u001b[0m:\u001b[36mrun\u001b[0m:\u001b[36m57\u001b[0m - \u001b[1m60.00%(1200/2000) 93.5 img/s\u001b[0m\n",
            "\u001b[32m2020-08-24 18:02:26.474\u001b[0m | \u001b[1mINFO    \u001b[0m | \u001b[36m__mp_main__\u001b[0m:\u001b[36mrun\u001b[0m:\u001b[36m57\u001b[0m - \u001b[1m70.00%(1400/2000) 98.3 img/s\u001b[0m\n",
            "\u001b[32m2020-08-24 18:02:28.572\u001b[0m | \u001b[1mINFO    \u001b[0m | \u001b[36m__mp_main__\u001b[0m:\u001b[36mrun\u001b[0m:\u001b[36m57\u001b[0m - \u001b[1m80.00%(1600/2000) 95.3 img/s\u001b[0m\n",
            "\u001b[32m2020-08-24 18:02:30.663\u001b[0m | \u001b[1mINFO    \u001b[0m | \u001b[36m__mp_main__\u001b[0m:\u001b[36mrun\u001b[0m:\u001b[36m57\u001b[0m - \u001b[1m90.00%(1800/2000) 95.7 img/s\u001b[0m\n",
            "\u001b[32m2020-08-24 18:02:32.769\u001b[0m | \u001b[1mINFO    \u001b[0m | \u001b[36m__mp_main__\u001b[0m:\u001b[36mrun\u001b[0m:\u001b[36m57\u001b[0m - \u001b[1m100.00%(2000/2000) 95.0 img/s\u001b[0m\n",
            "\u001b[32m2020-08-24 18:02:32.941\u001b[0m | \u001b[1mINFO    \u001b[0m | \u001b[36m__mp_main__\u001b[0m:\u001b[36mrun\u001b[0m:\u001b[36m49\u001b[0m - \u001b[1mDBWriterProcess receive stop token\u001b[0m\n",
            "\u001b[32m2020-08-24 18:02:32.942\u001b[0m | \u001b[1mINFO    \u001b[0m | \u001b[36m__mp_main__\u001b[0m:\u001b[36mrun\u001b[0m:\u001b[36m61\u001b[0m - \u001b[1m100.00%(2000/2000)\u001b[0m\n",
            "\u001b[32m2020-08-24 18:02:32.942\u001b[0m | \u001b[1mINFO    \u001b[0m | \u001b[36m__mp_main__\u001b[0m:\u001b[36mrun\u001b[0m:\u001b[36m62\u001b[0m - \u001b[1mFinish generate: 2000. Total: 2000\u001b[0m\n",
            "\u001b[32m2020-08-24 18:02:33.489\u001b[0m | \u001b[1mINFO    \u001b[0m | \u001b[36m__mp_main__\u001b[0m:\u001b[36mrun\u001b[0m:\u001b[36m44\u001b[0m - \u001b[1mExist image count in /content/text_renderer/example_data/output/extra_text_line_data: 0\u001b[0m\n",
            "\u001b[32m2020-08-24 18:02:33.938\u001b[0m | \u001b[1mINFO    \u001b[0m | \u001b[36m__mp_main__\u001b[0m:\u001b[36mprocess_setup\u001b[0m:\u001b[36m82\u001b[0m - \u001b[1mFinish setup image generate process: 24372\u001b[0m\n",
            "\u001b[32m2020-08-24 18:02:34.386\u001b[0m | \u001b[1mINFO    \u001b[0m | \u001b[36m__mp_main__\u001b[0m:\u001b[36mprocess_setup\u001b[0m:\u001b[36m82\u001b[0m - \u001b[1mFinish setup image generate process: 24374\u001b[0m\n",
            "\u001b[32m2020-08-24 18:02:36.384\u001b[0m | \u001b[1mINFO    \u001b[0m | \u001b[36m__mp_main__\u001b[0m:\u001b[36mrun\u001b[0m:\u001b[36m57\u001b[0m - \u001b[1m10.00%(200/2000) 69.1 img/s\u001b[0m\n",
            "\u001b[32m2020-08-24 18:02:38.452\u001b[0m | \u001b[1mINFO    \u001b[0m | \u001b[36m__mp_main__\u001b[0m:\u001b[36mrun\u001b[0m:\u001b[36m57\u001b[0m - \u001b[1m20.00%(400/2000) 96.7 img/s\u001b[0m\n",
            "\u001b[32m2020-08-24 18:02:40.556\u001b[0m | \u001b[1mINFO    \u001b[0m | \u001b[36m__mp_main__\u001b[0m:\u001b[36mrun\u001b[0m:\u001b[36m57\u001b[0m - \u001b[1m30.00%(600/2000) 95.1 img/s\u001b[0m\n",
            "\u001b[32m2020-08-24 18:02:42.595\u001b[0m | \u001b[1mINFO    \u001b[0m | \u001b[36m__mp_main__\u001b[0m:\u001b[36mrun\u001b[0m:\u001b[36m57\u001b[0m - \u001b[1m40.00%(800/2000) 98.1 img/s\u001b[0m\n",
            "\u001b[32m2020-08-24 18:02:44.659\u001b[0m | \u001b[1mINFO    \u001b[0m | \u001b[36m__mp_main__\u001b[0m:\u001b[36mrun\u001b[0m:\u001b[36m57\u001b[0m - \u001b[1m50.00%(1000/2000) 96.9 img/s\u001b[0m\n",
            "\u001b[32m2020-08-24 18:02:46.734\u001b[0m | \u001b[1mINFO    \u001b[0m | \u001b[36m__mp_main__\u001b[0m:\u001b[36mrun\u001b[0m:\u001b[36m57\u001b[0m - \u001b[1m60.00%(1200/2000) 96.4 img/s\u001b[0m\n",
            "\u001b[32m2020-08-24 18:02:48.802\u001b[0m | \u001b[1mINFO    \u001b[0m | \u001b[36m__mp_main__\u001b[0m:\u001b[36mrun\u001b[0m:\u001b[36m57\u001b[0m - \u001b[1m70.00%(1400/2000) 96.7 img/s\u001b[0m\n",
            "\u001b[32m2020-08-24 18:02:50.851\u001b[0m | \u001b[1mINFO    \u001b[0m | \u001b[36m__mp_main__\u001b[0m:\u001b[36mrun\u001b[0m:\u001b[36m57\u001b[0m - \u001b[1m80.00%(1600/2000) 97.7 img/s\u001b[0m\n",
            "\u001b[32m2020-08-24 18:02:52.894\u001b[0m | \u001b[1mINFO    \u001b[0m | \u001b[36m__mp_main__\u001b[0m:\u001b[36mrun\u001b[0m:\u001b[36m57\u001b[0m - \u001b[1m90.00%(1800/2000) 97.9 img/s\u001b[0m\n",
            "\u001b[32m2020-08-24 18:02:55.029\u001b[0m | \u001b[1mINFO    \u001b[0m | \u001b[36m__mp_main__\u001b[0m:\u001b[36mrun\u001b[0m:\u001b[36m57\u001b[0m - \u001b[1m100.00%(2000/2000) 93.7 img/s\u001b[0m\n",
            "\u001b[32m2020-08-24 18:02:55.233\u001b[0m | \u001b[1mINFO    \u001b[0m | \u001b[36m__mp_main__\u001b[0m:\u001b[36mrun\u001b[0m:\u001b[36m49\u001b[0m - \u001b[1mDBWriterProcess receive stop token\u001b[0m\n",
            "\u001b[32m2020-08-24 18:02:55.234\u001b[0m | \u001b[1mINFO    \u001b[0m | \u001b[36m__mp_main__\u001b[0m:\u001b[36mrun\u001b[0m:\u001b[36m61\u001b[0m - \u001b[1m100.00%(2000/2000)\u001b[0m\n",
            "\u001b[32m2020-08-24 18:02:55.234\u001b[0m | \u001b[1mINFO    \u001b[0m | \u001b[36m__mp_main__\u001b[0m:\u001b[36mrun\u001b[0m:\u001b[36m62\u001b[0m - \u001b[1mFinish generate: 2000. Total: 2000\u001b[0m\n"
          ],
          "name": "stdout"
        }
      ]
    },
    {
      "cell_type": "code",
      "metadata": {
        "id": "izVrU4o8bOy0",
        "colab_type": "code",
        "colab": {}
      },
      "source": [
        "import json \n",
        "import csv \n",
        "import pandas as pd\n",
        "\n",
        "df = pd.read_json ('/content/text_renderer/example_data/output/word_corpus/labels.json')  \n",
        "df.to_csv ('/content/text_renderer/data_sample.csv', index = None, header=True)  \n"
      ],
      "execution_count": 6,
      "outputs": []
    },
    {
      "cell_type": "code",
      "metadata": {
        "id": "YmZy0GDzTFvh",
        "colab_type": "code",
        "colab": {
          "base_uri": "https://localhost:8080/",
          "height": 419
        },
        "outputId": "3a57f412-2b11-42ce-8db4-4651caa2cdb3"
      },
      "source": [
        "df"
      ],
      "execution_count": 7,
      "outputs": [
        {
          "output_type": "execute_result",
          "data": {
            "text/html": [
              "<div>\n",
              "<style scoped>\n",
              "    .dataframe tbody tr th:only-of-type {\n",
              "        vertical-align: middle;\n",
              "    }\n",
              "\n",
              "    .dataframe tbody tr th {\n",
              "        vertical-align: top;\n",
              "    }\n",
              "\n",
              "    .dataframe thead th {\n",
              "        text-align: right;\n",
              "    }\n",
              "</style>\n",
              "<table border=\"1\" class=\"dataframe\">\n",
              "  <thead>\n",
              "    <tr style=\"text-align: right;\">\n",
              "      <th></th>\n",
              "      <th>num-samples</th>\n",
              "      <th>labels</th>\n",
              "      <th>sizes</th>\n",
              "    </tr>\n",
              "  </thead>\n",
              "  <tbody>\n",
              "    <tr>\n",
              "      <th>0</th>\n",
              "      <td>2000</td>\n",
              "      <td>the</td>\n",
              "      <td>[64, 32]</td>\n",
              "    </tr>\n",
              "    <tr>\n",
              "      <th>1</th>\n",
              "      <td>2000</td>\n",
              "      <td>freeway, Arthur Dent is</td>\n",
              "      <td>[404, 32]</td>\n",
              "    </tr>\n",
              "    <tr>\n",
              "      <th>2</th>\n",
              "      <td>2000</td>\n",
              "      <td>and chronically depressed robot;</td>\n",
              "      <td>[576, 32]</td>\n",
              "    </tr>\n",
              "    <tr>\n",
              "      <th>3</th>\n",
              "      <td>2000</td>\n",
              "      <td>are we born? Why</td>\n",
              "      <td>[263, 32]</td>\n",
              "    </tr>\n",
              "    <tr>\n",
              "      <th>4</th>\n",
              "      <td>2000</td>\n",
              "      <td>by</td>\n",
              "      <td>[37, 32]</td>\n",
              "    </tr>\n",
              "    <tr>\n",
              "      <th>...</th>\n",
              "      <td>...</td>\n",
              "      <td>...</td>\n",
              "      <td>...</td>\n",
              "    </tr>\n",
              "    <tr>\n",
              "      <th>1995</th>\n",
              "      <td>2000</td>\n",
              "      <td>a galaxyful of</td>\n",
              "      <td>[254, 32]</td>\n",
              "    </tr>\n",
              "    <tr>\n",
              "      <th>1996</th>\n",
              "      <td>2000</td>\n",
              "      <td>ex-hippie</td>\n",
              "      <td>[158, 32]</td>\n",
              "    </tr>\n",
              "    <tr>\n",
              "      <th>1997</th>\n",
              "      <td>2000</td>\n",
              "      <td>plucked</td>\n",
              "      <td>[118, 32]</td>\n",
              "    </tr>\n",
              "    <tr>\n",
              "      <th>1998</th>\n",
              "      <td>2000</td>\n",
              "      <td>disappearance of all the</td>\n",
              "      <td>[392, 32]</td>\n",
              "    </tr>\n",
              "    <tr>\n",
              "      <th>1999</th>\n",
              "      <td>2000</td>\n",
              "      <td>paranoid, brilliant, and chronically</td>\n",
              "      <td>[630, 32]</td>\n",
              "    </tr>\n",
              "  </tbody>\n",
              "</table>\n",
              "<p>2000 rows × 3 columns</p>\n",
              "</div>"
            ],
            "text/plain": [
              "      num-samples                                labels      sizes\n",
              "0            2000                                   the   [64, 32]\n",
              "1            2000               freeway, Arthur Dent is  [404, 32]\n",
              "2            2000      and chronically depressed robot;  [576, 32]\n",
              "3            2000                      are we born? Why  [263, 32]\n",
              "4            2000                                    by   [37, 32]\n",
              "...           ...                                   ...        ...\n",
              "1995         2000                        a galaxyful of  [254, 32]\n",
              "1996         2000                             ex-hippie  [158, 32]\n",
              "1997         2000                               plucked  [118, 32]\n",
              "1998         2000              disappearance of all the  [392, 32]\n",
              "1999         2000  paranoid, brilliant, and chronically  [630, 32]\n",
              "\n",
              "[2000 rows x 3 columns]"
            ]
          },
          "metadata": {
            "tags": []
          },
          "execution_count": 7
        }
      ]
    },
    {
      "cell_type": "code",
      "metadata": {
        "id": "DqPSTpVLTuuC",
        "colab_type": "code",
        "colab": {}
      },
      "source": [
        "df = df.drop(['num-samples'], axis = 1)"
      ],
      "execution_count": 8,
      "outputs": []
    },
    {
      "cell_type": "code",
      "metadata": {
        "id": "QyUGf8xIT7ka",
        "colab_type": "code",
        "colab": {
          "base_uri": "https://localhost:8080/",
          "height": 419
        },
        "outputId": "a13620e5-a26f-48b8-9d0b-3021720ba2ec"
      },
      "source": [
        "df"
      ],
      "execution_count": 10,
      "outputs": [
        {
          "output_type": "execute_result",
          "data": {
            "text/html": [
              "<div>\n",
              "<style scoped>\n",
              "    .dataframe tbody tr th:only-of-type {\n",
              "        vertical-align: middle;\n",
              "    }\n",
              "\n",
              "    .dataframe tbody tr th {\n",
              "        vertical-align: top;\n",
              "    }\n",
              "\n",
              "    .dataframe thead th {\n",
              "        text-align: right;\n",
              "    }\n",
              "</style>\n",
              "<table border=\"1\" class=\"dataframe\">\n",
              "  <thead>\n",
              "    <tr style=\"text-align: right;\">\n",
              "      <th></th>\n",
              "      <th>labels</th>\n",
              "      <th>sizes</th>\n",
              "    </tr>\n",
              "  </thead>\n",
              "  <tbody>\n",
              "    <tr>\n",
              "      <th>0</th>\n",
              "      <td>the</td>\n",
              "      <td>[64, 32]</td>\n",
              "    </tr>\n",
              "    <tr>\n",
              "      <th>1</th>\n",
              "      <td>freeway, Arthur Dent is</td>\n",
              "      <td>[404, 32]</td>\n",
              "    </tr>\n",
              "    <tr>\n",
              "      <th>2</th>\n",
              "      <td>and chronically depressed robot;</td>\n",
              "      <td>[576, 32]</td>\n",
              "    </tr>\n",
              "    <tr>\n",
              "      <th>3</th>\n",
              "      <td>are we born? Why</td>\n",
              "      <td>[263, 32]</td>\n",
              "    </tr>\n",
              "    <tr>\n",
              "      <th>4</th>\n",
              "      <td>by</td>\n",
              "      <td>[37, 32]</td>\n",
              "    </tr>\n",
              "    <tr>\n",
              "      <th>...</th>\n",
              "      <td>...</td>\n",
              "      <td>...</td>\n",
              "    </tr>\n",
              "    <tr>\n",
              "      <th>1995</th>\n",
              "      <td>a galaxyful of</td>\n",
              "      <td>[254, 32]</td>\n",
              "    </tr>\n",
              "    <tr>\n",
              "      <th>1996</th>\n",
              "      <td>ex-hippie</td>\n",
              "      <td>[158, 32]</td>\n",
              "    </tr>\n",
              "    <tr>\n",
              "      <th>1997</th>\n",
              "      <td>plucked</td>\n",
              "      <td>[118, 32]</td>\n",
              "    </tr>\n",
              "    <tr>\n",
              "      <th>1998</th>\n",
              "      <td>disappearance of all the</td>\n",
              "      <td>[392, 32]</td>\n",
              "    </tr>\n",
              "    <tr>\n",
              "      <th>1999</th>\n",
              "      <td>paranoid, brilliant, and chronically</td>\n",
              "      <td>[630, 32]</td>\n",
              "    </tr>\n",
              "  </tbody>\n",
              "</table>\n",
              "<p>2000 rows × 2 columns</p>\n",
              "</div>"
            ],
            "text/plain": [
              "                                    labels      sizes\n",
              "0                                      the   [64, 32]\n",
              "1                  freeway, Arthur Dent is  [404, 32]\n",
              "2         and chronically depressed robot;  [576, 32]\n",
              "3                         are we born? Why  [263, 32]\n",
              "4                                       by   [37, 32]\n",
              "...                                    ...        ...\n",
              "1995                        a galaxyful of  [254, 32]\n",
              "1996                             ex-hippie  [158, 32]\n",
              "1997                               plucked  [118, 32]\n",
              "1998              disappearance of all the  [392, 32]\n",
              "1999  paranoid, brilliant, and chronically  [630, 32]\n",
              "\n",
              "[2000 rows x 2 columns]"
            ]
          },
          "metadata": {
            "tags": []
          },
          "execution_count": 10
        }
      ]
    },
    {
      "cell_type": "code",
      "metadata": {
        "id": "t3sakxlweL4g",
        "colab_type": "code",
        "colab": {}
      },
      "source": [
        "def _bytes_feature(value):\n",
        "  \"\"\"Returns a bytes_list from a string / byte.\"\"\"\n",
        "  if isinstance(value, type(tf.constant(0))):\n",
        "    value = value.numpy() # BytesList won't unpack a string from an EagerTensor.\n",
        "  return tf.train.Feature(bytes_list=tf.train.BytesList(value=[value]))\n",
        "def _float_feature(value):\n",
        "  \"\"\"Returns a float_list from a float / double.\"\"\"\n",
        "  return tf.train.Feature(float_list=tf.train.FloatList(value=[value]))\n",
        "\n",
        "def _int64_feature(value):\n",
        "  \"\"\"Returns an int64_list from a bool / enum / int / uint.\"\"\"\n",
        "  return tf.train.Feature(int64_list=tf.train.Int64List(value=[value]))"
      ],
      "execution_count": 12,
      "outputs": []
    },
    {
      "cell_type": "code",
      "metadata": {
        "id": "Eu1vM6Lurp8N",
        "colab_type": "code",
        "colab": {}
      },
      "source": [
        "import numpy as np, pandas as pd, os\n",
        "import matplotlib.pyplot as plt, cv2\n",
        "import tensorflow as tf, re, math\n",
        "PATH  = '/content/text_renderer/example_data/output/char_corpus'\n",
        "IMGS = os.listdir(PATH)"
      ],
      "execution_count": 15,
      "outputs": []
    },
    {
      "cell_type": "code",
      "metadata": {
        "id": "2_kWwuAmsb9A",
        "colab_type": "code",
        "colab": {
          "base_uri": "https://localhost:8080/",
          "height": 34
        },
        "outputId": "8c152b20-8a15-4a6c-fcbf-52502991ebfe"
      },
      "source": [
        "IMGS"
      ],
      "execution_count": 18,
      "outputs": [
        {
          "output_type": "execute_result",
          "data": {
            "text/plain": [
              "['labels.json', 'images']"
            ]
          },
          "metadata": {
            "tags": []
          },
          "execution_count": 18
        }
      ]
    },
    {
      "cell_type": "code",
      "metadata": {
        "id": "UAQ7DYL5q_EQ",
        "colab_type": "code",
        "colab": {
          "base_uri": "https://localhost:8080/",
          "height": 282
        },
        "outputId": "58b93401-48b2-442e-c5a7-7342f86495ce"
      },
      "source": [
        "def serialize_example(feature0, feature1, feature2, feature3, feature4, feature5, feature6, feature7):\n",
        "  feature = {\n",
        "      'image': _bytes_feature(feature0),\n",
        "      'image_name': _bytes_feature(feature1),\n",
        "      'sizes': _int64_feature(feature2),\n",
        "      'labels': _bytes_feature(feature7)\n",
        "  }\n",
        "  example_proto = tf.train.Example(features=tf.train.Features(feature=feature))\n",
        "  return example_proto.SerializeToString()\n",
        "SIZE = 2071\n",
        "CT = len(IMGS)//SIZE + int(len(IMGS)%SIZE!=0)\n",
        "for j in range(CT):\n",
        "    print(); print('Writing TFRecord %i of %i...'%(j,CT))\n",
        "    CT2 = min(SIZE,len(IMGS)-j*SIZE)\n",
        "    with tf.io.TFRecordWriter('train%.2i-%i.tfrec'%(j,CT2)) as writer:\n",
        "        for k in range(CT2):\n",
        "            img = cv2.imread(PATH+IMGS[SIZE*j+k])\n",
        "            img = cv2.cvtColor(img, cv2.COLOR_RGB2BGR) # Fix incorrect colors\n",
        "            img = cv2.imencode('.jpg', img, (cv2.IMWRITE_JPEG_QUALITY, 94))[1].tostring()\n",
        "            name = IMGS[SIZE*j+k].split('.')[0]\n",
        "            row = df.loc[df.index==name]\n",
        "            example = serialize_example(\n",
        "                img, str.encode(name),\n",
        "                row.labels.values[0],\n",
        "                row.sizes.values[0])\n",
        "            writer.write(example)\n",
        "            if k%100==0: print(k,', ',end='')"
      ],
      "execution_count": 17,
      "outputs": [
        {
          "output_type": "stream",
          "text": [
            "\n",
            "Writing TFRecord 0 of 1...\n"
          ],
          "name": "stdout"
        },
        {
          "output_type": "error",
          "ename": "error",
          "evalue": "ignored",
          "traceback": [
            "\u001b[0;31m---------------------------------------------------------------------------\u001b[0m",
            "\u001b[0;31merror\u001b[0m                                     Traceback (most recent call last)",
            "\u001b[0;32m<ipython-input-17-40fbf12baa24>\u001b[0m in \u001b[0;36m<module>\u001b[0;34m()\u001b[0m\n\u001b[1;32m     16\u001b[0m         \u001b[0;32mfor\u001b[0m \u001b[0mk\u001b[0m \u001b[0;32min\u001b[0m \u001b[0mrange\u001b[0m\u001b[0;34m(\u001b[0m\u001b[0mCT2\u001b[0m\u001b[0;34m)\u001b[0m\u001b[0;34m:\u001b[0m\u001b[0;34m\u001b[0m\u001b[0;34m\u001b[0m\u001b[0m\n\u001b[1;32m     17\u001b[0m             \u001b[0mimg\u001b[0m \u001b[0;34m=\u001b[0m \u001b[0mcv2\u001b[0m\u001b[0;34m.\u001b[0m\u001b[0mimread\u001b[0m\u001b[0;34m(\u001b[0m\u001b[0mPATH\u001b[0m\u001b[0;34m+\u001b[0m\u001b[0mIMGS\u001b[0m\u001b[0;34m[\u001b[0m\u001b[0mSIZE\u001b[0m\u001b[0;34m*\u001b[0m\u001b[0mj\u001b[0m\u001b[0;34m+\u001b[0m\u001b[0mk\u001b[0m\u001b[0;34m]\u001b[0m\u001b[0;34m)\u001b[0m\u001b[0;34m\u001b[0m\u001b[0;34m\u001b[0m\u001b[0m\n\u001b[0;32m---> 18\u001b[0;31m             \u001b[0mimg\u001b[0m \u001b[0;34m=\u001b[0m \u001b[0mcv2\u001b[0m\u001b[0;34m.\u001b[0m\u001b[0mcvtColor\u001b[0m\u001b[0;34m(\u001b[0m\u001b[0mimg\u001b[0m\u001b[0;34m,\u001b[0m \u001b[0mcv2\u001b[0m\u001b[0;34m.\u001b[0m\u001b[0mCOLOR_RGB2BGR\u001b[0m\u001b[0;34m)\u001b[0m \u001b[0;31m# Fix incorrect colors\u001b[0m\u001b[0;34m\u001b[0m\u001b[0;34m\u001b[0m\u001b[0m\n\u001b[0m\u001b[1;32m     19\u001b[0m             \u001b[0mimg\u001b[0m \u001b[0;34m=\u001b[0m \u001b[0mcv2\u001b[0m\u001b[0;34m.\u001b[0m\u001b[0mimencode\u001b[0m\u001b[0;34m(\u001b[0m\u001b[0;34m'.jpg'\u001b[0m\u001b[0;34m,\u001b[0m \u001b[0mimg\u001b[0m\u001b[0;34m,\u001b[0m \u001b[0;34m(\u001b[0m\u001b[0mcv2\u001b[0m\u001b[0;34m.\u001b[0m\u001b[0mIMWRITE_JPEG_QUALITY\u001b[0m\u001b[0;34m,\u001b[0m \u001b[0;36m94\u001b[0m\u001b[0;34m)\u001b[0m\u001b[0;34m)\u001b[0m\u001b[0;34m[\u001b[0m\u001b[0;36m1\u001b[0m\u001b[0;34m]\u001b[0m\u001b[0;34m.\u001b[0m\u001b[0mtostring\u001b[0m\u001b[0;34m(\u001b[0m\u001b[0;34m)\u001b[0m\u001b[0;34m\u001b[0m\u001b[0;34m\u001b[0m\u001b[0m\n\u001b[1;32m     20\u001b[0m             \u001b[0mname\u001b[0m \u001b[0;34m=\u001b[0m \u001b[0mIMGS\u001b[0m\u001b[0;34m[\u001b[0m\u001b[0mSIZE\u001b[0m\u001b[0;34m*\u001b[0m\u001b[0mj\u001b[0m\u001b[0;34m+\u001b[0m\u001b[0mk\u001b[0m\u001b[0;34m]\u001b[0m\u001b[0;34m.\u001b[0m\u001b[0msplit\u001b[0m\u001b[0;34m(\u001b[0m\u001b[0;34m'.'\u001b[0m\u001b[0;34m)\u001b[0m\u001b[0;34m[\u001b[0m\u001b[0;36m0\u001b[0m\u001b[0;34m]\u001b[0m\u001b[0;34m\u001b[0m\u001b[0;34m\u001b[0m\u001b[0m\n",
            "\u001b[0;31merror\u001b[0m: OpenCV(3.4.5) /io/opencv/modules/imgproc/src/color.cpp:181: error: (-215:Assertion failed) !_src.empty() in function 'cvtColor'\n"
          ]
        }
      ]
    },
    {
      "cell_type": "code",
      "metadata": {
        "id": "8LpOoj2_ec7x",
        "colab_type": "code",
        "colab": {}
      },
      "source": [
        ""
      ],
      "execution_count": null,
      "outputs": []
    }
  ]
}