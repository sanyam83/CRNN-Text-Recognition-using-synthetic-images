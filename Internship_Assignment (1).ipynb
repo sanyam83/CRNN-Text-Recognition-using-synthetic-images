{
  "nbformat": 4,
  "nbformat_minor": 0,
  "metadata": {
    "colab": {
      "name": "Internship Assignment",
      "provenance": [],
      "collapsed_sections": []
    },
    "kernelspec": {
      "name": "python3",
      "display_name": "Python 3"
    },
    "accelerator": "GPU"
  },
  "cells": [
    {
      "cell_type": "code",
      "metadata": {
        "id": "Etk0INVcDiVX",
        "colab_type": "code",
        "colab": {}
      },
      "source": [
        "g_drive_path = '/content/gdrive'\n",
        "from google.colab import drive\n",
        "drive.mount(g_drive_path)"
      ],
      "execution_count": null,
      "outputs": []
    },
    {
      "cell_type": "code",
      "metadata": {
        "id": "KfYUb5bx3nmd",
        "colab_type": "code",
        "colab": {
          "base_uri": "https://localhost:8080/",
          "height": 136
        },
        "outputId": "8bd7c396-033d-4832-d513-758d942b1c95"
      },
      "source": [
        "!git clone https://github.com/sanyam83/text_renderer.git"
      ],
      "execution_count": 2,
      "outputs": [
        {
          "output_type": "stream",
          "text": [
            "Cloning into 'text_renderer'...\n",
            "remote: Enumerating objects: 72, done.\u001b[K\n",
            "remote: Counting objects: 100% (72/72), done.\u001b[K\n",
            "remote: Compressing objects: 100% (69/69), done.\u001b[K\n",
            "remote: Total 725 (delta 33), reused 0 (delta 0), pack-reused 653\u001b[K\n",
            "Receiving objects: 100% (725/725), 11.63 MiB | 27.12 MiB/s, done.\n",
            "Resolving deltas: 100% (345/345), done.\n"
          ],
          "name": "stdout"
        }
      ]
    },
    {
      "cell_type": "code",
      "metadata": {
        "id": "l8MAtpOL4Z3x",
        "colab_type": "code",
        "colab": {
          "base_uri": "https://localhost:8080/",
          "height": 289
        },
        "outputId": "c980319a-aa28-4306-a218-45cdd75fce66"
      },
      "source": [
        "%cd /content/text_renderer\n",
        "!python setup.py develop"
      ],
      "execution_count": 3,
      "outputs": [
        {
          "output_type": "stream",
          "text": [
            "/content/text_renderer\n",
            "running develop\n",
            "running egg_info\n",
            "creating text_renderer.egg-info\n",
            "writing text_renderer.egg-info/PKG-INFO\n",
            "writing dependency_links to text_renderer.egg-info/dependency_links.txt\n",
            "writing top-level names to text_renderer.egg-info/top_level.txt\n",
            "writing manifest file 'text_renderer.egg-info/SOURCES.txt'\n",
            "writing manifest file 'text_renderer.egg-info/SOURCES.txt'\n",
            "running build_ext\n",
            "Creating /usr/local/lib/python3.6/dist-packages/text-renderer.egg-link (link to .)\n",
            "Adding text-renderer 0.0.1 to easy-install.pth file\n",
            "\n",
            "Installed /content/text_renderer\n",
            "Processing dependencies for text-renderer==0.0.1\n",
            "Finished processing dependencies for text-renderer==0.0.1\n"
          ],
          "name": "stdout"
        }
      ]
    },
    {
      "cell_type": "code",
      "metadata": {
        "id": "vr-Nm2Ah4j4f",
        "colab_type": "code",
        "colab": {
          "base_uri": "https://localhost:8080/",
          "height": 1000
        },
        "outputId": "e14133f3-8607-42b9-87a6-28df68f63d0f"
      },
      "source": [
        "!pip install -r docker/requirements.txt"
      ],
      "execution_count": 4,
      "outputs": [
        {
          "output_type": "stream",
          "text": [
            "Collecting opencv-python==3.4.5.20\n",
            "\u001b[?25l  Downloading https://files.pythonhosted.org/packages/85/e1/d3eed618272f4b746339af1a84b2511e79c1708d88a9195cf25d743fa614/opencv_python-3.4.5.20-cp36-cp36m-manylinux1_x86_64.whl (25.4MB)\n",
            "\u001b[K     |████████████████████████████████| 25.4MB 119kB/s \n",
            "\u001b[?25hCollecting fontTools==4.12.1\n",
            "\u001b[?25l  Downloading https://files.pythonhosted.org/packages/70/80/6703106d6e3a56d0b124a2a1b3159d70ef383282b428a385bbee39762030/fonttools-4.12.1-py3-none-any.whl (803kB)\n",
            "\u001b[K     |████████████████████████████████| 808kB 44.0MB/s \n",
            "\u001b[?25hCollecting lmdb==0.98\n",
            "\u001b[?25l  Downloading https://files.pythonhosted.org/packages/c0/5c/d56dbc2532ecf14fa004c543927500c0f645eaca8bd7ec39420c7546396a/lmdb-0.98.tar.gz (869kB)\n",
            "\u001b[K     |████████████████████████████████| 870kB 36.1MB/s \n",
            "\u001b[?25hCollecting pillow==6.2.2\n",
            "\u001b[?25l  Downloading https://files.pythonhosted.org/packages/8a/fd/bbbc569f98f47813c50a116b539d97b3b17a86ac7a309f83b2022d26caf2/Pillow-6.2.2-cp36-cp36m-manylinux1_x86_64.whl (2.1MB)\n",
            "\u001b[K     |████████████████████████████████| 2.1MB 34.1MB/s \n",
            "\u001b[?25hRequirement already satisfied: numpy in /usr/local/lib/python3.6/dist-packages (from -r docker/requirements.txt (line 5)) (1.18.5)\n",
            "Collecting tenacity\n",
            "  Downloading https://files.pythonhosted.org/packages/b5/05/ff089032442058bd3386f9cd991cd88ccac81dca1494d78751621ee35e62/tenacity-6.2.0-py2.py3-none-any.whl\n",
            "Collecting fire\n",
            "\u001b[?25l  Downloading https://files.pythonhosted.org/packages/34/a7/0e22e70778aca01a52b9c899d9c145c6396d7b613719cd63db97ffa13f2f/fire-0.3.1.tar.gz (81kB)\n",
            "\u001b[K     |████████████████████████████████| 81kB 8.3MB/s \n",
            "\u001b[?25hRequirement already satisfied: tqdm in /usr/local/lib/python3.6/dist-packages (from -r docker/requirements.txt (line 8)) (4.41.1)\n",
            "Collecting loguru\n",
            "\u001b[?25l  Downloading https://files.pythonhosted.org/packages/59/4f/baee593c195cd4b56cf008c9473347f3b0795b47d3b946e03706a8b43fca/loguru-0.5.1-py3-none-any.whl (56kB)\n",
            "\u001b[K     |████████████████████████████████| 61kB 6.7MB/s \n",
            "\u001b[?25hRequirement already satisfied: cffi in /usr/local/lib/python3.6/dist-packages (from -r docker/requirements.txt (line 10)) (1.14.2)\n",
            "Collecting sphinx==3.1.2\n",
            "\u001b[?25l  Downloading https://files.pythonhosted.org/packages/e0/bb/bbe3f555751da411ed892526d0d78ed1b9ff2a25ed2b0dab9f2670c8da07/Sphinx-3.1.2-py3-none-any.whl (2.9MB)\n",
            "\u001b[K     |████████████████████████████████| 2.9MB 38.4MB/s \n",
            "\u001b[?25hCollecting sphinx-rtd-theme\n",
            "\u001b[?25l  Downloading https://files.pythonhosted.org/packages/c3/86/1addf25a238bbd8466bb099f23d9a9f13494b22b37b44f6c41a778b8730f/sphinx_rtd_theme-0.5.0-py2.py3-none-any.whl (10.8MB)\n",
            "\u001b[K     |████████████████████████████████| 10.8MB 31.4MB/s \n",
            "\u001b[?25hRequirement already satisfied: dataclasses in /usr/local/lib/python3.6/dist-packages (from -r docker/requirements.txt (line 13)) (0.7)\n",
            "Requirement already satisfied: pytest in /usr/local/lib/python3.6/dist-packages (from -r docker/requirements.txt (line 14)) (3.6.4)\n",
            "Requirement already satisfied: six>=1.9.0 in /usr/local/lib/python3.6/dist-packages (from tenacity->-r docker/requirements.txt (line 6)) (1.15.0)\n",
            "Requirement already satisfied: termcolor in /usr/local/lib/python3.6/dist-packages (from fire->-r docker/requirements.txt (line 7)) (1.1.0)\n",
            "Collecting aiocontextvars>=0.2.0; python_version < \"3.7\"\n",
            "  Downloading https://files.pythonhosted.org/packages/db/c1/7a723e8d988de0a2e623927396e54b6831b68cb80dce468c945b849a9385/aiocontextvars-0.2.2-py2.py3-none-any.whl\n",
            "Requirement already satisfied: pycparser in /usr/local/lib/python3.6/dist-packages (from cffi->-r docker/requirements.txt (line 10)) (2.20)\n",
            "Requirement already satisfied: packaging in /usr/local/lib/python3.6/dist-packages (from sphinx==3.1.2->-r docker/requirements.txt (line 11)) (20.4)\n",
            "Collecting sphinxcontrib-jsmath\n",
            "  Downloading https://files.pythonhosted.org/packages/c2/42/4c8646762ee83602e3fb3fbe774c2fac12f317deb0b5dbeeedd2d3ba4b77/sphinxcontrib_jsmath-1.0.1-py2.py3-none-any.whl\n",
            "Requirement already satisfied: babel>=1.3 in /usr/local/lib/python3.6/dist-packages (from sphinx==3.1.2->-r docker/requirements.txt (line 11)) (2.8.0)\n",
            "Requirement already satisfied: Jinja2>=2.3 in /usr/local/lib/python3.6/dist-packages (from sphinx==3.1.2->-r docker/requirements.txt (line 11)) (2.11.2)\n",
            "Requirement already satisfied: sphinxcontrib-serializinghtml in /usr/local/lib/python3.6/dist-packages (from sphinx==3.1.2->-r docker/requirements.txt (line 11)) (1.1.4)\n",
            "Collecting sphinxcontrib-devhelp\n",
            "\u001b[?25l  Downloading https://files.pythonhosted.org/packages/c5/09/5de5ed43a521387f18bdf5f5af31d099605c992fd25372b2b9b825ce48ee/sphinxcontrib_devhelp-1.0.2-py2.py3-none-any.whl (84kB)\n",
            "\u001b[K     |████████████████████████████████| 92kB 9.8MB/s \n",
            "\u001b[?25hRequirement already satisfied: Pygments>=2.0 in /usr/local/lib/python3.6/dist-packages (from sphinx==3.1.2->-r docker/requirements.txt (line 11)) (2.1.3)\n",
            "Requirement already satisfied: docutils>=0.12 in /usr/local/lib/python3.6/dist-packages (from sphinx==3.1.2->-r docker/requirements.txt (line 11)) (0.15.2)\n",
            "Requirement already satisfied: snowballstemmer>=1.1 in /usr/local/lib/python3.6/dist-packages (from sphinx==3.1.2->-r docker/requirements.txt (line 11)) (2.0.0)\n",
            "Requirement already satisfied: alabaster<0.8,>=0.7 in /usr/local/lib/python3.6/dist-packages (from sphinx==3.1.2->-r docker/requirements.txt (line 11)) (0.7.12)\n",
            "Requirement already satisfied: imagesize in /usr/local/lib/python3.6/dist-packages (from sphinx==3.1.2->-r docker/requirements.txt (line 11)) (1.2.0)\n",
            "Collecting sphinxcontrib-applehelp\n",
            "\u001b[?25l  Downloading https://files.pythonhosted.org/packages/dc/47/86022665a9433d89a66f5911b558ddff69861766807ba685de2e324bd6ed/sphinxcontrib_applehelp-1.0.2-py2.py3-none-any.whl (121kB)\n",
            "\u001b[K     |████████████████████████████████| 122kB 34.5MB/s \n",
            "\u001b[?25hRequirement already satisfied: requests>=2.5.0 in /usr/local/lib/python3.6/dist-packages (from sphinx==3.1.2->-r docker/requirements.txt (line 11)) (2.23.0)\n",
            "Requirement already satisfied: setuptools in /usr/local/lib/python3.6/dist-packages (from sphinx==3.1.2->-r docker/requirements.txt (line 11)) (49.6.0)\n",
            "Collecting sphinxcontrib-qthelp\n",
            "\u001b[?25l  Downloading https://files.pythonhosted.org/packages/2b/14/05f9206cf4e9cfca1afb5fd224c7cd434dcc3a433d6d9e4e0264d29c6cdb/sphinxcontrib_qthelp-1.0.3-py2.py3-none-any.whl (90kB)\n",
            "\u001b[K     |████████████████████████████████| 92kB 9.6MB/s \n",
            "\u001b[?25hCollecting sphinxcontrib-htmlhelp\n",
            "\u001b[?25l  Downloading https://files.pythonhosted.org/packages/36/62/8222554b29b3acde8420128d6d3999c5904d40922ef4b6ccb370e2be7421/sphinxcontrib_htmlhelp-1.0.3-py2.py3-none-any.whl (96kB)\n",
            "\u001b[K     |████████████████████████████████| 102kB 10.3MB/s \n",
            "\u001b[?25hRequirement already satisfied: attrs>=17.4.0 in /usr/local/lib/python3.6/dist-packages (from pytest->-r docker/requirements.txt (line 14)) (20.1.0)\n",
            "Requirement already satisfied: more-itertools>=4.0.0 in /usr/local/lib/python3.6/dist-packages (from pytest->-r docker/requirements.txt (line 14)) (8.4.0)\n",
            "Requirement already satisfied: atomicwrites>=1.0 in /usr/local/lib/python3.6/dist-packages (from pytest->-r docker/requirements.txt (line 14)) (1.4.0)\n",
            "Requirement already satisfied: py>=1.5.0 in /usr/local/lib/python3.6/dist-packages (from pytest->-r docker/requirements.txt (line 14)) (1.9.0)\n",
            "Requirement already satisfied: pluggy<0.8,>=0.5 in /usr/local/lib/python3.6/dist-packages (from pytest->-r docker/requirements.txt (line 14)) (0.7.1)\n",
            "Collecting contextvars==2.4; python_version < \"3.7\"\n",
            "  Downloading https://files.pythonhosted.org/packages/83/96/55b82d9f13763be9d672622e1b8106c85acb83edd7cc2fa5bc67cd9877e9/contextvars-2.4.tar.gz\n",
            "Requirement already satisfied: pyparsing>=2.0.2 in /usr/local/lib/python3.6/dist-packages (from packaging->sphinx==3.1.2->-r docker/requirements.txt (line 11)) (2.4.7)\n",
            "Requirement already satisfied: pytz>=2015.7 in /usr/local/lib/python3.6/dist-packages (from babel>=1.3->sphinx==3.1.2->-r docker/requirements.txt (line 11)) (2018.9)\n",
            "Requirement already satisfied: MarkupSafe>=0.23 in /usr/local/lib/python3.6/dist-packages (from Jinja2>=2.3->sphinx==3.1.2->-r docker/requirements.txt (line 11)) (1.1.1)\n",
            "Requirement already satisfied: urllib3!=1.25.0,!=1.25.1,<1.26,>=1.21.1 in /usr/local/lib/python3.6/dist-packages (from requests>=2.5.0->sphinx==3.1.2->-r docker/requirements.txt (line 11)) (1.24.3)\n",
            "Requirement already satisfied: idna<3,>=2.5 in /usr/local/lib/python3.6/dist-packages (from requests>=2.5.0->sphinx==3.1.2->-r docker/requirements.txt (line 11)) (2.10)\n",
            "Requirement already satisfied: certifi>=2017.4.17 in /usr/local/lib/python3.6/dist-packages (from requests>=2.5.0->sphinx==3.1.2->-r docker/requirements.txt (line 11)) (2020.6.20)\n",
            "Requirement already satisfied: chardet<4,>=3.0.2 in /usr/local/lib/python3.6/dist-packages (from requests>=2.5.0->sphinx==3.1.2->-r docker/requirements.txt (line 11)) (3.0.4)\n",
            "Collecting immutables>=0.9\n",
            "\u001b[?25l  Downloading https://files.pythonhosted.org/packages/99/e0/ea6fd4697120327d26773b5a84853f897a68e33d3f9376b00a8ff96e4f63/immutables-0.14-cp36-cp36m-manylinux1_x86_64.whl (98kB)\n",
            "\u001b[K     |████████████████████████████████| 102kB 10.6MB/s \n",
            "\u001b[?25hBuilding wheels for collected packages: lmdb, fire, contextvars\n",
            "  Building wheel for lmdb (setup.py) ... \u001b[?25l\u001b[?25hdone\n",
            "  Created wheel for lmdb: filename=lmdb-0.98-cp36-cp36m-linux_x86_64.whl size=218603 sha256=319701253c12571775d5278a3064c7388834dd5b2be540d01f70ae7a33fefef5\n",
            "  Stored in directory: /root/.cache/pip/wheels/a1/97/8c/7721e4b6b0ac723c6cc45ecca60599a80f75e2367330647390\n",
            "  Building wheel for fire (setup.py) ... \u001b[?25l\u001b[?25hdone\n",
            "  Created wheel for fire: filename=fire-0.3.1-py2.py3-none-any.whl size=111005 sha256=0c3d8cae9a148795b28765ead8721c94b1d68e374d161a4c5fcb0c661036d056\n",
            "  Stored in directory: /root/.cache/pip/wheels/c1/61/df/768b03527bf006b546dce284eb4249b185669e65afc5fbb2ac\n",
            "  Building wheel for contextvars (setup.py) ... \u001b[?25l\u001b[?25hdone\n",
            "  Created wheel for contextvars: filename=contextvars-2.4-cp36-none-any.whl size=7666 sha256=dd4c8a09d3a92db20a241c9551984aeded09b0ed1fef157314f8be59e6fafdaa\n",
            "  Stored in directory: /root/.cache/pip/wheels/a5/7d/68/1ebae2668bda2228686e3c1cf16f2c2384cea6e9334ad5f6de\n",
            "Successfully built lmdb fire contextvars\n",
            "\u001b[31mERROR: datascience 0.10.6 has requirement folium==0.2.1, but you'll have folium 0.8.3 which is incompatible.\u001b[0m\n",
            "\u001b[31mERROR: albumentations 0.1.12 has requirement imgaug<0.2.7,>=0.2.5, but you'll have imgaug 0.2.9 which is incompatible.\u001b[0m\n",
            "Installing collected packages: opencv-python, fontTools, lmdb, pillow, tenacity, fire, immutables, contextvars, aiocontextvars, loguru, sphinxcontrib-jsmath, sphinxcontrib-devhelp, sphinxcontrib-applehelp, sphinxcontrib-qthelp, sphinxcontrib-htmlhelp, sphinx, sphinx-rtd-theme\n",
            "  Found existing installation: opencv-python 4.1.2.30\n",
            "    Uninstalling opencv-python-4.1.2.30:\n",
            "      Successfully uninstalled opencv-python-4.1.2.30\n",
            "  Found existing installation: lmdb 0.99\n",
            "    Uninstalling lmdb-0.99:\n",
            "      Successfully uninstalled lmdb-0.99\n",
            "  Found existing installation: Pillow 7.0.0\n",
            "    Uninstalling Pillow-7.0.0:\n",
            "      Successfully uninstalled Pillow-7.0.0\n",
            "  Found existing installation: Sphinx 1.8.5\n",
            "    Uninstalling Sphinx-1.8.5:\n",
            "      Successfully uninstalled Sphinx-1.8.5\n",
            "Successfully installed aiocontextvars-0.2.2 contextvars-2.4 fire-0.3.1 fontTools-4.12.1 immutables-0.14 lmdb-0.98 loguru-0.5.1 opencv-python-3.4.5.20 pillow-6.2.2 sphinx-3.1.2 sphinx-rtd-theme-0.5.0 sphinxcontrib-applehelp-1.0.2 sphinxcontrib-devhelp-1.0.2 sphinxcontrib-htmlhelp-1.0.3 sphinxcontrib-jsmath-1.0.1 sphinxcontrib-qthelp-1.0.3 tenacity-6.2.0\n"
          ],
          "name": "stdout"
        },
        {
          "output_type": "display_data",
          "data": {
            "application/vnd.colab-display-data+json": {
              "pip_warning": {
                "packages": [
                  "PIL",
                  "sphinxcontrib"
                ]
              }
            }
          },
          "metadata": {
            "tags": []
          }
        }
      ]
    },
    {
      "cell_type": "code",
      "metadata": {
        "id": "1tqWGJwo6God",
        "colab_type": "code",
        "colab": {
          "base_uri": "https://localhost:8080/",
          "height": 170
        },
        "outputId": "a2d904ec-378f-4d00-96c8-fecfed7e257b"
      },
      "source": [
        "!python main.py --help"
      ],
      "execution_count": 5,
      "outputs": [
        {
          "output_type": "stream",
          "text": [
            "usage: main.py [-h] --config CONFIG [--dataset {lmdb,img}]\n",
            "               [--num_processes NUM_PROCESSES] [--log_period LOG_PERIOD]\n",
            "\n",
            "optional arguments:\n",
            "  -h, --help            show this help message and exit\n",
            "  --config CONFIG       python file path\n",
            "  --dataset {lmdb,img}\n",
            "  --num_processes NUM_PROCESSES\n",
            "  --log_period LOG_PERIOD\n"
          ],
          "name": "stdout"
        }
      ]
    },
    {
      "cell_type": "code",
      "metadata": {
        "id": "x49C3qavAaHj",
        "colab_type": "code",
        "colab": {
          "base_uri": "https://localhost:8080/",
          "height": 1000
        },
        "outputId": "0d0f8b69-781c-4511-ecce-73f364cd6e77"
      },
      "source": [
        "!python main.py \\\n",
        "    --config example_data/example.py \\\n",
        "    --dataset img \\\n",
        "    --num_processes 1 \\\n",
        "    --log_period 10"
      ],
      "execution_count": 6,
      "outputs": [
        {
          "output_type": "stream",
          "text": [
            "\u001b[32m2020-08-31 08:44:00.004\u001b[0m | \u001b[1mINFO    \u001b[0m | \u001b[36mtext_renderer.corpus.char_corpus\u001b[0m:\u001b[36m__init__\u001b[0m:\u001b[36m58\u001b[0m - \u001b[1mload: /content/text_renderer/example_data/text/chn_text.txt\u001b[0m\n",
            "\u001b[32m2020-08-31 08:44:00.005\u001b[0m | \u001b[1mINFO    \u001b[0m | \u001b[36mtext_renderer.corpus.char_corpus\u001b[0m:\u001b[36m__init__\u001b[0m:\u001b[36m58\u001b[0m - \u001b[1mload: /content/text_renderer/example_data/text/eng_text.txt\u001b[0m\n",
            "\u001b[32m2020-08-31 08:44:00.005\u001b[0m | \u001b[1mINFO    \u001b[0m | \u001b[36mtext_renderer.utils.utils\u001b[0m:\u001b[36mload_chars_file\u001b[0m:\u001b[36m162\u001b[0m - \u001b[1mFind space in line 0 when load /content/text_renderer/example_data/char/chn.txt\u001b[0m\n",
            "\u001b[32m2020-08-31 08:44:00.005\u001b[0m | \u001b[1mINFO    \u001b[0m | \u001b[36mtext_renderer.utils.utils\u001b[0m:\u001b[36mload_chars_file\u001b[0m:\u001b[36m172\u001b[0m - \u001b[1mload 37 chars from: /content/text_renderer/example_data/char/chn.txt\u001b[0m\n",
            "\u001b[32m2020-08-31 08:44:00.006\u001b[0m | \u001b[1mINFO    \u001b[0m | \u001b[36mtext_renderer.corpus.corpus\u001b[0m:\u001b[36mfilter_by_chars\u001b[0m:\u001b[36m122\u001b[0m - \u001b[1mfiltering text by chars...\u001b[0m\n",
            "\u001b[32m2020-08-31 08:44:00.006\u001b[0m | \u001b[1mINFO    \u001b[0m | \u001b[36mtext_renderer.corpus.corpus\u001b[0m:\u001b[36mfilter_by_chars\u001b[0m:\u001b[36m151\u001b[0m - \u001b[1mFilter 0.12%(2) chars in input text。Unique chars(1): {'\\n'}\u001b[0m\n",
            "\u001b[32m2020-08-31 08:44:00.213\u001b[0m | \u001b[1mINFO    \u001b[0m | \u001b[36mtext_renderer.utils.utils\u001b[0m:\u001b[36mload_chars_file\u001b[0m:\u001b[36m162\u001b[0m - \u001b[1mFind space in line 0 when load /content/text_renderer/example_data/char/eng.txt\u001b[0m\n",
            "\u001b[32m2020-08-31 08:44:00.213\u001b[0m | \u001b[1mINFO    \u001b[0m | \u001b[36mtext_renderer.utils.utils\u001b[0m:\u001b[36mload_chars_file\u001b[0m:\u001b[36m172\u001b[0m - \u001b[1mload 37 chars from: /content/text_renderer/example_data/char/eng.txt\u001b[0m\n",
            "\u001b[32m2020-08-31 08:44:00.213\u001b[0m | \u001b[1mINFO    \u001b[0m | \u001b[36mtext_renderer.corpus.corpus\u001b[0m:\u001b[36mfilter_by_chars\u001b[0m:\u001b[36m122\u001b[0m - \u001b[1mfiltering text by chars...\u001b[0m\n",
            "\u001b[32m2020-08-31 08:44:00.214\u001b[0m | \u001b[1mINFO    \u001b[0m | \u001b[36mtext_renderer.corpus.corpus\u001b[0m:\u001b[36mfilter_by_chars\u001b[0m:\u001b[36m151\u001b[0m - \u001b[1mFilter 0.00%(0) chars in input text。Unique chars(0): set()\u001b[0m\n",
            "\u001b[32m2020-08-31 08:44:00.219\u001b[0m | \u001b[1mINFO    \u001b[0m | \u001b[36mtext_renderer.corpus.word_corpus\u001b[0m:\u001b[36m__init__\u001b[0m:\u001b[36m69\u001b[0m - \u001b[1mLoad 158 words\u001b[0m\n",
            "\u001b[32m2020-08-31 08:44:00.316\u001b[0m | \u001b[1mINFO    \u001b[0m | \u001b[36mtext_renderer.utils.utils\u001b[0m:\u001b[36mload_chars_file\u001b[0m:\u001b[36m162\u001b[0m - \u001b[1mFind space in line 0 when load /content/text_renderer/example_data/char/chn.txt\u001b[0m\n",
            "\u001b[32m2020-08-31 08:44:00.316\u001b[0m | \u001b[1mINFO    \u001b[0m | \u001b[36mtext_renderer.utils.utils\u001b[0m:\u001b[36mload_chars_file\u001b[0m:\u001b[36m172\u001b[0m - \u001b[1mload 37 chars from: /content/text_renderer/example_data/char/chn.txt\u001b[0m\n",
            "\u001b[32m2020-08-31 08:44:00.316\u001b[0m | \u001b[1mINFO    \u001b[0m | \u001b[36mtext_renderer.corpus.corpus\u001b[0m:\u001b[36mfilter_by_chars\u001b[0m:\u001b[36m122\u001b[0m - \u001b[1mfiltering text by chars...\u001b[0m\n",
            "\u001b[32m2020-08-31 08:44:00.316\u001b[0m | \u001b[1mINFO    \u001b[0m | \u001b[36mtext_renderer.corpus.corpus\u001b[0m:\u001b[36mfilter_by_chars\u001b[0m:\u001b[36m151\u001b[0m - \u001b[1mFilter 0.00%(0) chars in input text。Unique chars(0): set()\u001b[0m\n",
            "\u001b[32m2020-08-31 08:44:00.444\u001b[0m | \u001b[1mINFO    \u001b[0m | \u001b[36mtext_renderer.corpus.char_corpus\u001b[0m:\u001b[36m__init__\u001b[0m:\u001b[36m58\u001b[0m - \u001b[1mload: /content/text_renderer/example_data/text/chn_text.txt\u001b[0m\n",
            "\u001b[32m2020-08-31 08:44:00.444\u001b[0m | \u001b[1mINFO    \u001b[0m | \u001b[36mtext_renderer.corpus.char_corpus\u001b[0m:\u001b[36m__init__\u001b[0m:\u001b[36m58\u001b[0m - \u001b[1mload: /content/text_renderer/example_data/text/eng_text.txt\u001b[0m\n",
            "\u001b[32m2020-08-31 08:44:00.445\u001b[0m | \u001b[1mINFO    \u001b[0m | \u001b[36mtext_renderer.utils.utils\u001b[0m:\u001b[36mload_chars_file\u001b[0m:\u001b[36m162\u001b[0m - \u001b[1mFind space in line 0 when load /content/text_renderer/example_data/char/chn.txt\u001b[0m\n",
            "\u001b[32m2020-08-31 08:44:00.445\u001b[0m | \u001b[1mINFO    \u001b[0m | \u001b[36mtext_renderer.utils.utils\u001b[0m:\u001b[36mload_chars_file\u001b[0m:\u001b[36m172\u001b[0m - \u001b[1mload 37 chars from: /content/text_renderer/example_data/char/chn.txt\u001b[0m\n",
            "\u001b[32m2020-08-31 08:44:00.445\u001b[0m | \u001b[1mINFO    \u001b[0m | \u001b[36mtext_renderer.corpus.corpus\u001b[0m:\u001b[36mfilter_by_chars\u001b[0m:\u001b[36m122\u001b[0m - \u001b[1mfiltering text by chars...\u001b[0m\n",
            "\u001b[32m2020-08-31 08:44:00.446\u001b[0m | \u001b[1mINFO    \u001b[0m | \u001b[36mtext_renderer.corpus.corpus\u001b[0m:\u001b[36mfilter_by_chars\u001b[0m:\u001b[36m151\u001b[0m - \u001b[1mFilter 0.12%(2) chars in input text。Unique chars(1): {'\\n'}\u001b[0m\n",
            "\u001b[32m2020-08-31 08:44:00.549\u001b[0m | \u001b[1mINFO    \u001b[0m | \u001b[36mtext_renderer.corpus.char_corpus\u001b[0m:\u001b[36m__init__\u001b[0m:\u001b[36m58\u001b[0m - \u001b[1mload: /content/text_renderer/example_data/text/chn_text.txt\u001b[0m\n",
            "\u001b[32m2020-08-31 08:44:00.549\u001b[0m | \u001b[1mINFO    \u001b[0m | \u001b[36mtext_renderer.corpus.char_corpus\u001b[0m:\u001b[36m__init__\u001b[0m:\u001b[36m58\u001b[0m - \u001b[1mload: /content/text_renderer/example_data/text/eng_text.txt\u001b[0m\n",
            "\u001b[32m2020-08-31 08:44:00.550\u001b[0m | \u001b[1mINFO    \u001b[0m | \u001b[36mtext_renderer.utils.utils\u001b[0m:\u001b[36mload_chars_file\u001b[0m:\u001b[36m162\u001b[0m - \u001b[1mFind space in line 0 when load /content/text_renderer/example_data/char/chn.txt\u001b[0m\n",
            "\u001b[32m2020-08-31 08:44:00.550\u001b[0m | \u001b[1mINFO    \u001b[0m | \u001b[36mtext_renderer.utils.utils\u001b[0m:\u001b[36mload_chars_file\u001b[0m:\u001b[36m172\u001b[0m - \u001b[1mload 37 chars from: /content/text_renderer/example_data/char/chn.txt\u001b[0m\n",
            "\u001b[32m2020-08-31 08:44:00.550\u001b[0m | \u001b[1mINFO    \u001b[0m | \u001b[36mtext_renderer.corpus.corpus\u001b[0m:\u001b[36mfilter_by_chars\u001b[0m:\u001b[36m122\u001b[0m - \u001b[1mfiltering text by chars...\u001b[0m\n",
            "\u001b[32m2020-08-31 08:44:00.551\u001b[0m | \u001b[1mINFO    \u001b[0m | \u001b[36mtext_renderer.corpus.corpus\u001b[0m:\u001b[36mfilter_by_chars\u001b[0m:\u001b[36m151\u001b[0m - \u001b[1mFilter 0.12%(2) chars in input text。Unique chars(1): {'\\n'}\u001b[0m\n",
            "\u001b[32m2020-08-31 08:44:00.652\u001b[0m | \u001b[1mINFO    \u001b[0m | \u001b[36mtext_renderer.corpus.char_corpus\u001b[0m:\u001b[36m__init__\u001b[0m:\u001b[36m58\u001b[0m - \u001b[1mload: /content/text_renderer/example_data/text/chn_text.txt\u001b[0m\n",
            "\u001b[32m2020-08-31 08:44:00.653\u001b[0m | \u001b[1mINFO    \u001b[0m | \u001b[36mtext_renderer.corpus.char_corpus\u001b[0m:\u001b[36m__init__\u001b[0m:\u001b[36m58\u001b[0m - \u001b[1mload: /content/text_renderer/example_data/text/eng_text.txt\u001b[0m\n",
            "\u001b[32m2020-08-31 08:44:00.653\u001b[0m | \u001b[1mINFO    \u001b[0m | \u001b[36mtext_renderer.utils.utils\u001b[0m:\u001b[36mload_chars_file\u001b[0m:\u001b[36m162\u001b[0m - \u001b[1mFind space in line 0 when load /content/text_renderer/example_data/char/chn.txt\u001b[0m\n",
            "\u001b[32m2020-08-31 08:44:00.653\u001b[0m | \u001b[1mINFO    \u001b[0m | \u001b[36mtext_renderer.utils.utils\u001b[0m:\u001b[36mload_chars_file\u001b[0m:\u001b[36m172\u001b[0m - \u001b[1mload 37 chars from: /content/text_renderer/example_data/char/chn.txt\u001b[0m\n",
            "\u001b[32m2020-08-31 08:44:00.653\u001b[0m | \u001b[1mINFO    \u001b[0m | \u001b[36mtext_renderer.corpus.corpus\u001b[0m:\u001b[36mfilter_by_chars\u001b[0m:\u001b[36m122\u001b[0m - \u001b[1mfiltering text by chars...\u001b[0m\n",
            "\u001b[32m2020-08-31 08:44:00.654\u001b[0m | \u001b[1mINFO    \u001b[0m | \u001b[36mtext_renderer.corpus.corpus\u001b[0m:\u001b[36mfilter_by_chars\u001b[0m:\u001b[36m151\u001b[0m - \u001b[1mFilter 0.12%(2) chars in input text。Unique chars(1): {'\\n'}\u001b[0m\n",
            "\u001b[32m2020-08-31 08:44:01.047\u001b[0m | \u001b[1mINFO    \u001b[0m | \u001b[36m__mp_main__\u001b[0m:\u001b[36mrun\u001b[0m:\u001b[36m48\u001b[0m - \u001b[1mExist image count in /content/text_renderer/example_data/output/char_corpus: 0\u001b[0m\n",
            "\u001b[32m2020-08-31 08:44:01.448\u001b[0m | \u001b[1mINFO    \u001b[0m | \u001b[36m__mp_main__\u001b[0m:\u001b[36mprocess_setup\u001b[0m:\u001b[36m83\u001b[0m - \u001b[1mFinish setup image generate process: 350\u001b[0m\n",
            "\u001b[32m2020-08-31 08:45:56.706\u001b[0m | \u001b[1mINFO    \u001b[0m | \u001b[36m__mp_main__\u001b[0m:\u001b[36mrun\u001b[0m:\u001b[36m52\u001b[0m - \u001b[1mDBWriterProcess receive stop token\u001b[0m\n",
            "\u001b[32m2020-08-31 08:45:56.707\u001b[0m | \u001b[1mINFO    \u001b[0m | \u001b[36m__mp_main__\u001b[0m:\u001b[36mrun\u001b[0m:\u001b[36m62\u001b[0m - \u001b[1m100.00%(10000/10000)\u001b[0m\n",
            "\u001b[32m2020-08-31 08:45:56.707\u001b[0m | \u001b[1mINFO    \u001b[0m | \u001b[36m__mp_main__\u001b[0m:\u001b[36mrun\u001b[0m:\u001b[36m63\u001b[0m - \u001b[1mFinish generate: 10000. Total: 10000\u001b[0m\n",
            "\u001b[32m2020-08-31 08:45:57.169\u001b[0m | \u001b[1mINFO    \u001b[0m | \u001b[36m__mp_main__\u001b[0m:\u001b[36mrun\u001b[0m:\u001b[36m48\u001b[0m - \u001b[1mExist image count in /content/text_renderer/example_data/output/rand_corpus: 0\u001b[0m\n",
            "\u001b[32m2020-08-31 08:45:57.559\u001b[0m | \u001b[1mINFO    \u001b[0m | \u001b[36m__mp_main__\u001b[0m:\u001b[36mprocess_setup\u001b[0m:\u001b[36m83\u001b[0m - \u001b[1mFinish setup image generate process: 30626\u001b[0m\n",
            "\u001b[32m2020-08-31 08:47:09.783\u001b[0m | \u001b[1mINFO    \u001b[0m | \u001b[36m__mp_main__\u001b[0m:\u001b[36mrun\u001b[0m:\u001b[36m52\u001b[0m - \u001b[1mDBWriterProcess receive stop token\u001b[0m\n",
            "\u001b[32m2020-08-31 08:47:09.784\u001b[0m | \u001b[1mINFO    \u001b[0m | \u001b[36m__mp_main__\u001b[0m:\u001b[36mrun\u001b[0m:\u001b[36m62\u001b[0m - \u001b[1m200.00%(20000/10000)\u001b[0m\n",
            "\u001b[32m2020-08-31 08:47:09.784\u001b[0m | \u001b[1mINFO    \u001b[0m | \u001b[36m__mp_main__\u001b[0m:\u001b[36mrun\u001b[0m:\u001b[36m63\u001b[0m - \u001b[1mFinish generate: 20000. Total: 20000\u001b[0m\n",
            "\u001b[32m2020-08-31 08:47:10.237\u001b[0m | \u001b[1mINFO    \u001b[0m | \u001b[36m__mp_main__\u001b[0m:\u001b[36mrun\u001b[0m:\u001b[36m48\u001b[0m - \u001b[1mExist image count in /content/text_renderer/example_data/output/word_corpus: 0\u001b[0m\n",
            "\u001b[32m2020-08-31 08:47:10.645\u001b[0m | \u001b[1mINFO    \u001b[0m | \u001b[36m__mp_main__\u001b[0m:\u001b[36mprocess_setup\u001b[0m:\u001b[36m83\u001b[0m - \u001b[1mFinish setup image generate process: 60803\u001b[0m\n",
            "\u001b[32m2020-08-31 08:48:48.432\u001b[0m | \u001b[1mINFO    \u001b[0m | \u001b[36m__mp_main__\u001b[0m:\u001b[36mrun\u001b[0m:\u001b[36m52\u001b[0m - \u001b[1mDBWriterProcess receive stop token\u001b[0m\n",
            "\u001b[32m2020-08-31 08:48:48.433\u001b[0m | \u001b[1mINFO    \u001b[0m | \u001b[36m__mp_main__\u001b[0m:\u001b[36mrun\u001b[0m:\u001b[36m62\u001b[0m - \u001b[1m300.00%(30000/10000)\u001b[0m\n",
            "\u001b[32m2020-08-31 08:48:48.433\u001b[0m | \u001b[1mINFO    \u001b[0m | \u001b[36m__mp_main__\u001b[0m:\u001b[36mrun\u001b[0m:\u001b[36m63\u001b[0m - \u001b[1mFinish generate: 30000. Total: 30000\u001b[0m\n",
            "\u001b[32m2020-08-31 08:48:48.887\u001b[0m | \u001b[1mINFO    \u001b[0m | \u001b[36m__mp_main__\u001b[0m:\u001b[36mrun\u001b[0m:\u001b[36m48\u001b[0m - \u001b[1mExist image count in /content/text_renderer/example_data/output/same_line_data: 0\u001b[0m\n",
            "\u001b[32m2020-08-31 08:48:49.313\u001b[0m | \u001b[1mINFO    \u001b[0m | \u001b[36m__mp_main__\u001b[0m:\u001b[36mprocess_setup\u001b[0m:\u001b[36m83\u001b[0m - \u001b[1mFinish setup image generate process: 91036\u001b[0m\n",
            "\u001b[32m2020-08-31 08:52:33.223\u001b[0m | \u001b[1mINFO    \u001b[0m | \u001b[36m__mp_main__\u001b[0m:\u001b[36mrun\u001b[0m:\u001b[36m52\u001b[0m - \u001b[1mDBWriterProcess receive stop token\u001b[0m\n",
            "\u001b[32m2020-08-31 08:52:33.223\u001b[0m | \u001b[1mINFO    \u001b[0m | \u001b[36m__mp_main__\u001b[0m:\u001b[36mrun\u001b[0m:\u001b[36m62\u001b[0m - \u001b[1m400.00%(40000/10000)\u001b[0m\n",
            "\u001b[32m2020-08-31 08:52:33.223\u001b[0m | \u001b[1mINFO    \u001b[0m | \u001b[36m__mp_main__\u001b[0m:\u001b[36mrun\u001b[0m:\u001b[36m63\u001b[0m - \u001b[1mFinish generate: 40000. Total: 40000\u001b[0m\n",
            "\u001b[32m2020-08-31 08:52:33.691\u001b[0m | \u001b[1mINFO    \u001b[0m | \u001b[36m__mp_main__\u001b[0m:\u001b[36mrun\u001b[0m:\u001b[36m48\u001b[0m - \u001b[1mExist image count in /content/text_renderer/example_data/output/extra_text_line_data: 0\u001b[0m\n",
            "\u001b[32m2020-08-31 08:52:34.113\u001b[0m | \u001b[1mINFO    \u001b[0m | \u001b[36m__mp_main__\u001b[0m:\u001b[36mprocess_setup\u001b[0m:\u001b[36m83\u001b[0m - \u001b[1mFinish setup image generate process: 121557\u001b[0m\n",
            "\u001b[32m2020-08-31 08:54:24.303\u001b[0m | \u001b[1mINFO    \u001b[0m | \u001b[36m__mp_main__\u001b[0m:\u001b[36mrun\u001b[0m:\u001b[36m52\u001b[0m - \u001b[1mDBWriterProcess receive stop token\u001b[0m\n",
            "\u001b[32m2020-08-31 08:54:24.303\u001b[0m | \u001b[1mINFO    \u001b[0m | \u001b[36m__mp_main__\u001b[0m:\u001b[36mrun\u001b[0m:\u001b[36m62\u001b[0m - \u001b[1m500.00%(50000/10000)\u001b[0m\n",
            "\u001b[32m2020-08-31 08:54:24.303\u001b[0m | \u001b[1mINFO    \u001b[0m | \u001b[36m__mp_main__\u001b[0m:\u001b[36mrun\u001b[0m:\u001b[36m63\u001b[0m - \u001b[1mFinish generate: 50000. Total: 50000\u001b[0m\n"
          ],
          "name": "stdout"
        }
      ]
    },
    {
      "cell_type": "code",
      "metadata": {
        "id": "izVrU4o8bOy0",
        "colab_type": "code",
        "colab": {}
      },
      "source": [
        "import json \n",
        "import csv \n",
        "import pandas as pd\n",
        "\n",
        "df = pd.read_json ('/content/text_renderer/example_data/output/word_corpus/labels.json')  \n",
        "df.to_csv ('/content/text_renderer/data_sample.csv', index = None, header=True)  \n",
        "df_1 = pd.read_json('/content/text_renderer/example_data/output/char_corpus/labels.json')\n",
        "df_1.to_csv ('/content/text_renderer/data_sample_1.csv', index = None, header=True)  \n",
        "df_2 = pd.read_json ('/content/text_renderer/example_data/output/extra_text_line_data/labels.json')  \n",
        "df_2.to_csv ('/content/text_renderer/data_sample_2.csv', index = None, header=True)  \n",
        "df_3 = pd.read_json('/content/text_renderer/example_data/output/rand_corpus/labels.json')\n",
        "df_3.to_csv ('/content/text_renderer/data_sample_3.csv', index = None, header=True)  \n",
        "df_4 = pd.read_json('/content/text_renderer/example_data/output/same_line_data/labels.json')\n",
        "df_4.to_csv ('/content/text_renderer/data_sample_4.csv', index = None, header=True)  "
      ],
      "execution_count": 7,
      "outputs": []
    },
    {
      "cell_type": "code",
      "metadata": {
        "id": "YmZy0GDzTFvh",
        "colab_type": "code",
        "colab": {
          "base_uri": "https://localhost:8080/",
          "height": 419
        },
        "outputId": "ed4ab601-596a-4652-bf1f-5e30d1cb6166"
      },
      "source": [
        "  df_3"
      ],
      "execution_count": 8,
      "outputs": [
        {
          "output_type": "execute_result",
          "data": {
            "text/html": [
              "<div>\n",
              "<style scoped>\n",
              "    .dataframe tbody tr th:only-of-type {\n",
              "        vertical-align: middle;\n",
              "    }\n",
              "\n",
              "    .dataframe tbody tr th {\n",
              "        vertical-align: top;\n",
              "    }\n",
              "\n",
              "    .dataframe thead th {\n",
              "        text-align: right;\n",
              "    }\n",
              "</style>\n",
              "<table border=\"1\" class=\"dataframe\">\n",
              "  <thead>\n",
              "    <tr style=\"text-align: right;\">\n",
              "      <th></th>\n",
              "      <th>num-samples</th>\n",
              "      <th>labels</th>\n",
              "      <th>sizes</th>\n",
              "    </tr>\n",
              "  </thead>\n",
              "  <tbody>\n",
              "    <tr>\n",
              "      <th>/content/text_renderer/example_data/output/rand_corpus/images/000010000.jpg</th>\n",
              "      <td>20000</td>\n",
              "      <td>37527851</td>\n",
              "      <td>NaN</td>\n",
              "    </tr>\n",
              "    <tr>\n",
              "      <th>/content/text_renderer/example_data/output/rand_corpus/images/000010001.jpg</th>\n",
              "      <td>20000</td>\n",
              "      <td>668805142</td>\n",
              "      <td>NaN</td>\n",
              "    </tr>\n",
              "    <tr>\n",
              "      <th>/content/text_renderer/example_data/output/rand_corpus/images/000010002.jpg</th>\n",
              "      <td>20000</td>\n",
              "      <td>294424</td>\n",
              "      <td>NaN</td>\n",
              "    </tr>\n",
              "    <tr>\n",
              "      <th>/content/text_renderer/example_data/output/rand_corpus/images/000010003.jpg</th>\n",
              "      <td>20000</td>\n",
              "      <td>666635</td>\n",
              "      <td>NaN</td>\n",
              "    </tr>\n",
              "    <tr>\n",
              "      <th>/content/text_renderer/example_data/output/rand_corpus/images/000010004.jpg</th>\n",
              "      <td>20000</td>\n",
              "      <td>96973</td>\n",
              "      <td>NaN</td>\n",
              "    </tr>\n",
              "    <tr>\n",
              "      <th>...</th>\n",
              "      <td>...</td>\n",
              "      <td>...</td>\n",
              "      <td>...</td>\n",
              "    </tr>\n",
              "    <tr>\n",
              "      <th>/content/text_renderer/example_data/output/rand_corpus/images/000019995.jpg</th>\n",
              "      <td>20000</td>\n",
              "      <td>85516</td>\n",
              "      <td>NaN</td>\n",
              "    </tr>\n",
              "    <tr>\n",
              "      <th>/content/text_renderer/example_data/output/rand_corpus/images/000019996.jpg</th>\n",
              "      <td>20000</td>\n",
              "      <td>16325913</td>\n",
              "      <td>NaN</td>\n",
              "    </tr>\n",
              "    <tr>\n",
              "      <th>/content/text_renderer/example_data/output/rand_corpus/images/000019997.jpg</th>\n",
              "      <td>20000</td>\n",
              "      <td>750025754</td>\n",
              "      <td>NaN</td>\n",
              "    </tr>\n",
              "    <tr>\n",
              "      <th>/content/text_renderer/example_data/output/rand_corpus/images/000019998.jpg</th>\n",
              "      <td>20000</td>\n",
              "      <td>4633730</td>\n",
              "      <td>NaN</td>\n",
              "    </tr>\n",
              "    <tr>\n",
              "      <th>/content/text_renderer/example_data/output/rand_corpus/images/000019999.jpg</th>\n",
              "      <td>20000</td>\n",
              "      <td>7285244</td>\n",
              "      <td>NaN</td>\n",
              "    </tr>\n",
              "  </tbody>\n",
              "</table>\n",
              "<p>10000 rows × 3 columns</p>\n",
              "</div>"
            ],
            "text/plain": [
              "                                                    num-samples  ...  sizes\n",
              "/content/text_renderer/example_data/output/rand...        20000  ...    NaN\n",
              "/content/text_renderer/example_data/output/rand...        20000  ...    NaN\n",
              "/content/text_renderer/example_data/output/rand...        20000  ...    NaN\n",
              "/content/text_renderer/example_data/output/rand...        20000  ...    NaN\n",
              "/content/text_renderer/example_data/output/rand...        20000  ...    NaN\n",
              "...                                                         ...  ...    ...\n",
              "/content/text_renderer/example_data/output/rand...        20000  ...    NaN\n",
              "/content/text_renderer/example_data/output/rand...        20000  ...    NaN\n",
              "/content/text_renderer/example_data/output/rand...        20000  ...    NaN\n",
              "/content/text_renderer/example_data/output/rand...        20000  ...    NaN\n",
              "/content/text_renderer/example_data/output/rand...        20000  ...    NaN\n",
              "\n",
              "[10000 rows x 3 columns]"
            ]
          },
          "metadata": {
            "tags": []
          },
          "execution_count": 8
        }
      ]
    },
    {
      "cell_type": "code",
      "metadata": {
        "id": "udje1O1XObch",
        "colab_type": "code",
        "colab": {}
      },
      "source": [
        "df = pd.concat([df_1, df_3, df, df_4, df_2], axis = 0)"
      ],
      "execution_count": 9,
      "outputs": []
    },
    {
      "cell_type": "code",
      "metadata": {
        "id": "DqPSTpVLTuuC",
        "colab_type": "code",
        "colab": {}
      },
      "source": [
        "df = df.drop(['num-samples'], axis = 1)\n",
        "df = df.drop(['sizes'], axis = 1)"
      ],
      "execution_count": 10,
      "outputs": []
    },
    {
      "cell_type": "code",
      "metadata": {
        "id": "QyUGf8xIT7ka",
        "colab_type": "code",
        "colab": {}
      },
      "source": [
        "df['image_name'] = df.index"
      ],
      "execution_count": 11,
      "outputs": []
    },
    {
      "cell_type": "code",
      "metadata": {
        "id": "ScYRd94bPkIt",
        "colab_type": "code",
        "colab": {
          "base_uri": "https://localhost:8080/",
          "height": 558
        },
        "outputId": "9e566ef1-c520-4759-8b81-0fb404e8dd46"
      },
      "source": [
        "df"
      ],
      "execution_count": 12,
      "outputs": [
        {
          "output_type": "execute_result",
          "data": {
            "text/html": [
              "<div>\n",
              "<style scoped>\n",
              "    .dataframe tbody tr th:only-of-type {\n",
              "        vertical-align: middle;\n",
              "    }\n",
              "\n",
              "    .dataframe tbody tr th {\n",
              "        vertical-align: top;\n",
              "    }\n",
              "\n",
              "    .dataframe thead th {\n",
              "        text-align: right;\n",
              "    }\n",
              "</style>\n",
              "<table border=\"1\" class=\"dataframe\">\n",
              "  <thead>\n",
              "    <tr style=\"text-align: right;\">\n",
              "      <th></th>\n",
              "      <th>labels</th>\n",
              "      <th>image_name</th>\n",
              "    </tr>\n",
              "  </thead>\n",
              "  <tbody>\n",
              "    <tr>\n",
              "      <th>/content/text_renderer/example_data/output/char_corpus/images/000000000.jpg</th>\n",
              "      <td>FOR AL</td>\n",
              "      <td>/content/text_renderer/example_data/output/cha...</td>\n",
              "    </tr>\n",
              "    <tr>\n",
              "      <th>/content/text_renderer/example_data/output/char_corpus/images/000000001.jpg</th>\n",
              "      <td>FLYIN</td>\n",
              "      <td>/content/text_renderer/example_data/output/cha...</td>\n",
              "    </tr>\n",
              "    <tr>\n",
              "      <th>/content/text_renderer/example_data/output/char_corpus/images/000000002.jpg</th>\n",
              "      <td>EVERS W</td>\n",
              "      <td>/content/text_renderer/example_data/output/cha...</td>\n",
              "    </tr>\n",
              "    <tr>\n",
              "      <th>/content/text_renderer/example_data/output/char_corpus/images/000000003.jpg</th>\n",
              "      <td>ORN WHY</td>\n",
              "      <td>/content/text_renderer/example_data/output/cha...</td>\n",
              "    </tr>\n",
              "    <tr>\n",
              "      <th>/content/text_renderer/example_data/output/char_corpus/images/000000004.jpg</th>\n",
              "      <td>S BOUG</td>\n",
              "      <td>/content/text_renderer/example_data/output/cha...</td>\n",
              "    </tr>\n",
              "    <tr>\n",
              "      <th>...</th>\n",
              "      <td>...</td>\n",
              "      <td>...</td>\n",
              "    </tr>\n",
              "    <tr>\n",
              "      <th>/content/text_renderer/example_data/output/extra_text_line_data/images/000049995.jpg</th>\n",
              "      <td>S ON 30 P</td>\n",
              "      <td>/content/text_renderer/example_data/output/ext...</td>\n",
              "    </tr>\n",
              "    <tr>\n",
              "      <th>/content/text_renderer/example_data/output/extra_text_line_data/images/000049996.jpg</th>\n",
              "      <td>ES STREET</td>\n",
              "      <td>/content/text_renderer/example_data/output/ext...</td>\n",
              "    </tr>\n",
              "    <tr>\n",
              "      <th>/content/text_renderer/example_data/output/extra_text_line_data/images/000049997.jpg</th>\n",
              "      <td>PERB FIEL</td>\n",
              "      <td>/content/text_renderer/example_data/output/ext...</td>\n",
              "    </tr>\n",
              "    <tr>\n",
              "      <th>/content/text_renderer/example_data/output/extra_text_line_data/images/000049998.jpg</th>\n",
              "      <td>UMB TO TH</td>\n",
              "      <td>/content/text_renderer/example_data/output/ext...</td>\n",
              "    </tr>\n",
              "    <tr>\n",
              "      <th>/content/text_renderer/example_data/output/extra_text_line_data/images/000049999.jpg</th>\n",
              "      <td>T RAINALD</td>\n",
              "      <td>/content/text_renderer/example_data/output/ext...</td>\n",
              "    </tr>\n",
              "  </tbody>\n",
              "</table>\n",
              "<p>50000 rows × 2 columns</p>\n",
              "</div>"
            ],
            "text/plain": [
              "                                                       labels                                         image_name\n",
              "/content/text_renderer/example_data/output/char...     FOR AL  /content/text_renderer/example_data/output/cha...\n",
              "/content/text_renderer/example_data/output/char...      FLYIN  /content/text_renderer/example_data/output/cha...\n",
              "/content/text_renderer/example_data/output/char...    EVERS W  /content/text_renderer/example_data/output/cha...\n",
              "/content/text_renderer/example_data/output/char...   ORN WHY   /content/text_renderer/example_data/output/cha...\n",
              "/content/text_renderer/example_data/output/char...     S BOUG  /content/text_renderer/example_data/output/cha...\n",
              "...                                                       ...                                                ...\n",
              "/content/text_renderer/example_data/output/extr...  S ON 30 P  /content/text_renderer/example_data/output/ext...\n",
              "/content/text_renderer/example_data/output/extr...  ES STREET  /content/text_renderer/example_data/output/ext...\n",
              "/content/text_renderer/example_data/output/extr...  PERB FIEL  /content/text_renderer/example_data/output/ext...\n",
              "/content/text_renderer/example_data/output/extr...  UMB TO TH  /content/text_renderer/example_data/output/ext...\n",
              "/content/text_renderer/example_data/output/extr...  T RAINALD  /content/text_renderer/example_data/output/ext...\n",
              "\n",
              "[50000 rows x 2 columns]"
            ]
          },
          "metadata": {
            "tags": []
          },
          "execution_count": 12
        }
      ]
    },
    {
      "cell_type": "code",
      "metadata": {
        "id": "7lPIz3bf67vb",
        "colab_type": "code",
        "colab": {}
      },
      "source": [
        "for i in range(len(df.labels)):\n",
        "  if type(df.labels[i]) == int:\n",
        "   df.labels[i] = str(df.labels[i])\n",
        "   continue\n",
        "  df.labels[i] = df.labels[i].replace(' ', '')\n"
      ],
      "execution_count": 13,
      "outputs": []
    },
    {
      "cell_type": "code",
      "metadata": {
        "id": "IeS7H_ZtgFYu",
        "colab_type": "code",
        "colab": {}
      },
      "source": [
        "df.reset_index(drop = True, inplace = True)"
      ],
      "execution_count": 14,
      "outputs": []
    },
    {
      "cell_type": "code",
      "metadata": {
        "id": "j90_DdTWkSfq",
        "colab_type": "code",
        "colab": {
          "base_uri": "https://localhost:8080/",
          "height": 419
        },
        "outputId": "21a134df-9736-498a-8e2e-545624c77da2"
      },
      "source": [
        "df"
      ],
      "execution_count": 15,
      "outputs": [
        {
          "output_type": "execute_result",
          "data": {
            "text/html": [
              "<div>\n",
              "<style scoped>\n",
              "    .dataframe tbody tr th:only-of-type {\n",
              "        vertical-align: middle;\n",
              "    }\n",
              "\n",
              "    .dataframe tbody tr th {\n",
              "        vertical-align: top;\n",
              "    }\n",
              "\n",
              "    .dataframe thead th {\n",
              "        text-align: right;\n",
              "    }\n",
              "</style>\n",
              "<table border=\"1\" class=\"dataframe\">\n",
              "  <thead>\n",
              "    <tr style=\"text-align: right;\">\n",
              "      <th></th>\n",
              "      <th>labels</th>\n",
              "      <th>image_name</th>\n",
              "    </tr>\n",
              "  </thead>\n",
              "  <tbody>\n",
              "    <tr>\n",
              "      <th>0</th>\n",
              "      <td>FORAL</td>\n",
              "      <td>/content/text_renderer/example_data/output/cha...</td>\n",
              "    </tr>\n",
              "    <tr>\n",
              "      <th>1</th>\n",
              "      <td>FLYIN</td>\n",
              "      <td>/content/text_renderer/example_data/output/cha...</td>\n",
              "    </tr>\n",
              "    <tr>\n",
              "      <th>2</th>\n",
              "      <td>EVERSW</td>\n",
              "      <td>/content/text_renderer/example_data/output/cha...</td>\n",
              "    </tr>\n",
              "    <tr>\n",
              "      <th>3</th>\n",
              "      <td>ORNWHY</td>\n",
              "      <td>/content/text_renderer/example_data/output/cha...</td>\n",
              "    </tr>\n",
              "    <tr>\n",
              "      <th>4</th>\n",
              "      <td>SBOUG</td>\n",
              "      <td>/content/text_renderer/example_data/output/cha...</td>\n",
              "    </tr>\n",
              "    <tr>\n",
              "      <th>...</th>\n",
              "      <td>...</td>\n",
              "      <td>...</td>\n",
              "    </tr>\n",
              "    <tr>\n",
              "      <th>49995</th>\n",
              "      <td>SON30P</td>\n",
              "      <td>/content/text_renderer/example_data/output/ext...</td>\n",
              "    </tr>\n",
              "    <tr>\n",
              "      <th>49996</th>\n",
              "      <td>ESSTREET</td>\n",
              "      <td>/content/text_renderer/example_data/output/ext...</td>\n",
              "    </tr>\n",
              "    <tr>\n",
              "      <th>49997</th>\n",
              "      <td>PERBFIEL</td>\n",
              "      <td>/content/text_renderer/example_data/output/ext...</td>\n",
              "    </tr>\n",
              "    <tr>\n",
              "      <th>49998</th>\n",
              "      <td>UMBTOTH</td>\n",
              "      <td>/content/text_renderer/example_data/output/ext...</td>\n",
              "    </tr>\n",
              "    <tr>\n",
              "      <th>49999</th>\n",
              "      <td>TRAINALD</td>\n",
              "      <td>/content/text_renderer/example_data/output/ext...</td>\n",
              "    </tr>\n",
              "  </tbody>\n",
              "</table>\n",
              "<p>50000 rows × 2 columns</p>\n",
              "</div>"
            ],
            "text/plain": [
              "         labels                                         image_name\n",
              "0         FORAL  /content/text_renderer/example_data/output/cha...\n",
              "1         FLYIN  /content/text_renderer/example_data/output/cha...\n",
              "2        EVERSW  /content/text_renderer/example_data/output/cha...\n",
              "3        ORNWHY  /content/text_renderer/example_data/output/cha...\n",
              "4         SBOUG  /content/text_renderer/example_data/output/cha...\n",
              "...         ...                                                ...\n",
              "49995    SON30P  /content/text_renderer/example_data/output/ext...\n",
              "49996  ESSTREET  /content/text_renderer/example_data/output/ext...\n",
              "49997  PERBFIEL  /content/text_renderer/example_data/output/ext...\n",
              "49998   UMBTOTH  /content/text_renderer/example_data/output/ext...\n",
              "49999  TRAINALD  /content/text_renderer/example_data/output/ext...\n",
              "\n",
              "[50000 rows x 2 columns]"
            ]
          },
          "metadata": {
            "tags": []
          },
          "execution_count": 15
        }
      ]
    },
    {
      "cell_type": "code",
      "metadata": {
        "id": "hKGLs0WfhiLj",
        "colab_type": "code",
        "colab": {}
      },
      "source": [
        "df = df[[\"image_name\", \"labels\"]]"
      ],
      "execution_count": null,
      "outputs": []
    },
    {
      "cell_type": "code",
      "metadata": {
        "id": "8YtR8IlU-4vb",
        "colab_type": "code",
        "colab": {}
      },
      "source": [
        "import numpy as np"
      ],
      "execution_count": null,
      "outputs": []
    },
    {
      "cell_type": "code",
      "metadata": {
        "id": "NWSjt3ps-sFO",
        "colab_type": "code",
        "colab": {}
      },
      "source": [
        "np.savetxt('/content/data.txt', df.values, fmt='%s')"
      ],
      "execution_count": null,
      "outputs": []
    },
    {
      "cell_type": "code",
      "metadata": {
        "id": "t3sakxlweL4g",
        "colab_type": "code",
        "colab": {}
      },
      "source": [
        "def _bytes_feature(value):\n",
        "  \"\"\"Returns a bytes_list from a string / byte.\"\"\"\n",
        "  if isinstance(value, type(tf.constant(0))):\n",
        "    value = value.numpy() # BytesList won't unpack a string from an EagerTensor.\n",
        "  return tf.train.Feature(bytes_list=tf.train.BytesList(value=[value]))\n",
        "def _float_feature(value):\n",
        "  \"\"\"Returns a float_list from a float / double.\"\"\"\n",
        "  return tf.train.Feature(float_list=tf.train.FloatList(value=[value]))\n",
        "def _int64_feature(value):\n",
        "  \"\"\"Returns an int64_list from a bool / enum / int / uint.\"\"\"\n",
        "  return tf.train.Feature(int64_list=tf.train.Int64List(value=[value]))\n",
        "def _int64_list_feature(value):\n",
        "  \"\"\"Returns an int64_list from a bool / enum / int / uint.\"\"\"\n",
        "  return tf.train.Feature(int64_list=tf.train.Int64List(value= value))"
      ],
      "execution_count": null,
      "outputs": []
    },
    {
      "cell_type": "code",
      "metadata": {
        "id": "Eu1vM6Lurp8N",
        "colab_type": "code",
        "colab": {}
      },
      "source": [
        "import numpy as np, pandas as pd, os\n",
        "import matplotlib.pyplot as plt, cv2\n",
        "import tensorflow as tf, re, math\n",
        "from skimage import io\n",
        "import imghdr"
      ],
      "execution_count": null,
      "outputs": []
    },
    {
      "cell_type": "code",
      "metadata": {
        "id": "_RbP1sCY3zmz",
        "colab_type": "code",
        "colab": {}
      },
      "source": [
        "def getListOfFiles(dirName):\n",
        "    # create a list of file and sub directories \n",
        "    # names in the given directory \n",
        "    listOfFile = os.listdir(dirName)\n",
        "    allFiles = list()\n",
        "    # Iterate over all the entries\n",
        "    for entry in listOfFile:\n",
        "        # Create full path\n",
        "        fullPath = os.path.join(dirName, entry)\n",
        "        # If entry is a directory then get the list of files in this directory \n",
        "        if os.path.isdir(fullPath):\n",
        "            allFiles = allFiles + getListOfFiles(fullPath)\n",
        "        else:\n",
        "            allFiles.append(fullPath)\n",
        "                \n",
        "    return allFiles\n",
        "IMGS = getListOfFiles('/content/text_renderer/example_data/output')"
      ],
      "execution_count": null,
      "outputs": []
    },
    {
      "cell_type": "code",
      "metadata": {
        "id": "UAQ7DYL5q_EQ",
        "colab_type": "code",
        "colab": {
          "base_uri": "https://localhost:8080/",
          "height": 241
        },
        "outputId": "b1f4d617-b017-4fa5-fdfc-c4750bb27504"
      },
      "source": [
        "def serialize_example(feature0, feature1, feature2, feature3):\n",
        "  feature = {\n",
        "      'image': _bytes_feature(feature0),\n",
        "      'image_name': _int64_feature(feature1),\n",
        "      'sizes': _int64_list_feature(feature2),\n",
        "      'labels': _bytes_feature(feature3)\n",
        "  }\n",
        "  example_proto = tf.train.Example(features=tf.train.Features(feature=feature))\n",
        "  return example_proto.SerializeToString()\n",
        "SIZE = 10000\n",
        "CT = len(IMGS)//SIZE + int(len(IMGS)%SIZE!=0)\n",
        "for j in range(CT):\n",
        "    print(); print('Writing TFRecord %i of %i...'%(j,CT))\n",
        "    CT2 = min(SIZE,len(IMGS)-j*SIZE)\n",
        "    with tf.io.TFRecordWriter('/content/gdrive/My Drive/train%.2i-%i.tfrec'%(j,CT2)) as writer:\n",
        "        for k in range(CT2):\n",
        "            if  imghdr.what(IMGS[k]) == None:\n",
        "              continue\n",
        "            img = cv2.imread(IMGS[k])\n",
        "            img = cv2.cvtColor(img, cv2.COLOR_RGB2BGR) # Fix incorrect colors\n",
        "            img = cv2.imencode('.jpg', img, (cv2.IMWRITE_JPEG_QUALITY, 94))[1].tostring()\n",
        "            name = IMGS[SIZE*j+k].split('.')[0]\n",
        "            row = df.iloc[k]\n",
        "            example = serialize_example(\n",
        "                img, row.image_name,\n",
        "                row.sizes,\n",
        "                str.encode(row.labels))\n",
        "            writer.write(example)\n",
        "            if k%100==0: print(k,', ',end='')"
      ],
      "execution_count": null,
      "outputs": [
        {
          "output_type": "stream",
          "text": [
            "\n",
            "Writing TFRecord 0 of 6...\n",
            "100 , 200 , 300 , 400 , 500 , 600 , 700 , 800 , 900 , 1000 , 1100 , 1200 , 1300 , 1400 , 1500 , 1600 , 1700 , 1800 , 1900 , 2000 , 2100 , 2200 , 2300 , 2400 , 2500 , 2600 , 2700 , 2800 , 2900 , 3000 , 3100 , 3200 , 3300 , 3400 , 3500 , 3600 , 3700 , 3800 , 3900 , 4000 , 4100 , 4200 , 4300 , 4400 , 4500 , 4600 , 4700 , 4800 , 4900 , 5000 , 5100 , 5200 , 5300 , 5400 , 5500 , 5600 , 5700 , 5800 , 5900 , 6000 , 6100 , 6200 , 6300 , 6400 , 6500 , 6600 , 6700 , 6800 , 6900 , 7000 , 7100 , 7200 , 7300 , 7400 , 7500 , 7600 , 7700 , 7800 , 7900 , 8000 , 8100 , 8200 , 8300 , 8400 , 8500 , 8600 , 8700 , 8800 , 8900 , 9000 , 9100 , 9200 , 9300 , 9400 , 9500 , 9600 , 9700 , 9800 , 9900 , \n",
            "Writing TFRecord 1 of 6...\n",
            "100 , 200 , 300 , 400 , 500 , 600 , 700 , 800 , 900 , 1000 , 1100 , 1200 , 1300 , 1400 , 1500 , 1600 , 1700 , 1800 , 1900 , 2000 , 2100 , 2200 , 2300 , 2400 , 2500 , 2600 , 2700 , 2800 , 2900 , 3000 , 3100 , 3200 , 3300 , 3400 , 3500 , 3600 , 3700 , 3800 , 3900 , 4000 , 4100 , 4200 , 4300 , 4400 , 4500 , 4600 , 4700 , 4800 , 4900 , 5000 , 5100 , 5200 , 5300 , 5400 , 5500 , 5600 , 5700 , 5800 , 5900 , 6000 , 6100 , 6200 , 6300 , 6400 , 6500 , 6600 , 6700 , 6800 , 6900 , 7000 , 7100 , 7200 , 7300 , 7400 , 7500 , 7600 , 7700 , 7800 , 7900 , 8000 , 8100 , 8200 , 8300 , 8400 , 8500 , 8600 , 8700 , 8800 , 8900 , 9000 , 9100 , 9200 , 9300 , 9400 , 9500 , 9600 , 9700 , 9800 , 9900 , \n",
            "Writing TFRecord 2 of 6...\n",
            "100 , 200 , 300 , 400 , 500 , 600 , 700 , 800 , 900 , 1000 , 1100 , 1200 , 1300 , 1400 , 1500 , 1600 , 1700 , 1800 , 1900 , 2000 , 2100 , 2200 , 2300 , 2400 , 2500 , 2600 , 2700 , 2800 , 2900 , 3000 , 3100 , 3200 , 3300 , 3400 , 3500 , 3600 , 3700 , 3800 , 3900 , 4000 , 4100 , 4200 , 4300 , 4400 , 4500 , 4600 , 4700 , 4800 , 4900 , 5000 , 5100 , 5200 , 5300 , 5400 , 5500 , 5600 , 5700 , 5800 , 5900 , 6000 , 6100 , 6200 , 6300 , 6400 , 6500 , 6600 , 6700 , 6800 , 6900 , 7000 , 7100 , 7200 , 7300 , 7400 , 7500 , 7600 , 7700 , 7800 , 7900 , 8000 , 8100 , 8200 , 8300 , 8400 , 8500 , 8600 , 8700 , 8800 , 8900 , 9000 , 9100 , 9200 , 9300 , 9400 , 9500 , 9600 , 9700 , 9800 , 9900 , \n",
            "Writing TFRecord 3 of 6...\n",
            "100 , 200 , 300 , 400 , 500 , 600 , 700 , 800 , 900 , 1000 , 1100 , 1200 , 1300 , 1400 , 1500 , 1600 , 1700 , 1800 , 1900 , 2000 , 2100 , 2200 , 2300 , 2400 , 2500 , 2600 , 2700 , 2800 , 2900 , 3000 , 3100 , 3200 , 3300 , 3400 , 3500 , 3600 , 3700 , 3800 , 3900 , 4000 , 4100 , 4200 , 4300 , 4400 , 4500 , 4600 , 4700 , 4800 , 4900 , 5000 , 5100 , 5200 , 5300 , 5400 , 5500 , 5600 , 5700 , 5800 , 5900 , 6000 , 6100 , 6200 , 6300 , 6400 , 6500 , 6600 , 6700 , 6800 , 6900 , 7000 , 7100 , 7200 , 7300 , 7400 , 7500 , 7600 , 7700 , 7800 , 7900 , 8000 , 8100 , 8200 , 8300 , 8400 , 8500 , 8600 , 8700 , 8800 , 8900 , 9000 , 9100 , 9200 , 9300 , 9400 , 9500 , 9600 , 9700 , 9800 , 9900 , \n",
            "Writing TFRecord 4 of 6...\n",
            "100 , 200 , 300 , 400 , 500 , 600 , 700 , 800 , 900 , 1000 , 1100 , 1200 , 1300 , 1400 , 1500 , 1600 , 1700 , 1800 , 1900 , 2000 , 2100 , 2200 , 2300 , 2400 , 2500 , 2600 , 2700 , 2800 , 2900 , 3000 , 3100 , 3200 , 3300 , 3400 , 3500 , 3600 , 3700 , 3800 , 3900 , 4000 , 4100 , 4200 , 4300 , 4400 , 4500 , 4600 , 4700 , 4800 , 4900 , 5000 , 5100 , 5200 , 5300 , 5400 , 5500 , 5600 , 5700 , 5800 , 5900 , 6000 , 6100 , 6200 , 6300 , 6400 , 6500 , 6600 , 6700 , 6800 , 6900 , 7000 , 7100 , 7200 , 7300 , 7400 , 7500 , 7600 , 7700 , 7800 , 7900 , 8000 , 8100 , 8200 , 8300 , 8400 , 8500 , 8600 , 8700 , 8800 , 8900 , 9000 , 9100 , 9200 , 9300 , 9400 , 9500 , 9600 , 9700 , 9800 , 9900 , \n",
            "Writing TFRecord 5 of 6...\n"
          ],
          "name": "stdout"
        }
      ]
    },
    {
      "cell_type": "code",
      "metadata": {
        "id": "SrbBuNWXnd90",
        "colab_type": "code",
        "colab": {}
      },
      "source": [
        "def decode_image(image_data):\n",
        "    image = tf.image.decode_jpeg(image_data, channels=3)\n",
        "    image = tf.cast(image, tf.float32) / 255.0  # convert image to floats in [0, 1] range\n",
        "    image = tf.reshape(image, [*IMAGE_SIZE]) # explicit size needed for TPU\n",
        "    print(image)\n",
        "    return image\n",
        "\n",
        "def read_labeled_tfrecord(example):\n",
        "    LABELED_TFREC_FORMAT = {\n",
        "        \"image\": tf.io.FixedLenFeature([], tf.string), # tf.string means bytestring\n",
        "        \"image_name\": tf.io.FixedLenFeature([], tf.int64),  # shape [] means single element\n",
        "        \"sizes\": tf.io.FixedLenSequenceFeature([], tf.int64, allow_missing=True),\n",
        "        \"labels\": tf.io.FixedLenFeature([], tf.string)\n",
        "    }\n",
        "    example = tf.io.parse_single_example(example, LABELED_TFREC_FORMAT)\n",
        "    sizes = example['sizes']\n",
        "    image = decode_image(example['image'])\n",
        "    image_name = example['image_name']\n",
        "    labels = example['labels']\n",
        "    \n",
        "    return image, labels, image_name, sizes # returns a dataset of (image, label) pairs\n",
        "\n",
        "def load_dataset(filenames, labeled=True, ordered=False):\n",
        "    # Read from TFRecords. For optimal performance, reading from multiple files at once and\n",
        "    # disregarding data order. Order does not matter since we will be shuffling the data anyway.\n",
        "\n",
        "    ignore_order = tf.data.Options()\n",
        "    if not ordered:\n",
        "        ignore_order.experimental_deterministic = False # disable order, increase speed\n",
        "\n",
        "    dataset = tf.data.TFRecordDataset(filenames, num_parallel_reads=AUTO) # automatically interleaves reads from multiple files\n",
        "    dataset = dataset.with_options(ignore_order) # uses data as soon as it streams in, rather than in its original order\n",
        "    dataset = dataset.map(read_labeled_tfrecord)\n",
        "    # returns a dataset of (image, label) pairs if labeled=True or (image, id) pairs if labeled=False\n",
        "    return dataset\n",
        "\n",
        "def get_training_dataset():\n",
        "    dataset = load_dataset(TRAINING_FILENAMES, labeled=True)\n",
        "    dataset = dataset.repeat() # the training dataset must repeat for several epochs\n",
        "    dataset = dataset.shuffle(2048)\n",
        "    dataset = dataset.batch(BATCH_SIZE)\n",
        "    dataset = dataset.prefetch(AUTO) # prefetch next batch while training (autotune prefetch buffer size)\n",
        "    return dataset\n",
        "\n",
        "def count_data_items(filenames):\n",
        "    # the number of data items is written in the name of the .tfrec files, i.e. flowers00-230.tfrec = 230 data items\n",
        "    n = [int(re.compile(r\"-([0-9]*)\\.\").search(filename).group(1)) for filename in filenames]\n",
        "    return np.sum(n)"
      ],
      "execution_count": null,
      "outputs": []
    },
    {
      "cell_type": "code",
      "metadata": {
        "id": "pRAn1xTiobLp",
        "colab_type": "code",
        "colab": {
          "base_uri": "https://localhost:8080/",
          "height": 333
        },
        "outputId": "71ae5ebb-e16d-4e46-acc8-f63c71e085c6"
      },
      "source": [
        "BATCH_SIZE = 32\n",
        "IMAGE_SIZE= [220,32]\n",
        "AUTO = tf.data.experimental.AUTOTUNE\n",
        "TRAINING_FILENAMES = tf.io.gfile.glob('/content/gdrive/My Drive/tfrecord/*.tfrec')\n",
        "print('There are %i train images'%count_data_items(TRAINING_FILENAMES))\n"
      ],
      "execution_count": null,
      "outputs": [
        {
          "output_type": "error",
          "ename": "NotFoundError",
          "evalue": "ignored",
          "traceback": [
            "\u001b[0;31m---------------------------------------------------------------------------\u001b[0m",
            "\u001b[0;31mNotFoundError\u001b[0m                             Traceback (most recent call last)",
            "\u001b[0;32m<ipython-input-17-06e38aeb1731>\u001b[0m in \u001b[0;36m<module>\u001b[0;34m()\u001b[0m\n\u001b[1;32m      2\u001b[0m \u001b[0mIMAGE_SIZE\u001b[0m\u001b[0;34m=\u001b[0m \u001b[0;34m[\u001b[0m\u001b[0;36m220\u001b[0m\u001b[0;34m,\u001b[0m\u001b[0;36m32\u001b[0m\u001b[0;34m]\u001b[0m\u001b[0;34m\u001b[0m\u001b[0;34m\u001b[0m\u001b[0m\n\u001b[1;32m      3\u001b[0m \u001b[0mAUTO\u001b[0m \u001b[0;34m=\u001b[0m \u001b[0mtf\u001b[0m\u001b[0;34m.\u001b[0m\u001b[0mdata\u001b[0m\u001b[0;34m.\u001b[0m\u001b[0mexperimental\u001b[0m\u001b[0;34m.\u001b[0m\u001b[0mAUTOTUNE\u001b[0m\u001b[0;34m\u001b[0m\u001b[0;34m\u001b[0m\u001b[0m\n\u001b[0;32m----> 4\u001b[0;31m \u001b[0mTRAINING_FILENAMES\u001b[0m \u001b[0;34m=\u001b[0m \u001b[0mtf\u001b[0m\u001b[0;34m.\u001b[0m\u001b[0mio\u001b[0m\u001b[0;34m.\u001b[0m\u001b[0mgfile\u001b[0m\u001b[0;34m.\u001b[0m\u001b[0mglob\u001b[0m\u001b[0;34m(\u001b[0m\u001b[0;34m'/content/gdrive/My Drive/tfrecord/*.tfrec'\u001b[0m\u001b[0;34m)\u001b[0m\u001b[0;34m\u001b[0m\u001b[0;34m\u001b[0m\u001b[0m\n\u001b[0m\u001b[1;32m      5\u001b[0m \u001b[0mprint\u001b[0m\u001b[0;34m(\u001b[0m\u001b[0;34m'There are %i train images'\u001b[0m\u001b[0;34m%\u001b[0m\u001b[0mcount_data_items\u001b[0m\u001b[0;34m(\u001b[0m\u001b[0mTRAINING_FILENAMES\u001b[0m\u001b[0;34m)\u001b[0m\u001b[0;34m)\u001b[0m\u001b[0;34m\u001b[0m\u001b[0;34m\u001b[0m\u001b[0m\n",
            "\u001b[0;32m/usr/local/lib/python3.6/dist-packages/tensorflow/python/lib/io/file_io.py\u001b[0m in \u001b[0;36mget_matching_files_v2\u001b[0;34m(pattern)\u001b[0m\n\u001b[1;32m    407\u001b[0m         \u001b[0mcompat\u001b[0m\u001b[0;34m.\u001b[0m\u001b[0mas_str_any\u001b[0m\u001b[0;34m(\u001b[0m\u001b[0mmatching_filename\u001b[0m\u001b[0;34m)\u001b[0m\u001b[0;34m\u001b[0m\u001b[0;34m\u001b[0m\u001b[0m\n\u001b[1;32m    408\u001b[0m         for matching_filename in _pywrap_file_io.GetMatchingFiles(\n\u001b[0;32m--> 409\u001b[0;31m             compat.as_bytes(pattern))\n\u001b[0m\u001b[1;32m    410\u001b[0m     ]\n\u001b[1;32m    411\u001b[0m   \u001b[0;32melse\u001b[0m\u001b[0;34m:\u001b[0m\u001b[0;34m\u001b[0m\u001b[0;34m\u001b[0m\u001b[0m\n",
            "\u001b[0;31mNotFoundError\u001b[0m: /content/gdrive/My Drive/tfrecord; No such file or directory"
          ]
        }
      ]
    },
    {
      "cell_type": "code",
      "metadata": {
        "id": "Q25b94SPooiB",
        "colab_type": "code",
        "colab": {
          "base_uri": "https://localhost:8080/",
          "height": 34
        },
        "outputId": "0283ce0a-7f15-4b1f-a60e-8e404967858d"
      },
      "source": [
        "training_dataset = get_training_dataset()"
      ],
      "execution_count": null,
      "outputs": [
        {
          "output_type": "stream",
          "text": [
            "Tensor(\"Reshape:0\", shape=(220, 32), dtype=float32)\n"
          ],
          "name": "stdout"
        }
      ]
    },
    {
      "cell_type": "code",
      "metadata": {
        "id": "K2ygtj2lorcU",
        "colab_type": "code",
        "colab": {
          "base_uri": "https://localhost:8080/",
          "height": 54
        },
        "outputId": "386c8a35-4b68-4e2c-fe54-1e7eadfd9203"
      },
      "source": [
        "training_dataset"
      ],
      "execution_count": null,
      "outputs": [
        {
          "output_type": "execute_result",
          "data": {
            "text/plain": [
              "<PrefetchDataset shapes: ((None, 220, 32), (None,), (None,), (None, None)), types: (tf.float32, tf.string, tf.int64, tf.int64)>"
            ]
          },
          "metadata": {
            "tags": []
          },
          "execution_count": 10
        }
      ]
    },
    {
      "cell_type": "code",
      "metadata": {
        "id": "9NTT2_tPFIuW",
        "colab_type": "code",
        "colab": {
          "base_uri": "https://localhost:8080/",
          "height": 34
        },
        "outputId": "74ef49fe-5fd4-46be-c909-aadee4968b0e"
      },
      "source": [
        "%cd '/content'"
      ],
      "execution_count": 16,
      "outputs": [
        {
          "output_type": "stream",
          "text": [
            "/content\n"
          ],
          "name": "stdout"
        }
      ]
    },
    {
      "cell_type": "code",
      "metadata": {
        "id": "b6gM8C3HxoAM",
        "colab_type": "code",
        "colab": {
          "base_uri": "https://localhost:8080/",
          "height": 1000
        },
        "outputId": "e4f44573-af01-42fa-c387-31e34a706447"
      },
      "source": [
        "!git clone https://github.com/sanyam83/License-plate-recognition-using-YOLOv3.git\n",
        "from keras import backend as K\n",
        "from keras.optimizers import Adam\n",
        "from keras.callbacks import EarlyStopping, ModelCheckpoint\n",
        "%cd /content/License-plate-recognition-using-YOLOv3\n",
        "from crnn.Image_Generator import TextImageGenerator, labels_to_text\n",
        "from crnn.Model import *\n",
        "from tensorflow.keras.models import Sequential, load_model\n",
        "from crnn.parameter import *\n",
        "K.set_learning_phase(0)\n",
        "\n",
        "# # Model description and training\n",
        "\n",
        "model = get_Model(training=True)\n",
        "\n",
        "train_file_path = '/content/text_renderer/example_data/output'\n",
        "tiger_train = TextImageGenerator(train_file_path, img_w, img_h, batch_size, downsample_factor, df)\n",
        "tiger_train.build_data()\n",
        "\n",
        "\n",
        "ada = Adam(lr=1e-4)\n",
        "\n",
        "early_stop = EarlyStopping(monitor='loss', min_delta=0.001, patience=4, mode='min', verbose=1)\n",
        "checkpoint = ModelCheckpoint(filepath='LSTM+BN5--{epoch:02d}--{loss:.3f}.hdf5', monitor='loss', verbose=1, mode='min', period=1, save_best_only=True,)\n",
        "# the loss calc occurs elsewhere, so use a dummy lambda func for the loss\n",
        "model.compile(loss={'ctc': lambda y_true, y_pred: y_pred}, optimizer=ada, metrics=['accuracy'])\n",
        "\n",
        "'''model = load_model('/content/License-plate-recognition-using-YOLOv3/LSTM+BN5--100--0.657.hdf5', custom_objects={'<lambda>': lambda y_true, output: output})'''\n",
        "# captures output of softmax so we can decode the output during visualization\n",
        "history = model.fit_generator(generator=tiger_train.next_batch(),\n",
        "                    steps_per_epoch=int(tiger_train.n / batch_size),\n",
        "                    epochs=100,\n",
        "                    callbacks=[checkpoint])"
      ],
      "execution_count": 19,
      "outputs": [
        {
          "output_type": "stream",
          "text": [
            "WARNING:tensorflow:`period` argument is deprecated. Please use `save_freq` to specify the frequency in number of batches seen.\n",
            "Epoch 1/100\n",
            "781/781 [==============================] - ETA: 0s - loss: 25.2488 - accuracy: 0.0000e+00\n",
            "Epoch 00001: loss improved from inf to 25.24882, saving model to LSTM+BN5--01--25.249.hdf5\n",
            "781/781 [==============================] - 157s 201ms/step - loss: 25.2488 - accuracy: 0.0000e+00\n",
            "Epoch 2/100\n",
            "781/781 [==============================] - ETA: 0s - loss: 23.9622 - accuracy: 0.0000e+00\n",
            "Epoch 00002: loss improved from 25.24882 to 23.96222, saving model to LSTM+BN5--02--23.962.hdf5\n",
            "781/781 [==============================] - 157s 201ms/step - loss: 23.9622 - accuracy: 0.0000e+00\n",
            "Epoch 3/100\n",
            "781/781 [==============================] - ETA: 0s - loss: 23.5584 - accuracy: 0.0000e+00\n",
            "Epoch 00003: loss improved from 23.96222 to 23.55839, saving model to LSTM+BN5--03--23.558.hdf5\n",
            "781/781 [==============================] - 157s 201ms/step - loss: 23.5584 - accuracy: 0.0000e+00\n",
            "Epoch 4/100\n",
            "781/781 [==============================] - ETA: 0s - loss: 23.4109 - accuracy: 0.0000e+00\n",
            "Epoch 00004: loss improved from 23.55839 to 23.41087, saving model to LSTM+BN5--04--23.411.hdf5\n",
            "781/781 [==============================] - 157s 201ms/step - loss: 23.4109 - accuracy: 0.0000e+00\n",
            "Epoch 5/100\n",
            "781/781 [==============================] - ETA: 0s - loss: 23.1752 - accuracy: 0.0000e+00\n",
            "Epoch 00005: loss improved from 23.41087 to 23.17520, saving model to LSTM+BN5--05--23.175.hdf5\n",
            "781/781 [==============================] - 157s 201ms/step - loss: 23.1752 - accuracy: 0.0000e+00\n",
            "Epoch 6/100\n",
            "781/781 [==============================] - ETA: 0s - loss: 23.0476 - accuracy: 0.0000e+00\n",
            "Epoch 00006: loss improved from 23.17520 to 23.04765, saving model to LSTM+BN5--06--23.048.hdf5\n",
            "781/781 [==============================] - 157s 201ms/step - loss: 23.0476 - accuracy: 0.0000e+00\n",
            "Epoch 7/100\n",
            "781/781 [==============================] - ETA: 0s - loss: 22.8833 - accuracy: 0.0000e+00\n",
            "Epoch 00007: loss improved from 23.04765 to 22.88331, saving model to LSTM+BN5--07--22.883.hdf5\n",
            "781/781 [==============================] - 157s 201ms/step - loss: 22.8833 - accuracy: 0.0000e+00\n",
            "Epoch 8/100\n",
            "781/781 [==============================] - ETA: 0s - loss: 22.6524 - accuracy: 0.0000e+00\n",
            "Epoch 00008: loss improved from 22.88331 to 22.65240, saving model to LSTM+BN5--08--22.652.hdf5\n",
            "781/781 [==============================] - 157s 200ms/step - loss: 22.6524 - accuracy: 0.0000e+00\n",
            "Epoch 9/100\n",
            "781/781 [==============================] - ETA: 0s - loss: 22.1928 - accuracy: 0.0000e+00\n",
            "Epoch 00009: loss improved from 22.65240 to 22.19275, saving model to LSTM+BN5--09--22.193.hdf5\n",
            "781/781 [==============================] - 156s 200ms/step - loss: 22.1928 - accuracy: 0.0000e+00\n",
            "Epoch 10/100\n",
            "781/781 [==============================] - ETA: 0s - loss: 21.6017 - accuracy: 0.0000e+00\n",
            "Epoch 00010: loss improved from 22.19275 to 21.60167, saving model to LSTM+BN5--10--21.602.hdf5\n",
            "781/781 [==============================] - 157s 200ms/step - loss: 21.6017 - accuracy: 0.0000e+00\n",
            "Epoch 11/100\n",
            "781/781 [==============================] - ETA: 0s - loss: 20.7008 - accuracy: 0.0000e+00\n",
            "Epoch 00011: loss improved from 21.60167 to 20.70083, saving model to LSTM+BN5--11--20.701.hdf5\n",
            "781/781 [==============================] - 157s 200ms/step - loss: 20.7008 - accuracy: 0.0000e+00\n",
            "Epoch 12/100\n",
            "781/781 [==============================] - ETA: 0s - loss: 19.5177 - accuracy: 0.0000e+00\n",
            "Epoch 00012: loss improved from 20.70083 to 19.51771, saving model to LSTM+BN5--12--19.518.hdf5\n",
            "781/781 [==============================] - 157s 201ms/step - loss: 19.5177 - accuracy: 0.0000e+00\n",
            "Epoch 13/100\n",
            "781/781 [==============================] - ETA: 0s - loss: 18.2560 - accuracy: 0.0000e+00\n",
            "Epoch 00013: loss improved from 19.51771 to 18.25597, saving model to LSTM+BN5--13--18.256.hdf5\n",
            "781/781 [==============================] - 157s 200ms/step - loss: 18.2560 - accuracy: 0.0000e+00\n",
            "Epoch 14/100\n",
            "781/781 [==============================] - ETA: 0s - loss: 16.6981 - accuracy: 1.0003e-04\n",
            "Epoch 00014: loss improved from 18.25597 to 16.69814, saving model to LSTM+BN5--14--16.698.hdf5\n",
            "781/781 [==============================] - 156s 200ms/step - loss: 16.6981 - accuracy: 1.0003e-04\n",
            "Epoch 15/100\n",
            "781/781 [==============================] - ETA: 0s - loss: 15.1280 - accuracy: 2.8009e-04\n",
            "Epoch 00015: loss improved from 16.69814 to 15.12800, saving model to LSTM+BN5--15--15.128.hdf5\n",
            "781/781 [==============================] - 157s 200ms/step - loss: 15.1280 - accuracy: 2.8009e-04\n",
            "Epoch 16/100\n",
            "781/781 [==============================] - ETA: 0s - loss: 13.6565 - accuracy: 8.0026e-04\n",
            "Epoch 00016: loss improved from 15.12800 to 13.65649, saving model to LSTM+BN5--16--13.656.hdf5\n",
            "781/781 [==============================] - 156s 200ms/step - loss: 13.6565 - accuracy: 8.0026e-04\n",
            "Epoch 17/100\n",
            "781/781 [==============================] - ETA: 0s - loss: 12.1853 - accuracy: 0.0015\n",
            "Epoch 00017: loss improved from 13.65649 to 12.18531, saving model to LSTM+BN5--17--12.185.hdf5\n",
            "781/781 [==============================] - 157s 201ms/step - loss: 12.1853 - accuracy: 0.0015\n",
            "Epoch 18/100\n",
            "781/781 [==============================] - ETA: 0s - loss: 10.8428 - accuracy: 0.0031\n",
            "Epoch 00018: loss improved from 12.18531 to 10.84275, saving model to LSTM+BN5--18--10.843.hdf5\n",
            "781/781 [==============================] - 156s 200ms/step - loss: 10.8428 - accuracy: 0.0031\n",
            "Epoch 19/100\n",
            "781/781 [==============================] - ETA: 0s - loss: 9.5544 - accuracy: 0.0048\n",
            "Epoch 00019: loss improved from 10.84275 to 9.55436, saving model to LSTM+BN5--19--9.554.hdf5\n",
            "781/781 [==============================] - 157s 201ms/step - loss: 9.5544 - accuracy: 0.0048\n",
            "Epoch 20/100\n",
            "781/781 [==============================] - ETA: 0s - loss: 8.4492 - accuracy: 0.0076\n",
            "Epoch 00020: loss improved from 9.55436 to 8.44920, saving model to LSTM+BN5--20--8.449.hdf5\n",
            "781/781 [==============================] - 157s 201ms/step - loss: 8.4492 - accuracy: 0.0076\n",
            "Epoch 21/100\n",
            "781/781 [==============================] - ETA: 0s - loss: 7.3957 - accuracy: 0.0106\n",
            "Epoch 00021: loss improved from 8.44920 to 7.39574, saving model to LSTM+BN5--21--7.396.hdf5\n",
            "781/781 [==============================] - 157s 201ms/step - loss: 7.3957 - accuracy: 0.0106\n",
            "Epoch 22/100\n",
            "781/781 [==============================] - ETA: 0s - loss: 6.4844 - accuracy: 0.0153\n",
            "Epoch 00022: loss improved from 7.39574 to 6.48438, saving model to LSTM+BN5--22--6.484.hdf5\n",
            "781/781 [==============================] - 157s 201ms/step - loss: 6.4844 - accuracy: 0.0153\n",
            "Epoch 23/100\n",
            "781/781 [==============================] - ETA: 0s - loss: 5.7076 - accuracy: 0.0197\n",
            "Epoch 00023: loss improved from 6.48438 to 5.70758, saving model to LSTM+BN5--23--5.708.hdf5\n",
            "781/781 [==============================] - 156s 200ms/step - loss: 5.7076 - accuracy: 0.0197\n",
            "Epoch 24/100\n",
            "781/781 [==============================] - ETA: 0s - loss: 5.0114 - accuracy: 0.0273\n",
            "Epoch 00024: loss improved from 5.70758 to 5.01143, saving model to LSTM+BN5--24--5.011.hdf5\n",
            "781/781 [==============================] - 156s 200ms/step - loss: 5.0114 - accuracy: 0.0273\n",
            "Epoch 25/100\n",
            "781/781 [==============================] - ETA: 0s - loss: 4.4720 - accuracy: 0.0375\n",
            "Epoch 00025: loss improved from 5.01143 to 4.47200, saving model to LSTM+BN5--25--4.472.hdf5\n",
            "781/781 [==============================] - 156s 200ms/step - loss: 4.4720 - accuracy: 0.0375\n",
            "Epoch 26/100\n",
            "781/781 [==============================] - ETA: 0s - loss: 4.0195 - accuracy: 0.0485\n",
            "Epoch 00026: loss improved from 4.47200 to 4.01953, saving model to LSTM+BN5--26--4.020.hdf5\n",
            "781/781 [==============================] - 157s 201ms/step - loss: 4.0195 - accuracy: 0.0485\n",
            "Epoch 27/100\n",
            "781/781 [==============================] - ETA: 0s - loss: 3.6242 - accuracy: 0.0634\n",
            "Epoch 00027: loss improved from 4.01953 to 3.62421, saving model to LSTM+BN5--27--3.624.hdf5\n",
            "781/781 [==============================] - 157s 201ms/step - loss: 3.6242 - accuracy: 0.0634\n",
            "Epoch 28/100\n",
            "781/781 [==============================] - ETA: 0s - loss: 3.4238 - accuracy: 0.0751\n",
            "Epoch 00028: loss improved from 3.62421 to 3.42377, saving model to LSTM+BN5--28--3.424.hdf5\n",
            "781/781 [==============================] - 157s 201ms/step - loss: 3.4238 - accuracy: 0.0751\n",
            "Epoch 29/100\n",
            "781/781 [==============================] - ETA: 0s - loss: 2.9920 - accuracy: 0.0977\n",
            "Epoch 00029: loss improved from 3.42377 to 2.99203, saving model to LSTM+BN5--29--2.992.hdf5\n",
            "781/781 [==============================] - 157s 201ms/step - loss: 2.9920 - accuracy: 0.0977\n",
            "Epoch 30/100\n",
            "781/781 [==============================] - ETA: 0s - loss: 2.8627 - accuracy: 0.1129\n",
            "Epoch 00030: loss improved from 2.99203 to 2.86271, saving model to LSTM+BN5--30--2.863.hdf5\n",
            "781/781 [==============================] - 157s 201ms/step - loss: 2.8627 - accuracy: 0.1129\n",
            "Epoch 31/100\n",
            "781/781 [==============================] - ETA: 0s - loss: 2.7355 - accuracy: 0.1278\n",
            "Epoch 00031: loss improved from 2.86271 to 2.73551, saving model to LSTM+BN5--31--2.736.hdf5\n",
            "781/781 [==============================] - 157s 201ms/step - loss: 2.7355 - accuracy: 0.1278\n",
            "Epoch 32/100\n",
            "781/781 [==============================] - ETA: 0s - loss: 2.4744 - accuracy: 0.1522\n",
            "Epoch 00032: loss improved from 2.73551 to 2.47444, saving model to LSTM+BN5--32--2.474.hdf5\n",
            "781/781 [==============================] - 157s 201ms/step - loss: 2.4744 - accuracy: 0.1522\n",
            "Epoch 33/100\n",
            "781/781 [==============================] - ETA: 0s - loss: 2.4613 - accuracy: 0.1629\n",
            "Epoch 00033: loss improved from 2.47444 to 2.46129, saving model to LSTM+BN5--33--2.461.hdf5\n",
            "781/781 [==============================] - 157s 201ms/step - loss: 2.4613 - accuracy: 0.1629\n",
            "Epoch 34/100\n",
            "781/781 [==============================] - ETA: 0s - loss: 2.3290 - accuracy: 0.1792\n",
            "Epoch 00034: loss improved from 2.46129 to 2.32899, saving model to LSTM+BN5--34--2.329.hdf5\n",
            "781/781 [==============================] - 157s 201ms/step - loss: 2.3290 - accuracy: 0.1792\n",
            "Epoch 35/100\n",
            "781/781 [==============================] - ETA: 0s - loss: 2.2087 - accuracy: 0.2048\n",
            "Epoch 00035: loss improved from 2.32899 to 2.20873, saving model to LSTM+BN5--35--2.209.hdf5\n",
            "781/781 [==============================] - 157s 201ms/step - loss: 2.2087 - accuracy: 0.2048\n",
            "Epoch 36/100\n",
            "781/781 [==============================] - ETA: 0s - loss: 2.0948 - accuracy: 0.2218\n",
            "Epoch 00036: loss improved from 2.20873 to 2.09481, saving model to LSTM+BN5--36--2.095.hdf5\n",
            "781/781 [==============================] - 157s 201ms/step - loss: 2.0948 - accuracy: 0.2218\n",
            "Epoch 37/100\n",
            "781/781 [==============================] - ETA: 0s - loss: 2.0632 - accuracy: 0.2310\n",
            "Epoch 00037: loss improved from 2.09481 to 2.06321, saving model to LSTM+BN5--37--2.063.hdf5\n",
            "781/781 [==============================] - 157s 201ms/step - loss: 2.0632 - accuracy: 0.2310\n",
            "Epoch 38/100\n",
            "781/781 [==============================] - ETA: 0s - loss: 1.9957 - accuracy: 0.2470\n",
            "Epoch 00038: loss improved from 2.06321 to 1.99568, saving model to LSTM+BN5--38--1.996.hdf5\n",
            "781/781 [==============================] - 157s 201ms/step - loss: 1.9957 - accuracy: 0.2470\n",
            "Epoch 39/100\n",
            "781/781 [==============================] - ETA: 0s - loss: 1.9830 - accuracy: 0.2533\n",
            "Epoch 00039: loss improved from 1.99568 to 1.98300, saving model to LSTM+BN5--39--1.983.hdf5\n",
            "781/781 [==============================] - 157s 201ms/step - loss: 1.9830 - accuracy: 0.2533\n",
            "Epoch 40/100\n",
            "781/781 [==============================] - ETA: 0s - loss: 1.8462 - accuracy: 0.2763\n",
            "Epoch 00040: loss improved from 1.98300 to 1.84616, saving model to LSTM+BN5--40--1.846.hdf5\n",
            "781/781 [==============================] - 160s 205ms/step - loss: 1.8462 - accuracy: 0.2763\n",
            "Epoch 41/100\n",
            "781/781 [==============================] - ETA: 0s - loss: 1.8091 - accuracy: 0.2896\n",
            "Epoch 00041: loss improved from 1.84616 to 1.80909, saving model to LSTM+BN5--41--1.809.hdf5\n",
            "781/781 [==============================] - 158s 202ms/step - loss: 1.8091 - accuracy: 0.2896\n",
            "Epoch 42/100\n",
            "781/781 [==============================] - ETA: 0s - loss: 1.7578 - accuracy: 0.3055\n",
            "Epoch 00042: loss improved from 1.80909 to 1.75781, saving model to LSTM+BN5--42--1.758.hdf5\n",
            "781/781 [==============================] - 158s 202ms/step - loss: 1.7578 - accuracy: 0.3055\n",
            "Epoch 43/100\n",
            "781/781 [==============================] - ETA: 0s - loss: 1.7228 - accuracy: 0.3139\n",
            "Epoch 00043: loss improved from 1.75781 to 1.72285, saving model to LSTM+BN5--43--1.723.hdf5\n",
            "781/781 [==============================] - 158s 202ms/step - loss: 1.7228 - accuracy: 0.3139\n",
            "Epoch 44/100\n",
            "781/781 [==============================] - ETA: 0s - loss: 1.6593 - accuracy: 0.3236\n",
            "Epoch 00044: loss improved from 1.72285 to 1.65928, saving model to LSTM+BN5--44--1.659.hdf5\n",
            "781/781 [==============================] - 158s 202ms/step - loss: 1.6593 - accuracy: 0.3236\n",
            "Epoch 45/100\n",
            "781/781 [==============================] - ETA: 0s - loss: 1.6694 - accuracy: 0.3372\n",
            "Epoch 00045: loss did not improve from 1.65928\n",
            "781/781 [==============================] - 157s 201ms/step - loss: 1.6694 - accuracy: 0.3372\n",
            "Epoch 46/100\n",
            "781/781 [==============================] - ETA: 0s - loss: 1.5532 - accuracy: 0.3588\n",
            "Epoch 00046: loss improved from 1.65928 to 1.55318, saving model to LSTM+BN5--46--1.553.hdf5\n",
            "781/781 [==============================] - 157s 201ms/step - loss: 1.5532 - accuracy: 0.3588\n",
            "Epoch 47/100\n",
            "781/781 [==============================] - ETA: 0s - loss: 1.5429 - accuracy: 0.3621\n",
            "Epoch 00047: loss improved from 1.55318 to 1.54292, saving model to LSTM+BN5--47--1.543.hdf5\n",
            "781/781 [==============================] - 158s 202ms/step - loss: 1.5429 - accuracy: 0.3621\n",
            "Epoch 48/100\n",
            "781/781 [==============================] - ETA: 0s - loss: 1.4949 - accuracy: 0.3789\n",
            "Epoch 00048: loss improved from 1.54292 to 1.49487, saving model to LSTM+BN5--48--1.495.hdf5\n",
            "781/781 [==============================] - 157s 202ms/step - loss: 1.4949 - accuracy: 0.3789\n",
            "Epoch 49/100\n",
            "781/781 [==============================] - ETA: 0s - loss: 1.5196 - accuracy: 0.3761\n",
            "Epoch 00049: loss did not improve from 1.49487\n",
            "781/781 [==============================] - 157s 201ms/step - loss: 1.5196 - accuracy: 0.3761\n",
            "Epoch 50/100\n",
            "781/781 [==============================] - ETA: 0s - loss: 1.4260 - accuracy: 0.4009\n",
            "Epoch 00050: loss improved from 1.49487 to 1.42597, saving model to LSTM+BN5--50--1.426.hdf5\n",
            "781/781 [==============================] - 157s 201ms/step - loss: 1.4260 - accuracy: 0.4009\n",
            "Epoch 51/100\n",
            "781/781 [==============================] - ETA: 0s - loss: 1.4750 - accuracy: 0.3972\n",
            "Epoch 00051: loss did not improve from 1.42597\n",
            "781/781 [==============================] - 157s 201ms/step - loss: 1.4750 - accuracy: 0.3972\n",
            "Epoch 52/100\n",
            "781/781 [==============================] - ETA: 0s - loss: 1.3783 - accuracy: 0.4136\n",
            "Epoch 00052: loss improved from 1.42597 to 1.37826, saving model to LSTM+BN5--52--1.378.hdf5\n",
            "781/781 [==============================] - 157s 201ms/step - loss: 1.3783 - accuracy: 0.4136\n",
            "Epoch 53/100\n",
            "781/781 [==============================] - ETA: 0s - loss: 1.4698 - accuracy: 0.4027\n",
            "Epoch 00053: loss did not improve from 1.37826\n",
            "781/781 [==============================] - 157s 201ms/step - loss: 1.4698 - accuracy: 0.4027\n",
            "Epoch 54/100\n",
            "781/781 [==============================] - ETA: 0s - loss: 1.2887 - accuracy: 0.4446\n",
            "Epoch 00054: loss improved from 1.37826 to 1.28868, saving model to LSTM+BN5--54--1.289.hdf5\n",
            "781/781 [==============================] - 157s 201ms/step - loss: 1.2887 - accuracy: 0.4446\n",
            "Epoch 55/100\n",
            "781/781 [==============================] - ETA: 0s - loss: 1.2963 - accuracy: 0.4461\n",
            "Epoch 00055: loss did not improve from 1.28868\n",
            "781/781 [==============================] - 157s 201ms/step - loss: 1.2963 - accuracy: 0.4461\n",
            "Epoch 56/100\n",
            "781/781 [==============================] - ETA: 0s - loss: 1.3350 - accuracy: 0.4357\n",
            "Epoch 00056: loss did not improve from 1.28868\n",
            "781/781 [==============================] - 157s 201ms/step - loss: 1.3350 - accuracy: 0.4357\n",
            "Epoch 57/100\n",
            "781/781 [==============================] - ETA: 0s - loss: 1.2851 - accuracy: 0.4504\n",
            "Epoch 00057: loss improved from 1.28868 to 1.28507, saving model to LSTM+BN5--57--1.285.hdf5\n",
            "781/781 [==============================] - 157s 201ms/step - loss: 1.2851 - accuracy: 0.4504\n",
            "Epoch 58/100\n",
            "781/781 [==============================] - ETA: 0s - loss: 1.2625 - accuracy: 0.4592\n",
            "Epoch 00058: loss improved from 1.28507 to 1.26249, saving model to LSTM+BN5--58--1.262.hdf5\n",
            "781/781 [==============================] - 158s 202ms/step - loss: 1.2625 - accuracy: 0.4592\n",
            "Epoch 59/100\n",
            "781/781 [==============================] - ETA: 0s - loss: 1.2232 - accuracy: 0.4737\n",
            "Epoch 00059: loss improved from 1.26249 to 1.22322, saving model to LSTM+BN5--59--1.223.hdf5\n",
            "781/781 [==============================] - 157s 201ms/step - loss: 1.2232 - accuracy: 0.4737\n",
            "Epoch 60/100\n",
            "781/781 [==============================] - ETA: 0s - loss: 1.4141 - accuracy: 0.4389\n",
            "Epoch 00060: loss did not improve from 1.22322\n",
            "781/781 [==============================] - 157s 201ms/step - loss: 1.4141 - accuracy: 0.4389\n",
            "Epoch 61/100\n",
            "781/781 [==============================] - ETA: 0s - loss: 1.1113 - accuracy: 0.5034\n",
            "Epoch 00061: loss improved from 1.22322 to 1.11130, saving model to LSTM+BN5--61--1.111.hdf5\n",
            "781/781 [==============================] - 157s 202ms/step - loss: 1.1113 - accuracy: 0.5034\n",
            "Epoch 62/100\n",
            "781/781 [==============================] - ETA: 0s - loss: 1.0875 - accuracy: 0.5166\n",
            "Epoch 00062: loss improved from 1.11130 to 1.08745, saving model to LSTM+BN5--62--1.087.hdf5\n",
            "781/781 [==============================] - 157s 201ms/step - loss: 1.0875 - accuracy: 0.5166\n",
            "Epoch 63/100\n",
            "781/781 [==============================] - ETA: 0s - loss: 1.1933 - accuracy: 0.4903\n",
            "Epoch 00063: loss did not improve from 1.08745\n",
            "781/781 [==============================] - 157s 201ms/step - loss: 1.1933 - accuracy: 0.4903\n",
            "Epoch 64/100\n",
            "781/781 [==============================] - ETA: 0s - loss: 1.2194 - accuracy: 0.4851\n",
            "Epoch 00064: loss did not improve from 1.08745\n",
            "781/781 [==============================] - 157s 201ms/step - loss: 1.2194 - accuracy: 0.4851\n",
            "Epoch 65/100\n",
            "781/781 [==============================] - ETA: 0s - loss: 1.1559 - accuracy: 0.5010\n",
            "Epoch 00065: loss did not improve from 1.08745\n",
            "781/781 [==============================] - 157s 201ms/step - loss: 1.1559 - accuracy: 0.5010\n",
            "Epoch 66/100\n",
            "781/781 [==============================] - ETA: 0s - loss: 1.1555 - accuracy: 0.5061\n",
            "Epoch 00066: loss did not improve from 1.08745\n",
            "781/781 [==============================] - 158s 202ms/step - loss: 1.1555 - accuracy: 0.5061\n",
            "Epoch 67/100\n",
            "781/781 [==============================] - ETA: 0s - loss: 1.0461 - accuracy: 0.5358\n",
            "Epoch 00067: loss improved from 1.08745 to 1.04614, saving model to LSTM+BN5--67--1.046.hdf5\n",
            "781/781 [==============================] - 157s 202ms/step - loss: 1.0461 - accuracy: 0.5358\n",
            "Epoch 68/100\n",
            "781/781 [==============================] - ETA: 0s - loss: 1.0420 - accuracy: 0.5406\n",
            "Epoch 00068: loss improved from 1.04614 to 1.04196, saving model to LSTM+BN5--68--1.042.hdf5\n",
            "781/781 [==============================] - 157s 201ms/step - loss: 1.0420 - accuracy: 0.5406\n",
            "Epoch 69/100\n",
            "781/781 [==============================] - ETA: 0s - loss: 1.1753 - accuracy: 0.5048\n",
            "Epoch 00069: loss did not improve from 1.04196\n",
            "781/781 [==============================] - 157s 201ms/step - loss: 1.1753 - accuracy: 0.5048\n",
            "Epoch 70/100\n",
            "781/781 [==============================] - ETA: 0s - loss: 0.9771 - accuracy: 0.5618\n",
            "Epoch 00070: loss improved from 1.04196 to 0.97706, saving model to LSTM+BN5--70--0.977.hdf5\n",
            "781/781 [==============================] - 158s 202ms/step - loss: 0.9771 - accuracy: 0.5618\n",
            "Epoch 71/100\n",
            "781/781 [==============================] - ETA: 0s - loss: 1.0049 - accuracy: 0.5519\n",
            "Epoch 00071: loss did not improve from 0.97706\n",
            "781/781 [==============================] - 157s 201ms/step - loss: 1.0049 - accuracy: 0.5519\n",
            "Epoch 72/100\n",
            "781/781 [==============================] - ETA: 0s - loss: 1.0592 - accuracy: 0.5386\n",
            "Epoch 00072: loss did not improve from 0.97706\n",
            "781/781 [==============================] - 157s 201ms/step - loss: 1.0592 - accuracy: 0.5386\n",
            "Epoch 73/100\n",
            "545/781 [===================>..........] - ETA: 47s - loss: 1.0312 - accuracy: 0.5424Buffered data was truncated after reaching the output size limit."
          ],
          "name": "stdout"
        }
      ]
    },
    {
      "cell_type": "code",
      "metadata": {
        "id": "DxKHg6EIZYg7",
        "colab_type": "code",
        "colab": {
          "base_uri": "https://localhost:8080/",
          "height": 1000
        },
        "outputId": "a3d831b1-15c2-485c-c451-c13b62e01fe7"
      },
      "source": [
        "#Training for 20 more epochs\n",
        "model = load_model('/content/gdrive/My Drive/crnn_checkpoint/LSTM+BN5--94--0.668.hdf5', custom_objects={'<lambda>': lambda y_true, output: output})\n",
        "# captures output of softmax so we can decode the output during visualization\n",
        "model.fit_generator(generator=tiger_train.next_batch(),\n",
        "                    steps_per_epoch=int(tiger_train.n / batch_size),\n",
        "                    epochs=20,\n",
        "                    callbacks=[checkpoint])"
      ],
      "execution_count": 42,
      "outputs": [
        {
          "output_type": "stream",
          "text": [
            "Epoch 1/20\n",
            "781/781 [==============================] - ETA: 0s - loss: 0.6588 - accuracy: 0.6951\n",
            "Epoch 00001: loss improved from 0.66801 to 0.65881, saving model to /content/gdrive/My Drive/crnn_checkpoint/LSTM+BN5--01--0.659.hdf5\n",
            "781/781 [==============================] - 73s 94ms/step - loss: 0.6588 - accuracy: 0.6951\n",
            "Epoch 2/20\n",
            "781/781 [==============================] - ETA: 0s - loss: 0.8333 - accuracy: 0.6281\n",
            "Epoch 00002: loss did not improve from 0.65881\n",
            "781/781 [==============================] - 73s 93ms/step - loss: 0.8333 - accuracy: 0.6281\n",
            "Epoch 3/20\n",
            "781/781 [==============================] - ETA: 0s - loss: 0.8013 - accuracy: 0.6405\n",
            "Epoch 00003: loss did not improve from 0.65881\n",
            "781/781 [==============================] - 72s 93ms/step - loss: 0.8013 - accuracy: 0.6405\n",
            "Epoch 4/20\n",
            "781/781 [==============================] - ETA: 0s - loss: 0.7019 - accuracy: 0.6769\n",
            "Epoch 00004: loss did not improve from 0.65881\n",
            "781/781 [==============================] - 72s 93ms/step - loss: 0.7019 - accuracy: 0.6769\n",
            "Epoch 5/20\n",
            "781/781 [==============================] - ETA: 0s - loss: 0.9149 - accuracy: 0.6123\n",
            "Epoch 00005: loss did not improve from 0.65881\n",
            "781/781 [==============================] - 72s 93ms/step - loss: 0.9149 - accuracy: 0.6123\n",
            "Epoch 6/20\n",
            "781/781 [==============================] - ETA: 0s - loss: 0.6024 - accuracy: 0.7168\n",
            "Epoch 00006: loss improved from 0.65881 to 0.60237, saving model to /content/gdrive/My Drive/crnn_checkpoint/LSTM+BN5--06--0.602.hdf5\n",
            "781/781 [==============================] - 73s 93ms/step - loss: 0.6024 - accuracy: 0.7168\n",
            "Epoch 7/20\n",
            "781/781 [==============================] - ETA: 0s - loss: 0.7323 - accuracy: 0.6669\n",
            "Epoch 00007: loss did not improve from 0.60237\n",
            "781/781 [==============================] - 72s 93ms/step - loss: 0.7323 - accuracy: 0.6669\n",
            "Epoch 8/20\n",
            "781/781 [==============================] - ETA: 0s - loss: 0.7436 - accuracy: 0.6616\n",
            "Epoch 00008: loss did not improve from 0.60237\n",
            "781/781 [==============================] - 72s 93ms/step - loss: 0.7436 - accuracy: 0.6616\n",
            "Epoch 9/20\n",
            "781/781 [==============================] - ETA: 0s - loss: 0.7705 - accuracy: 0.6586\n",
            "Epoch 00009: loss did not improve from 0.60237\n",
            "781/781 [==============================] - 73s 93ms/step - loss: 0.7705 - accuracy: 0.6586\n",
            "Epoch 10/20\n",
            "781/781 [==============================] - ETA: 0s - loss: 0.6232 - accuracy: 0.7104\n",
            "Epoch 00010: loss did not improve from 0.60237\n",
            "781/781 [==============================] - 73s 93ms/step - loss: 0.6232 - accuracy: 0.7104\n",
            "Epoch 11/20\n",
            "781/781 [==============================] - ETA: 0s - loss: 0.6944 - accuracy: 0.6823\n",
            "Epoch 00011: loss did not improve from 0.60237\n",
            "781/781 [==============================] - 73s 93ms/step - loss: 0.6944 - accuracy: 0.6823\n",
            "Epoch 12/20\n",
            "781/781 [==============================] - ETA: 0s - loss: 0.7086 - accuracy: 0.6748\n",
            "Epoch 00012: loss did not improve from 0.60237\n",
            "781/781 [==============================] - 73s 93ms/step - loss: 0.7086 - accuracy: 0.6748\n",
            "Epoch 13/20\n",
            "781/781 [==============================] - ETA: 0s - loss: 0.7231 - accuracy: 0.6744\n",
            "Epoch 00013: loss did not improve from 0.60237\n",
            "781/781 [==============================] - 73s 93ms/step - loss: 0.7231 - accuracy: 0.6744\n",
            "Epoch 14/20\n",
            "781/781 [==============================] - ETA: 0s - loss: 0.6420 - accuracy: 0.7035\n",
            "Epoch 00014: loss did not improve from 0.60237\n",
            "781/781 [==============================] - 73s 93ms/step - loss: 0.6420 - accuracy: 0.7035\n",
            "Epoch 15/20\n",
            "781/781 [==============================] - ETA: 0s - loss: 0.6560 - accuracy: 0.6983\n",
            "Epoch 00015: loss did not improve from 0.60237\n",
            "781/781 [==============================] - 73s 93ms/step - loss: 0.6560 - accuracy: 0.6983\n",
            "Epoch 16/20\n",
            "781/781 [==============================] - ETA: 0s - loss: 0.8504 - accuracy: 0.6390\n",
            "Epoch 00016: loss did not improve from 0.60237\n",
            "781/781 [==============================] - 72s 93ms/step - loss: 0.8504 - accuracy: 0.6390\n",
            "Epoch 17/20\n",
            "781/781 [==============================] - ETA: 0s - loss: 0.6426 - accuracy: 0.7091\n",
            "Epoch 00017: loss did not improve from 0.60237\n",
            "781/781 [==============================] - 73s 93ms/step - loss: 0.6426 - accuracy: 0.7091\n",
            "Epoch 18/20\n",
            "781/781 [==============================] - ETA: 0s - loss: 0.6166 - accuracy: 0.7184\n",
            "Epoch 00018: loss did not improve from 0.60237\n",
            "781/781 [==============================] - 73s 94ms/step - loss: 0.6166 - accuracy: 0.7184\n",
            "Epoch 19/20\n",
            "781/781 [==============================] - ETA: 0s - loss: 0.6257 - accuracy: 0.7158\n",
            "Epoch 00019: loss did not improve from 0.60237\n",
            "781/781 [==============================] - 73s 94ms/step - loss: 0.6257 - accuracy: 0.7158\n",
            "Epoch 20/20\n",
            "781/781 [==============================] - ETA: 0s - loss: 0.6878 - accuracy: 0.6907\n",
            "Epoch 00020: loss did not improve from 0.60237\n",
            "781/781 [==============================] - 73s 94ms/step - loss: 0.6878 - accuracy: 0.6907\n"
          ],
          "name": "stdout"
        },
        {
          "output_type": "execute_result",
          "data": {
            "text/plain": [
              "<tensorflow.python.keras.callbacks.History at 0x7f968dd2cc18>"
            ]
          },
          "metadata": {
            "tags": []
          },
          "execution_count": 42
        }
      ]
    },
    {
      "cell_type": "code",
      "metadata": {
        "id": "0nb3XDl79nEX",
        "colab_type": "code",
        "colab": {}
      },
      "source": [
        "import cv2\n",
        "import itertools, os, time\n",
        "import numpy as np\n",
        "from crnn.Model import get_Model\n",
        "from crnn.parameter import letters\n",
        "import argparse\n",
        "from keras import backend as K\n",
        "K.set_learning_phase(0)"
      ],
      "execution_count": 20,
      "outputs": []
    },
    {
      "cell_type": "code",
      "metadata": {
        "id": "ot2-osHEN-SC",
        "colab_type": "code",
        "colab": {}
      },
      "source": [
        "model = get_Model(training=False)\n",
        "model.load_weights('/content/gdrive/My Drive/crnn_checkpoint/LSTM+BN5--06--0.602.hdf5')"
      ],
      "execution_count": 43,
      "outputs": []
    },
    {
      "cell_type": "code",
      "metadata": {
        "id": "cHnv91QmOdj4",
        "colab_type": "code",
        "colab": {}
      },
      "source": [
        "def decode_label(out):\n",
        "    # out : (1, 32, 42)\n",
        "    out_best = list(np.argmax(out[0, 2:], axis=1))  # get max index -> len = 32\n",
        "    out_best = [k for k, g in itertools.groupby(out_best)]  # remove overlap value\n",
        "    outstr = ''\n",
        "    for i in out_best:\n",
        "        if i < len(letters):\n",
        "            outstr += letters[i]\n",
        "    return outstr"
      ],
      "execution_count": 20,
      "outputs": []
    },
    {
      "cell_type": "code",
      "metadata": {
        "id": "FdhEGMxr6cA8",
        "colab_type": "code",
        "colab": {}
      },
      "source": [
        "!sudo apt install tesseract-ocr\n",
        "!pip install pytesseract\n",
        "import pytesseract"
      ],
      "execution_count": null,
      "outputs": []
    },
    {
      "cell_type": "code",
      "metadata": {
        "id": "vPlTwpxCzb88",
        "colab_type": "code",
        "colab": {}
      },
      "source": [
        "img = cv2.imread('/content/text_renderer/example_data/output/extra_text_line_data/images/000040054.jpg', cv2.IMREAD_GRAYSCALE)\n",
        "\n",
        "img_pred = img.astype(np.float32)\n",
        "img_pred = cv2.resize(img_pred, (32, 128))\n",
        "img_pred = (img_pred / 255.0) * 2.0 - 1.0\n",
        "img_pred = np.expand_dims(img_pred, axis=-1)\n",
        "img_pred = np.expand_dims(img_pred, axis=0)\n",
        "net_out_value = model.predict(img_pred)\n",
        "pred_texts = decode_label(net_out_value)\n"
      ],
      "execution_count": 68,
      "outputs": []
    },
    {
      "cell_type": "code",
      "metadata": {
        "id": "BcUZRDGiOtcY",
        "colab_type": "code",
        "colab": {
          "base_uri": "https://localhost:8080/",
          "height": 35
        },
        "outputId": "ae05fd7c-8501-495a-9e6c-1fb2129323f6"
      },
      "source": [
        "pred_texts"
      ],
      "execution_count": 69,
      "outputs": [
        {
          "output_type": "execute_result",
          "data": {
            "application/vnd.google.colaboratory.intrinsic+json": {
              "type": "string"
            },
            "text/plain": [
              "'TEEFOHENHE'"
            ]
          },
          "metadata": {
            "tags": []
          },
          "execution_count": 69
        }
      ]
    },
    {
      "cell_type": "code",
      "metadata": {
        "id": "LK50S5JU76zm",
        "colab_type": "code",
        "colab": {
          "base_uri": "https://localhost:8080/",
          "height": 333
        },
        "outputId": "1ab6c94a-8f19-42fd-9899-f54f58e98e5f"
      },
      "source": [
        "from PIL import Image\n",
        "im = Image.open(\"/content/5.png\")\n",
        "text = pytesseract.image_to_string(im)\n",
        "print(text) "
      ],
      "execution_count": 70,
      "outputs": [
        {
          "output_type": "error",
          "ename": "UnidentifiedImageError",
          "evalue": "ignored",
          "traceback": [
            "\u001b[0;31m---------------------------------------------------------------------------\u001b[0m",
            "\u001b[0;31mUnidentifiedImageError\u001b[0m                    Traceback (most recent call last)",
            "\u001b[0;32m<ipython-input-70-777c45a10acb>\u001b[0m in \u001b[0;36m<module>\u001b[0;34m()\u001b[0m\n\u001b[1;32m      1\u001b[0m \u001b[0;32mfrom\u001b[0m \u001b[0mPIL\u001b[0m \u001b[0;32mimport\u001b[0m \u001b[0mImage\u001b[0m\u001b[0;34m\u001b[0m\u001b[0;34m\u001b[0m\u001b[0m\n\u001b[0;32m----> 2\u001b[0;31m \u001b[0mim\u001b[0m \u001b[0;34m=\u001b[0m \u001b[0mImage\u001b[0m\u001b[0;34m.\u001b[0m\u001b[0mopen\u001b[0m\u001b[0;34m(\u001b[0m\u001b[0;34m\"/content/5.png\"\u001b[0m\u001b[0;34m)\u001b[0m\u001b[0;34m\u001b[0m\u001b[0;34m\u001b[0m\u001b[0m\n\u001b[0m\u001b[1;32m      3\u001b[0m \u001b[0mtext\u001b[0m \u001b[0;34m=\u001b[0m \u001b[0mpytesseract\u001b[0m\u001b[0;34m.\u001b[0m\u001b[0mimage_to_string\u001b[0m\u001b[0;34m(\u001b[0m\u001b[0mim\u001b[0m\u001b[0;34m)\u001b[0m\u001b[0;34m\u001b[0m\u001b[0;34m\u001b[0m\u001b[0m\n\u001b[1;32m      4\u001b[0m \u001b[0mprint\u001b[0m\u001b[0;34m(\u001b[0m\u001b[0mtext\u001b[0m\u001b[0;34m)\u001b[0m\u001b[0;34m\u001b[0m\u001b[0;34m\u001b[0m\u001b[0m\n",
            "\u001b[0;32m/usr/local/lib/python3.6/dist-packages/PIL/Image.py\u001b[0m in \u001b[0;36mopen\u001b[0;34m(fp, mode)\u001b[0m\n\u001b[1;32m   2860\u001b[0m     \u001b[0;32mreturn\u001b[0m \u001b[0mim1\u001b[0m\u001b[0;34m.\u001b[0m\u001b[0m_new\u001b[0m\u001b[0;34m(\u001b[0m\u001b[0mcore\u001b[0m\u001b[0;34m.\u001b[0m\u001b[0mblend\u001b[0m\u001b[0;34m(\u001b[0m\u001b[0mim1\u001b[0m\u001b[0;34m.\u001b[0m\u001b[0mim\u001b[0m\u001b[0;34m,\u001b[0m \u001b[0mim2\u001b[0m\u001b[0;34m.\u001b[0m\u001b[0mim\u001b[0m\u001b[0;34m,\u001b[0m \u001b[0malpha\u001b[0m\u001b[0;34m)\u001b[0m\u001b[0;34m)\u001b[0m\u001b[0;34m\u001b[0m\u001b[0;34m\u001b[0m\u001b[0m\n\u001b[1;32m   2861\u001b[0m \u001b[0;34m\u001b[0m\u001b[0m\n\u001b[0;32m-> 2862\u001b[0;31m \u001b[0;34m\u001b[0m\u001b[0m\n\u001b[0m\u001b[1;32m   2863\u001b[0m \u001b[0;32mdef\u001b[0m \u001b[0mcomposite\u001b[0m\u001b[0;34m(\u001b[0m\u001b[0mimage1\u001b[0m\u001b[0;34m,\u001b[0m \u001b[0mimage2\u001b[0m\u001b[0;34m,\u001b[0m \u001b[0mmask\u001b[0m\u001b[0;34m)\u001b[0m\u001b[0;34m:\u001b[0m\u001b[0;34m\u001b[0m\u001b[0;34m\u001b[0m\u001b[0m\n\u001b[1;32m   2864\u001b[0m     \"\"\"\n",
            "\u001b[0;31mUnidentifiedImageError\u001b[0m: cannot identify image file '/content/5.png'"
          ]
        }
      ]
    },
    {
      "cell_type": "code",
      "metadata": {
        "id": "S8wcMSwJpysY",
        "colab_type": "code",
        "colab": {}
      },
      "source": [
        "import matplotlib.pyplot as plt\n",
        "import numpy"
      ],
      "execution_count": 22,
      "outputs": []
    },
    {
      "cell_type": "code",
      "metadata": {
        "id": "Vcz1CyPYV8wA",
        "colab_type": "code",
        "colab": {
          "base_uri": "https://localhost:8080/",
          "height": 590
        },
        "outputId": "65c03c61-79cb-499b-f096-9b705a9b21d3"
      },
      "source": [
        "print(history.history.keys())\n",
        "# summarize history for accuracy\n",
        "plt.plot(history.history['accuracy'])\n",
        "plt.title('model accuracy')\n",
        "plt.ylabel('accuracy')\n",
        "plt.xlabel('epoch')\n",
        "plt.legend(['train'], loc='upper left')\n",
        "plt.show()\n",
        "# summarize history for loss\n",
        "plt.plot(history.history['loss'])\n",
        "plt.title('model loss')\n",
        "plt.ylabel('loss')\n",
        "plt.xlabel('epoch')\n",
        "plt.legend(['train'], loc='upper left')\n",
        "plt.show()"
      ],
      "execution_count": 23,
      "outputs": [
        {
          "output_type": "stream",
          "text": [
            "dict_keys(['loss', 'accuracy'])\n"
          ],
          "name": "stdout"
        },
        {
          "output_type": "display_data",
          "data": {
            "image/png": "[encoded data removed]",
            "text/plain": [
              "<Figure size 432x288 with 1 Axes>"
            ]
          },
          "metadata": {
            "tags": [],
            "needs_background": "light"
          }
        },
        {
          "output_type": "display_data",
          "data": {
            "image/png": "[encoded data removed]",
            "text/plain": [
              "<Figure size 432x288 with 1 Axes>"
            ]
          },
          "metadata": {
            "tags": [],
            "needs_background": "light"
          }
        }
      ]
    },
    {
      "cell_type": "code",
      "metadata": {
        "id": "eC2CC76SpO3L",
        "colab_type": "code",
        "colab": {}
      },
      "source": [
        ""
      ],
      "execution_count": null,
      "outputs": []
    }
  ]
}